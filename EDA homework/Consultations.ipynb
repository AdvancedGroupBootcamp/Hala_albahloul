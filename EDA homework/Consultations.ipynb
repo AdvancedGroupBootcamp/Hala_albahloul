{
 "cells": [
  {
   "cell_type": "code",
   "execution_count": 1,
   "id": "c28038f2",
   "metadata": {},
   "outputs": [],
   "source": [
    "#import necessary libraries\n",
    "import pandas as pd\n",
    "import datetime"
   ]
  },
  {
   "cell_type": "code",
   "execution_count": 2,
   "id": "91a04d36",
   "metadata": {},
   "outputs": [
    {
     "data": {
      "text/html": [
       "<div>\n",
       "<style scoped>\n",
       "    .dataframe tbody tr th:only-of-type {\n",
       "        vertical-align: middle;\n",
       "    }\n",
       "\n",
       "    .dataframe tbody tr th {\n",
       "        vertical-align: top;\n",
       "    }\n",
       "\n",
       "    .dataframe thead th {\n",
       "        text-align: right;\n",
       "    }\n",
       "</style>\n",
       "<table border=\"1\" class=\"dataframe\">\n",
       "  <thead>\n",
       "    <tr style=\"text-align: right;\">\n",
       "      <th></th>\n",
       "      <th>consultation_date</th>\n",
       "      <th>physician_id</th>\n",
       "      <th>patient_id</th>\n",
       "      <th>speciality</th>\n",
       "      <th>cim10</th>\n",
       "    </tr>\n",
       "  </thead>\n",
       "  <tbody>\n",
       "    <tr>\n",
       "      <th>0</th>\n",
       "      <td>2022-04-07T09:20:00</td>\n",
       "      <td>121</td>\n",
       "      <td>0</td>\n",
       "      <td>general-practician</td>\n",
       "      <td>Grippe, à virus grippal saisonnier identifié</td>\n",
       "    </tr>\n",
       "    <tr>\n",
       "      <th>1</th>\n",
       "      <td>2021-10-01T12:00:00</td>\n",
       "      <td>55</td>\n",
       "      <td>1</td>\n",
       "      <td>general-practician</td>\n",
       "      <td>Sinusite aiguë</td>\n",
       "    </tr>\n",
       "    <tr>\n",
       "      <th>2</th>\n",
       "      <td>2022-05-04T20:40:00</td>\n",
       "      <td>88</td>\n",
       "      <td>2</td>\n",
       "      <td>general-practician</td>\n",
       "      <td>Rhinopharyngite aiguë [rhume banal]</td>\n",
       "    </tr>\n",
       "    <tr>\n",
       "      <th>3</th>\n",
       "      <td>2022-07-22T21:30:00</td>\n",
       "      <td>128</td>\n",
       "      <td>3</td>\n",
       "      <td>general-practician</td>\n",
       "      <td>Autres cystites</td>\n",
       "    </tr>\n",
       "    <tr>\n",
       "      <th>4</th>\n",
       "      <td>2021-01-06T07:10:00</td>\n",
       "      <td>31</td>\n",
       "      <td>4</td>\n",
       "      <td>general-practician</td>\n",
       "      <td>Grippe, virus non identifié</td>\n",
       "    </tr>\n",
       "    <tr>\n",
       "      <th>...</th>\n",
       "      <td>...</td>\n",
       "      <td>...</td>\n",
       "      <td>...</td>\n",
       "      <td>...</td>\n",
       "      <td>...</td>\n",
       "    </tr>\n",
       "    <tr>\n",
       "      <th>4995</th>\n",
       "      <td>2021-08-31T15:40:00</td>\n",
       "      <td>0</td>\n",
       "      <td>4687</td>\n",
       "      <td>general-practician</td>\n",
       "      <td>Lombalgie basse</td>\n",
       "    </tr>\n",
       "    <tr>\n",
       "      <th>4996</th>\n",
       "      <td>2021-05-16T08:15:00</td>\n",
       "      <td>55</td>\n",
       "      <td>4688</td>\n",
       "      <td>general-practician</td>\n",
       "      <td>Autres cystites</td>\n",
       "    </tr>\n",
       "    <tr>\n",
       "      <th>4997</th>\n",
       "      <td>2021-09-28T17:00:00</td>\n",
       "      <td>37</td>\n",
       "      <td>4689</td>\n",
       "      <td>general-practician</td>\n",
       "      <td>Bronchite aiguë, sans précision</td>\n",
       "    </tr>\n",
       "    <tr>\n",
       "      <th>4998</th>\n",
       "      <td>2022-07-01T11:10:00</td>\n",
       "      <td>121</td>\n",
       "      <td>4690</td>\n",
       "      <td>general-practician</td>\n",
       "      <td>Lombalgie basse</td>\n",
       "    </tr>\n",
       "    <tr>\n",
       "      <th>4999</th>\n",
       "      <td>2022-09-26T11:40:00</td>\n",
       "      <td>138</td>\n",
       "      <td>4691</td>\n",
       "      <td>general-practician</td>\n",
       "      <td>Autre goutte secondaire - Articulations de la ...</td>\n",
       "    </tr>\n",
       "  </tbody>\n",
       "</table>\n",
       "<p>5000 rows × 5 columns</p>\n",
       "</div>"
      ],
      "text/plain": [
       "        consultation_date  physician_id  patient_id          speciality  \\\n",
       "0     2022-04-07T09:20:00           121           0  general-practician   \n",
       "1     2021-10-01T12:00:00            55           1  general-practician   \n",
       "2     2022-05-04T20:40:00            88           2  general-practician   \n",
       "3     2022-07-22T21:30:00           128           3  general-practician   \n",
       "4     2021-01-06T07:10:00            31           4  general-practician   \n",
       "...                   ...           ...         ...                 ...   \n",
       "4995  2021-08-31T15:40:00             0        4687  general-practician   \n",
       "4996  2021-05-16T08:15:00            55        4688  general-practician   \n",
       "4997  2021-09-28T17:00:00            37        4689  general-practician   \n",
       "4998  2022-07-01T11:10:00           121        4690  general-practician   \n",
       "4999  2022-09-26T11:40:00           138        4691  general-practician   \n",
       "\n",
       "                                                  cim10  \n",
       "0          Grippe, à virus grippal saisonnier identifié  \n",
       "1                                        Sinusite aiguë  \n",
       "2                   Rhinopharyngite aiguë [rhume banal]  \n",
       "3                                       Autres cystites  \n",
       "4                           Grippe, virus non identifié  \n",
       "...                                                 ...  \n",
       "4995                                    Lombalgie basse  \n",
       "4996                                    Autres cystites  \n",
       "4997                    Bronchite aiguë, sans précision  \n",
       "4998                                    Lombalgie basse  \n",
       "4999  Autre goutte secondaire - Articulations de la ...  \n",
       "\n",
       "[5000 rows x 5 columns]"
      ]
     },
     "execution_count": 2,
     "metadata": {},
     "output_type": "execute_result"
    }
   ],
   "source": [
    "#store data in pandas dataframe object\n",
    "data = pd.read_json('https://api-data.public-prod.qare.tech/test_data_science/')\n",
    "data"
   ]
  },
  {
   "cell_type": "code",
   "execution_count": 3,
   "id": "5d4805dc",
   "metadata": {},
   "outputs": [
    {
     "data": {
      "text/html": [
       "<div>\n",
       "<style scoped>\n",
       "    .dataframe tbody tr th:only-of-type {\n",
       "        vertical-align: middle;\n",
       "    }\n",
       "\n",
       "    .dataframe tbody tr th {\n",
       "        vertical-align: top;\n",
       "    }\n",
       "\n",
       "    .dataframe thead th {\n",
       "        text-align: right;\n",
       "    }\n",
       "</style>\n",
       "<table border=\"1\" class=\"dataframe\">\n",
       "  <thead>\n",
       "    <tr style=\"text-align: right;\">\n",
       "      <th></th>\n",
       "      <th>consultation_date</th>\n",
       "      <th>physician_id</th>\n",
       "      <th>patient_id</th>\n",
       "      <th>speciality</th>\n",
       "      <th>cim10</th>\n",
       "    </tr>\n",
       "  </thead>\n",
       "  <tbody>\n",
       "    <tr>\n",
       "      <th>0</th>\n",
       "      <td>2022-04-07T09:20:00</td>\n",
       "      <td>121</td>\n",
       "      <td>0</td>\n",
       "      <td>general-practician</td>\n",
       "      <td>Grippe, à virus grippal saisonnier identifié</td>\n",
       "    </tr>\n",
       "    <tr>\n",
       "      <th>1</th>\n",
       "      <td>2021-10-01T12:00:00</td>\n",
       "      <td>55</td>\n",
       "      <td>1</td>\n",
       "      <td>general-practician</td>\n",
       "      <td>Sinusite aiguë</td>\n",
       "    </tr>\n",
       "    <tr>\n",
       "      <th>2</th>\n",
       "      <td>2022-05-04T20:40:00</td>\n",
       "      <td>88</td>\n",
       "      <td>2</td>\n",
       "      <td>general-practician</td>\n",
       "      <td>Rhinopharyngite aiguë [rhume banal]</td>\n",
       "    </tr>\n",
       "    <tr>\n",
       "      <th>3</th>\n",
       "      <td>2022-07-22T21:30:00</td>\n",
       "      <td>128</td>\n",
       "      <td>3</td>\n",
       "      <td>general-practician</td>\n",
       "      <td>Autres cystites</td>\n",
       "    </tr>\n",
       "    <tr>\n",
       "      <th>4</th>\n",
       "      <td>2021-01-06T07:10:00</td>\n",
       "      <td>31</td>\n",
       "      <td>4</td>\n",
       "      <td>general-practician</td>\n",
       "      <td>Grippe, virus non identifié</td>\n",
       "    </tr>\n",
       "    <tr>\n",
       "      <th>5</th>\n",
       "      <td>2022-03-05T15:45:00</td>\n",
       "      <td>121</td>\n",
       "      <td>5</td>\n",
       "      <td>general-practician</td>\n",
       "      <td>Bronchite aiguë, sans précision</td>\n",
       "    </tr>\n",
       "    <tr>\n",
       "      <th>6</th>\n",
       "      <td>2022-03-02T21:40:00</td>\n",
       "      <td>86</td>\n",
       "      <td>6</td>\n",
       "      <td>general-practician</td>\n",
       "      <td>Grippe, virus non identifié</td>\n",
       "    </tr>\n",
       "    <tr>\n",
       "      <th>7</th>\n",
       "      <td>2022-02-18T10:20:00</td>\n",
       "      <td>60</td>\n",
       "      <td>7</td>\n",
       "      <td>general-practician</td>\n",
       "      <td>Gastro-entérite et colite toxiques</td>\n",
       "    </tr>\n",
       "    <tr>\n",
       "      <th>8</th>\n",
       "      <td>2022-03-24T05:50:00</td>\n",
       "      <td>96</td>\n",
       "      <td>8</td>\n",
       "      <td>general-practician</td>\n",
       "      <td>Rhinopharyngite aiguë [rhume banal]</td>\n",
       "    </tr>\n",
       "    <tr>\n",
       "      <th>9</th>\n",
       "      <td>2022-09-21T07:15:00</td>\n",
       "      <td>55</td>\n",
       "      <td>9</td>\n",
       "      <td>general-practician</td>\n",
       "      <td>Douleur au niveau d'un membre - Cheville et pied</td>\n",
       "    </tr>\n",
       "  </tbody>\n",
       "</table>\n",
       "</div>"
      ],
      "text/plain": [
       "     consultation_date  physician_id  patient_id          speciality  \\\n",
       "0  2022-04-07T09:20:00           121           0  general-practician   \n",
       "1  2021-10-01T12:00:00            55           1  general-practician   \n",
       "2  2022-05-04T20:40:00            88           2  general-practician   \n",
       "3  2022-07-22T21:30:00           128           3  general-practician   \n",
       "4  2021-01-06T07:10:00            31           4  general-practician   \n",
       "5  2022-03-05T15:45:00           121           5  general-practician   \n",
       "6  2022-03-02T21:40:00            86           6  general-practician   \n",
       "7  2022-02-18T10:20:00            60           7  general-practician   \n",
       "8  2022-03-24T05:50:00            96           8  general-practician   \n",
       "9  2022-09-21T07:15:00            55           9  general-practician   \n",
       "\n",
       "                                              cim10  \n",
       "0      Grippe, à virus grippal saisonnier identifié  \n",
       "1                                    Sinusite aiguë  \n",
       "2               Rhinopharyngite aiguë [rhume banal]  \n",
       "3                                   Autres cystites  \n",
       "4                       Grippe, virus non identifié  \n",
       "5                   Bronchite aiguë, sans précision  \n",
       "6                       Grippe, virus non identifié  \n",
       "7                Gastro-entérite et colite toxiques  \n",
       "8               Rhinopharyngite aiguë [rhume banal]  \n",
       "9  Douleur au niveau d'un membre - Cheville et pied  "
      ]
     },
     "execution_count": 3,
     "metadata": {},
     "output_type": "execute_result"
    }
   ],
   "source": [
    "#shoz the first 10 rows\n",
    "data.head(10)"
   ]
  },
  {
   "cell_type": "code",
   "execution_count": 4,
   "id": "5296f27f",
   "metadata": {
    "scrolled": true
   },
   "outputs": [
    {
     "data": {
      "text/html": [
       "<div>\n",
       "<style scoped>\n",
       "    .dataframe tbody tr th:only-of-type {\n",
       "        vertical-align: middle;\n",
       "    }\n",
       "\n",
       "    .dataframe tbody tr th {\n",
       "        vertical-align: top;\n",
       "    }\n",
       "\n",
       "    .dataframe thead th {\n",
       "        text-align: right;\n",
       "    }\n",
       "</style>\n",
       "<table border=\"1\" class=\"dataframe\">\n",
       "  <thead>\n",
       "    <tr style=\"text-align: right;\">\n",
       "      <th></th>\n",
       "      <th>consultation_date</th>\n",
       "      <th>physician_id</th>\n",
       "      <th>patient_id</th>\n",
       "      <th>speciality</th>\n",
       "      <th>cim10</th>\n",
       "    </tr>\n",
       "  </thead>\n",
       "  <tbody>\n",
       "    <tr>\n",
       "      <th>4990</th>\n",
       "      <td>2021-02-11T12:30:00</td>\n",
       "      <td>65</td>\n",
       "      <td>4683</td>\n",
       "      <td>general-practician</td>\n",
       "      <td>Rachialgies dorsales - Localisation vertébrale...</td>\n",
       "    </tr>\n",
       "    <tr>\n",
       "      <th>4991</th>\n",
       "      <td>2022-08-19T22:40:00</td>\n",
       "      <td>143</td>\n",
       "      <td>4684</td>\n",
       "      <td>general-practician</td>\n",
       "      <td>Anémie par carence en fer secondaire à une per...</td>\n",
       "    </tr>\n",
       "    <tr>\n",
       "      <th>4992</th>\n",
       "      <td>2021-05-17T13:00:00</td>\n",
       "      <td>28</td>\n",
       "      <td>4685</td>\n",
       "      <td>general-practician</td>\n",
       "      <td>Cystite</td>\n",
       "    </tr>\n",
       "    <tr>\n",
       "      <th>4993</th>\n",
       "      <td>2021-10-29T08:45:00</td>\n",
       "      <td>55</td>\n",
       "      <td>4686</td>\n",
       "      <td>general-practician</td>\n",
       "      <td>Sinusite aiguë</td>\n",
       "    </tr>\n",
       "    <tr>\n",
       "      <th>4994</th>\n",
       "      <td>2021-10-27T07:30:00</td>\n",
       "      <td>55</td>\n",
       "      <td>4686</td>\n",
       "      <td>general-practician</td>\n",
       "      <td>Sinusite aiguë, sans précision</td>\n",
       "    </tr>\n",
       "    <tr>\n",
       "      <th>4995</th>\n",
       "      <td>2021-08-31T15:40:00</td>\n",
       "      <td>0</td>\n",
       "      <td>4687</td>\n",
       "      <td>general-practician</td>\n",
       "      <td>Lombalgie basse</td>\n",
       "    </tr>\n",
       "    <tr>\n",
       "      <th>4996</th>\n",
       "      <td>2021-05-16T08:15:00</td>\n",
       "      <td>55</td>\n",
       "      <td>4688</td>\n",
       "      <td>general-practician</td>\n",
       "      <td>Autres cystites</td>\n",
       "    </tr>\n",
       "    <tr>\n",
       "      <th>4997</th>\n",
       "      <td>2021-09-28T17:00:00</td>\n",
       "      <td>37</td>\n",
       "      <td>4689</td>\n",
       "      <td>general-practician</td>\n",
       "      <td>Bronchite aiguë, sans précision</td>\n",
       "    </tr>\n",
       "    <tr>\n",
       "      <th>4998</th>\n",
       "      <td>2022-07-01T11:10:00</td>\n",
       "      <td>121</td>\n",
       "      <td>4690</td>\n",
       "      <td>general-practician</td>\n",
       "      <td>Lombalgie basse</td>\n",
       "    </tr>\n",
       "    <tr>\n",
       "      <th>4999</th>\n",
       "      <td>2022-09-26T11:40:00</td>\n",
       "      <td>138</td>\n",
       "      <td>4691</td>\n",
       "      <td>general-practician</td>\n",
       "      <td>Autre goutte secondaire - Articulations de la ...</td>\n",
       "    </tr>\n",
       "  </tbody>\n",
       "</table>\n",
       "</div>"
      ],
      "text/plain": [
       "        consultation_date  physician_id  patient_id          speciality  \\\n",
       "4990  2021-02-11T12:30:00            65        4683  general-practician   \n",
       "4991  2022-08-19T22:40:00           143        4684  general-practician   \n",
       "4992  2021-05-17T13:00:00            28        4685  general-practician   \n",
       "4993  2021-10-29T08:45:00            55        4686  general-practician   \n",
       "4994  2021-10-27T07:30:00            55        4686  general-practician   \n",
       "4995  2021-08-31T15:40:00             0        4687  general-practician   \n",
       "4996  2021-05-16T08:15:00            55        4688  general-practician   \n",
       "4997  2021-09-28T17:00:00            37        4689  general-practician   \n",
       "4998  2022-07-01T11:10:00           121        4690  general-practician   \n",
       "4999  2022-09-26T11:40:00           138        4691  general-practician   \n",
       "\n",
       "                                                  cim10  \n",
       "4990  Rachialgies dorsales - Localisation vertébrale...  \n",
       "4991  Anémie par carence en fer secondaire à une per...  \n",
       "4992                                            Cystite  \n",
       "4993                                     Sinusite aiguë  \n",
       "4994                     Sinusite aiguë, sans précision  \n",
       "4995                                    Lombalgie basse  \n",
       "4996                                    Autres cystites  \n",
       "4997                    Bronchite aiguë, sans précision  \n",
       "4998                                    Lombalgie basse  \n",
       "4999  Autre goutte secondaire - Articulations de la ...  "
      ]
     },
     "execution_count": 4,
     "metadata": {},
     "output_type": "execute_result"
    }
   ],
   "source": [
    "#show the last 10 rows\n",
    "data.tail(10)"
   ]
  },
  {
   "cell_type": "code",
   "execution_count": 5,
   "id": "51b261cf",
   "metadata": {},
   "outputs": [
    {
     "name": "stdout",
     "output_type": "stream",
     "text": [
      "<class 'pandas.core.frame.DataFrame'>\n",
      "RangeIndex: 5000 entries, 0 to 4999\n",
      "Data columns (total 5 columns):\n",
      " #   Column             Non-Null Count  Dtype \n",
      "---  ------             --------------  ----- \n",
      " 0   consultation_date  5000 non-null   object\n",
      " 1   physician_id       5000 non-null   int64 \n",
      " 2   patient_id         5000 non-null   int64 \n",
      " 3   speciality         5000 non-null   object\n",
      " 4   cim10              5000 non-null   object\n",
      "dtypes: int64(2), object(3)\n",
      "memory usage: 195.4+ KB\n"
     ]
    }
   ],
   "source": [
    "#get info about data\n",
    "#number of rows, nuber of columns, types of columns, ...\n",
    "data.info()"
   ]
  },
  {
   "cell_type": "code",
   "execution_count": 6,
   "id": "ad1547de",
   "metadata": {},
   "outputs": [
    {
     "data": {
      "text/plain": [
       "consultation_date    0\n",
       "physician_id         0\n",
       "patient_id           0\n",
       "speciality           0\n",
       "cim10                0\n",
       "dtype: int64"
      ]
     },
     "execution_count": 6,
     "metadata": {},
     "output_type": "execute_result"
    }
   ],
   "source": [
    "#find the sum of the null values in each columns if thers is null values\n",
    "#ze do not have any\n",
    "data.isnull().sum()"
   ]
  },
  {
   "cell_type": "code",
   "execution_count": 7,
   "id": "b8513ed3",
   "metadata": {},
   "outputs": [
    {
     "data": {
      "text/plain": [
       "consultation_date    4808\n",
       "physician_id          152\n",
       "patient_id           4692\n",
       "speciality              1\n",
       "cim10                 534\n",
       "dtype: int64"
      ]
     },
     "execution_count": 7,
     "metadata": {},
     "output_type": "execute_result"
    }
   ],
   "source": [
    "#find the nuber of unique values in each column\n",
    "#4808 day, 152 physician, 4692 patient, 534 diseases\n",
    "data.nunique()"
   ]
  },
  {
   "cell_type": "code",
   "execution_count": 8,
   "id": "b1595531",
   "metadata": {},
   "outputs": [
    {
     "data": {
      "text/plain": [
       "0"
      ]
     },
     "execution_count": 8,
     "metadata": {},
     "output_type": "execute_result"
    }
   ],
   "source": [
    "#Check that there are no duplicate lines\n",
    "data.duplicated().sum()"
   ]
  },
  {
   "cell_type": "code",
   "execution_count": 9,
   "id": "25786545",
   "metadata": {},
   "outputs": [
    {
     "data": {
      "text/plain": [
       "Index(['consultation_date', 'physician_id', 'patient_id', 'speciality',\n",
       "       'cim10'],\n",
       "      dtype='object')"
      ]
     },
     "execution_count": 9,
     "metadata": {},
     "output_type": "execute_result"
    }
   ],
   "source": [
    "#find all colomns name\n",
    "data.columns"
   ]
  },
  {
   "cell_type": "code",
   "execution_count": 10,
   "id": "428a4816",
   "metadata": {},
   "outputs": [
    {
     "data": {
      "text/html": [
       "<div>\n",
       "<style scoped>\n",
       "    .dataframe tbody tr th:only-of-type {\n",
       "        vertical-align: middle;\n",
       "    }\n",
       "\n",
       "    .dataframe tbody tr th {\n",
       "        vertical-align: top;\n",
       "    }\n",
       "\n",
       "    .dataframe thead th {\n",
       "        text-align: right;\n",
       "    }\n",
       "</style>\n",
       "<table border=\"1\" class=\"dataframe\">\n",
       "  <thead>\n",
       "    <tr style=\"text-align: right;\">\n",
       "      <th></th>\n",
       "      <th>physician_id</th>\n",
       "      <th>patient_id</th>\n",
       "    </tr>\n",
       "  </thead>\n",
       "  <tbody>\n",
       "    <tr>\n",
       "      <th>count</th>\n",
       "      <td>5000.000000</td>\n",
       "      <td>5000.000000</td>\n",
       "    </tr>\n",
       "    <tr>\n",
       "      <th>mean</th>\n",
       "      <td>77.520000</td>\n",
       "      <td>2344.956000</td>\n",
       "    </tr>\n",
       "    <tr>\n",
       "      <th>std</th>\n",
       "      <td>37.615366</td>\n",
       "      <td>1350.090021</td>\n",
       "    </tr>\n",
       "    <tr>\n",
       "      <th>min</th>\n",
       "      <td>0.000000</td>\n",
       "      <td>0.000000</td>\n",
       "    </tr>\n",
       "    <tr>\n",
       "      <th>25%</th>\n",
       "      <td>55.000000</td>\n",
       "      <td>1182.750000</td>\n",
       "    </tr>\n",
       "    <tr>\n",
       "      <th>50%</th>\n",
       "      <td>79.000000</td>\n",
       "      <td>2342.500000</td>\n",
       "    </tr>\n",
       "    <tr>\n",
       "      <th>75%</th>\n",
       "      <td>103.000000</td>\n",
       "      <td>3508.250000</td>\n",
       "    </tr>\n",
       "    <tr>\n",
       "      <th>max</th>\n",
       "      <td>151.000000</td>\n",
       "      <td>4691.000000</td>\n",
       "    </tr>\n",
       "  </tbody>\n",
       "</table>\n",
       "</div>"
      ],
      "text/plain": [
       "       physician_id   patient_id\n",
       "count   5000.000000  5000.000000\n",
       "mean      77.520000  2344.956000\n",
       "std       37.615366  1350.090021\n",
       "min        0.000000     0.000000\n",
       "25%       55.000000  1182.750000\n",
       "50%       79.000000  2342.500000\n",
       "75%      103.000000  3508.250000\n",
       "max      151.000000  4691.000000"
      ]
     },
     "execution_count": 10,
     "metadata": {},
     "output_type": "execute_result"
    }
   ],
   "source": [
    "#find describtion about data\n",
    "data.describe()"
   ]
  },
  {
   "cell_type": "code",
   "execution_count": 11,
   "id": "ea2f3eb7",
   "metadata": {},
   "outputs": [
    {
     "data": {
      "text/plain": [
       "cim10                                  \n",
       "Gastro-entérite et colite toxiques         415\n",
       "Rhinopharyngite aiguë [rhume banal]        334\n",
       "COVID-19                                   321\n",
       "Autres cystites                            239\n",
       "Cystite aiguë                              200\n",
       "                                          ... \n",
       "Entérite à Salmonella                        1\n",
       "Entorse et foulure du poignet                1\n",
       "Entorse et foulure de doigt(s)               1\n",
       "Entorse et foulure d'un (des) orteil(s)      1\n",
       "État de stress post-traumatique              1\n",
       "Length: 534, dtype: int64"
      ]
     },
     "execution_count": 11,
     "metadata": {},
     "output_type": "execute_result"
    }
   ],
   "source": [
    "#all diseases names and number of repetitions from the most one(astro-entérite et colite toxiques)\n",
    "data[['cim10']].value_counts()"
   ]
  },
  {
   "cell_type": "code",
   "execution_count": 12,
   "id": "ae07c782",
   "metadata": {},
   "outputs": [
    {
     "data": {
      "text/plain": [
       "2022-03-29    30\n",
       "2022-02-07    30\n",
       "2021-11-08    28\n",
       "2022-04-05    27\n",
       "2022-06-09    26\n",
       "              ..\n",
       "2021-02-21     1\n",
       "2021-05-19     1\n",
       "2021-06-23     1\n",
       "2021-01-13     1\n",
       "2021-05-30     1\n",
       "Name: consultation_date, Length: 606, dtype: int64"
      ]
     },
     "execution_count": 12,
     "metadata": {},
     "output_type": "execute_result"
    }
   ],
   "source": [
    "#fined the number of consultations per day\n",
    "data['consultation_date'].str[0:10].value_counts()"
   ]
  },
  {
   "cell_type": "code",
   "execution_count": 13,
   "id": "478e8848",
   "metadata": {},
   "outputs": [
    {
     "data": {
      "text/plain": [
       "'Tuesday'"
      ]
     },
     "execution_count": 13,
     "metadata": {},
     "output_type": "execute_result"
    }
   ],
   "source": [
    "#find the day name that has the most consultations\n",
    "x_date = pd.Timestamp(data['consultation_date'].str[0:10].value_counts().idxmax())\n",
    "x_date.day_name()\n"
   ]
  },
  {
   "cell_type": "code",
   "execution_count": 14,
   "id": "294d5949",
   "metadata": {},
   "outputs": [
    {
     "data": {
      "text/plain": [
       "COVID-19                                                                   5\n",
       "Rhinopharyngite aiguë [rhume banal]                                        4\n",
       "Grippe, virus non identifié                                                4\n",
       "Sinusite aiguë                                                             2\n",
       "Autres examens et mises en observation en lien avec l'épidémie COVID-19    2\n",
       "Cystite                                                                    2\n",
       "Gastroentérite et colite d'origine non précisée                            2\n",
       "Renouvellement d'une ordonnance                                            2\n",
       "Cystite, sans précision                                                    1\n",
       "Laryngite aiguë                                                            1\n",
       "Hypertrophie des papilles linguales                                        1\n",
       "Rhinite allergique due au pollen                                           1\n",
       "Infection des voies urinaires, siège non précisé                           1\n",
       "Autres épisodes dépressifs                                                 1\n",
       "Angine phlegmoneuse                                                        1\n",
       "Name: cim10, dtype: int64"
      ]
     },
     "execution_count": 14,
     "metadata": {},
     "output_type": "execute_result"
    }
   ],
   "source": [
    "#the consultations in 2022-03-29\n",
    "data.loc[data.consultation_date.str[0:10]=='2022-03-29', 'cim10'].value_counts()"
   ]
  },
  {
   "cell_type": "code",
   "execution_count": 15,
   "id": "0b2c913a",
   "metadata": {},
   "outputs": [
    {
     "data": {
      "text/plain": [
       "2022-01-25T13:30:00    2\n",
       "2021-11-08T10:00:00    2\n",
       "2022-05-10T08:20:00    2\n",
       "2022-07-11T23:30:00    1\n",
       "2022-09-28T09:40:00    1\n",
       "                      ..\n",
       "2022-04-28T17:15:00    1\n",
       "2022-01-06T16:20:00    1\n",
       "2022-06-20T22:45:00    1\n",
       "2022-08-29T12:20:00    1\n",
       "2021-07-12T12:15:00    1\n",
       "Name: consultation_date, Length: 483, dtype: int64"
      ]
     },
     "execution_count": 15,
     "metadata": {},
     "output_type": "execute_result"
    }
   ],
   "source": [
    "#the most days that have covid consultation\n",
    "data.loc[data.cim10.str.contains(\"covid\".lower(), case=False), 'consultation_date'].value_counts()"
   ]
  },
  {
   "cell_type": "code",
   "execution_count": 16,
   "id": "e67f6102",
   "metadata": {},
   "outputs": [
    {
     "data": {
      "text/plain": [
       "1628    4\n",
       "662     4\n",
       "3357    4\n",
       "3914    3\n",
       "395     3\n",
       "       ..\n",
       "1605    1\n",
       "1607    1\n",
       "1608    1\n",
       "1609    1\n",
       "4691    1\n",
       "Name: patient_id, Length: 4692, dtype: int64"
      ]
     },
     "execution_count": 16,
     "metadata": {},
     "output_type": "execute_result"
    }
   ],
   "source": [
    "#Number of consultations per patient\n",
    "data['patient_id'].value_counts()"
   ]
  },
  {
   "cell_type": "code",
   "execution_count": 17,
   "id": "f7980b9a",
   "metadata": {},
   "outputs": [
    {
     "data": {
      "text/plain": [
       "55     929\n",
       "121    311\n",
       "88     244\n",
       "89     240\n",
       "96     218\n",
       "      ... \n",
       "124      1\n",
       "18       1\n",
       "21       1\n",
       "146      1\n",
       "95       1\n",
       "Name: physician_id, Length: 152, dtype: int64"
      ]
     },
     "execution_count": 17,
     "metadata": {},
     "output_type": "execute_result"
    }
   ],
   "source": [
    "#Number of consultations per physician\n",
    "data['physician_id'].value_counts()"
   ]
  },
  {
   "cell_type": "code",
   "execution_count": 18,
   "id": "eceb4b80",
   "metadata": {},
   "outputs": [
    {
     "data": {
      "text/html": [
       "<div>\n",
       "<style scoped>\n",
       "    .dataframe tbody tr th:only-of-type {\n",
       "        vertical-align: middle;\n",
       "    }\n",
       "\n",
       "    .dataframe tbody tr th {\n",
       "        vertical-align: top;\n",
       "    }\n",
       "\n",
       "    .dataframe thead th {\n",
       "        text-align: right;\n",
       "    }\n",
       "</style>\n",
       "<table border=\"1\" class=\"dataframe\">\n",
       "  <thead>\n",
       "    <tr style=\"text-align: right;\">\n",
       "      <th></th>\n",
       "      <th></th>\n",
       "      <th>0</th>\n",
       "    </tr>\n",
       "    <tr>\n",
       "      <th>physician_id</th>\n",
       "      <th>patient_id</th>\n",
       "      <th></th>\n",
       "    </tr>\n",
       "  </thead>\n",
       "  <tbody>\n",
       "    <tr>\n",
       "      <th rowspan=\"7\" valign=\"top\">0</th>\n",
       "      <th>141</th>\n",
       "      <td>1</td>\n",
       "    </tr>\n",
       "    <tr>\n",
       "      <th>4687</th>\n",
       "      <td>1</td>\n",
       "    </tr>\n",
       "    <tr>\n",
       "      <th>4484</th>\n",
       "      <td>1</td>\n",
       "    </tr>\n",
       "    <tr>\n",
       "      <th>1953</th>\n",
       "      <td>1</td>\n",
       "    </tr>\n",
       "    <tr>\n",
       "      <th>1438</th>\n",
       "      <td>1</td>\n",
       "    </tr>\n",
       "    <tr>\n",
       "      <th>1290</th>\n",
       "      <td>1</td>\n",
       "    </tr>\n",
       "    <tr>\n",
       "      <th>1074</th>\n",
       "      <td>1</td>\n",
       "    </tr>\n",
       "    <tr>\n",
       "      <th rowspan=\"13\" valign=\"top\">1</th>\n",
       "      <th>4652</th>\n",
       "      <td>1</td>\n",
       "    </tr>\n",
       "    <tr>\n",
       "      <th>1685</th>\n",
       "      <td>1</td>\n",
       "    </tr>\n",
       "    <tr>\n",
       "      <th>1621</th>\n",
       "      <td>1</td>\n",
       "    </tr>\n",
       "    <tr>\n",
       "      <th>1440</th>\n",
       "      <td>1</td>\n",
       "    </tr>\n",
       "    <tr>\n",
       "      <th>1205</th>\n",
       "      <td>1</td>\n",
       "    </tr>\n",
       "    <tr>\n",
       "      <th>1092</th>\n",
       "      <td>1</td>\n",
       "    </tr>\n",
       "    <tr>\n",
       "      <th>986</th>\n",
       "      <td>1</td>\n",
       "    </tr>\n",
       "    <tr>\n",
       "      <th>945</th>\n",
       "      <td>1</td>\n",
       "    </tr>\n",
       "    <tr>\n",
       "      <th>513</th>\n",
       "      <td>1</td>\n",
       "    </tr>\n",
       "    <tr>\n",
       "      <th>511</th>\n",
       "      <td>1</td>\n",
       "    </tr>\n",
       "    <tr>\n",
       "      <th>149</th>\n",
       "      <td>1</td>\n",
       "    </tr>\n",
       "    <tr>\n",
       "      <th>135</th>\n",
       "      <td>1</td>\n",
       "    </tr>\n",
       "    <tr>\n",
       "      <th>1625</th>\n",
       "      <td>1</td>\n",
       "    </tr>\n",
       "  </tbody>\n",
       "</table>\n",
       "</div>"
      ],
      "text/plain": [
       "                         0\n",
       "physician_id patient_id   \n",
       "0            141         1\n",
       "             4687        1\n",
       "             4484        1\n",
       "             1953        1\n",
       "             1438        1\n",
       "             1290        1\n",
       "             1074        1\n",
       "1            4652        1\n",
       "             1685        1\n",
       "             1621        1\n",
       "             1440        1\n",
       "             1205        1\n",
       "             1092        1\n",
       "             986         1\n",
       "             945         1\n",
       "             513         1\n",
       "             511         1\n",
       "             149         1\n",
       "             135         1\n",
       "             1625        1"
      ]
     },
     "execution_count": 18,
     "metadata": {},
     "output_type": "execute_result"
    }
   ],
   "source": [
    "#the patient ids for each physician\n",
    "patientForPhysician=pd.DataFrame(data[['patient_id','physician_id']].groupby(['physician_id']).value_counts())\n",
    "patientForPhysician.head(20)"
   ]
  },
  {
   "cell_type": "code",
   "execution_count": 19,
   "id": "7ced8352",
   "metadata": {
    "scrolled": true
   },
   "outputs": [
    {
     "data": {
      "text/html": [
       "<div>\n",
       "<style scoped>\n",
       "    .dataframe tbody tr th:only-of-type {\n",
       "        vertical-align: middle;\n",
       "    }\n",
       "\n",
       "    .dataframe tbody tr th {\n",
       "        vertical-align: top;\n",
       "    }\n",
       "\n",
       "    .dataframe thead th {\n",
       "        text-align: right;\n",
       "    }\n",
       "</style>\n",
       "<table border=\"1\" class=\"dataframe\">\n",
       "  <thead>\n",
       "    <tr style=\"text-align: right;\">\n",
       "      <th></th>\n",
       "      <th></th>\n",
       "      <th>0</th>\n",
       "    </tr>\n",
       "    <tr>\n",
       "      <th>physician_id</th>\n",
       "      <th>cim10</th>\n",
       "      <th></th>\n",
       "    </tr>\n",
       "  </thead>\n",
       "  <tbody>\n",
       "    <tr>\n",
       "      <th rowspan=\"7\" valign=\"top\">0</th>\n",
       "      <th>Autres conseils précisés</th>\n",
       "      <td>1</td>\n",
       "    </tr>\n",
       "    <tr>\n",
       "      <th>Trouble anxieux organique</th>\n",
       "      <td>1</td>\n",
       "    </tr>\n",
       "    <tr>\n",
       "      <th>Renouvellement d'une ordonnance</th>\n",
       "      <td>1</td>\n",
       "    </tr>\n",
       "    <tr>\n",
       "      <th>Prurit, sans précision</th>\n",
       "      <td>1</td>\n",
       "    </tr>\n",
       "    <tr>\n",
       "      <th>Lombalgie basse</th>\n",
       "      <td>1</td>\n",
       "    </tr>\n",
       "    <tr>\n",
       "      <th>Autres troubles anxieux</th>\n",
       "      <td>1</td>\n",
       "    </tr>\n",
       "    <tr>\n",
       "      <th>Autres examens généraux</th>\n",
       "      <td>1</td>\n",
       "    </tr>\n",
       "    <tr>\n",
       "      <th rowspan=\"13\" valign=\"top\">1</th>\n",
       "      <th>Rhinopharyngite aiguë [rhume banal]</th>\n",
       "      <td>9</td>\n",
       "    </tr>\n",
       "    <tr>\n",
       "      <th>Nausées et vomissements</th>\n",
       "      <td>4</td>\n",
       "    </tr>\n",
       "    <tr>\n",
       "      <th>Autres cystites</th>\n",
       "      <td>4</td>\n",
       "    </tr>\n",
       "    <tr>\n",
       "      <th>Toux</th>\n",
       "      <td>2</td>\n",
       "    </tr>\n",
       "    <tr>\n",
       "      <th>Renouvellement d'une ordonnance</th>\n",
       "      <td>2</td>\n",
       "    </tr>\n",
       "    <tr>\n",
       "      <th>Lombalgie basse</th>\n",
       "      <td>2</td>\n",
       "    </tr>\n",
       "    <tr>\n",
       "      <th>Douleurs abdominales, autres et non précisées</th>\n",
       "      <td>2</td>\n",
       "    </tr>\n",
       "    <tr>\n",
       "      <th>Sinusite aiguë</th>\n",
       "      <td>1</td>\n",
       "    </tr>\n",
       "    <tr>\n",
       "      <th>Rhinite allergique, sans précision</th>\n",
       "      <td>1</td>\n",
       "    </tr>\n",
       "    <tr>\n",
       "      <th>Orgelet et chalazion</th>\n",
       "      <td>1</td>\n",
       "    </tr>\n",
       "    <tr>\n",
       "      <th>Fatigue [asthénie]</th>\n",
       "      <td>1</td>\n",
       "    </tr>\n",
       "    <tr>\n",
       "      <th>Douleur thoracique respiratoire</th>\n",
       "      <td>1</td>\n",
       "    </tr>\n",
       "    <tr>\n",
       "      <th>Anxiété généralisée</th>\n",
       "      <td>1</td>\n",
       "    </tr>\n",
       "  </tbody>\n",
       "</table>\n",
       "</div>"
      ],
      "text/plain": [
       "                                                            0\n",
       "physician_id cim10                                           \n",
       "0            Autres conseils précisés                       1\n",
       "             Trouble anxieux organique                      1\n",
       "             Renouvellement d'une ordonnance                1\n",
       "             Prurit, sans précision                         1\n",
       "             Lombalgie basse                                1\n",
       "             Autres troubles anxieux                        1\n",
       "             Autres examens généraux                        1\n",
       "1            Rhinopharyngite aiguë [rhume banal]            9\n",
       "             Nausées et vomissements                        4\n",
       "             Autres cystites                                4\n",
       "             Toux                                           2\n",
       "             Renouvellement d'une ordonnance                2\n",
       "             Lombalgie basse                                2\n",
       "             Douleurs abdominales, autres et non précisées  2\n",
       "             Sinusite aiguë                                 1\n",
       "             Rhinite allergique, sans précision             1\n",
       "             Orgelet et chalazion                           1\n",
       "             Fatigue [asthénie]                             1\n",
       "             Douleur thoracique respiratoire                1\n",
       "             Anxiété généralisée                            1"
      ]
     },
     "execution_count": 19,
     "metadata": {},
     "output_type": "execute_result"
    }
   ],
   "source": [
    "#the cases for each physician\n",
    "#for example : the physician 1 has 9 cases of Rhinopharyngite aiguë [rhume banal] and 4 cases of Autres cystites\n",
    "cim10ForPhysician=pd.DataFrame(data[['cim10','physician_id']].groupby(['physician_id']).value_counts())\n",
    "cim10ForPhysician.head(20)"
   ]
  },
  {
   "cell_type": "code",
   "execution_count": 20,
   "id": "b23b4819",
   "metadata": {},
   "outputs": [
    {
     "data": {
      "text/plain": [
       "(True, 'Gastro-entérite et colite toxiques')"
      ]
     },
     "execution_count": 20,
     "metadata": {},
     "output_type": "execute_result"
    }
   ],
   "source": [
    "#the most common consultation in 2022\n",
    "data[['cim10']].groupby(data['consultation_date'].str[0:4]=='2022').value_counts().idxmax()"
   ]
  },
  {
   "cell_type": "code",
   "execution_count": 21,
   "id": "f9a3b7c3",
   "metadata": {},
   "outputs": [
    {
     "data": {
      "text/plain": [
       "55     61\n",
       "42     51\n",
       "96     33\n",
       "88     28\n",
       "76     26\n",
       "       ..\n",
       "58      1\n",
       "43      1\n",
       "27      1\n",
       "50      1\n",
       "108     1\n",
       "Name: physician_id, Length: 72, dtype: int64"
      ]
     },
     "execution_count": 21,
     "metadata": {},
     "output_type": "execute_result"
    }
   ],
   "source": [
    "#the number of covid cases for each physician\n",
    "data.loc[data.cim10.str.contains(\"covid\".lower(), case=False), 'physician_id'].value_counts()"
   ]
  },
  {
   "cell_type": "code",
   "execution_count": null,
   "id": "ced81338",
   "metadata": {},
   "outputs": [],
   "source": []
  }
 ],
 "metadata": {
  "kernelspec": {
   "display_name": "Python 3 (ipykernel)",
   "language": "python",
   "name": "python3"
  },
  "language_info": {
   "codemirror_mode": {
    "name": "ipython",
    "version": 3
   },
   "file_extension": ".py",
   "mimetype": "text/x-python",
   "name": "python",
   "nbconvert_exporter": "python",
   "pygments_lexer": "ipython3",
   "version": "3.10.6"
  }
 },
 "nbformat": 4,
 "nbformat_minor": 5
}
