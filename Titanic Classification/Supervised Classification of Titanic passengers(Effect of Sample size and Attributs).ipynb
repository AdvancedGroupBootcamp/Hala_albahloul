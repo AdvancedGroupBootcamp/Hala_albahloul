{
 "cells": [
  {
   "cell_type": "code",
   "execution_count": 1,
   "id": "38ca13b4",
   "metadata": {},
   "outputs": [],
   "source": [
    "import numpy as np\n",
    "import pandas as pd\n",
    "from sklearn.linear_model import LogisticRegression\n",
    "\n",
    "from sklearn.model_selection import train_test_split\n",
    "from sklearn.metrics import confusion_matrix,accuracy_score,classification_report\n",
    "from sklearn.preprocessing import StandardScaler\n",
    "\n",
    "import warnings\n",
    "warnings.filterwarnings(\"ignore\")"
   ]
  },
  {
   "cell_type": "code",
   "execution_count": 2,
   "id": "d9bdac3c",
   "metadata": {},
   "outputs": [],
   "source": [
    "\n",
    "# importing libraries for KNN\n",
    "\n",
    "from sklearn.neighbors import NearestNeighbors\n",
    "from sklearn.neighbors import KNeighborsClassifier\n",
    "from sklearn import metrics\n",
    "from sklearn.metrics import accuracy_score\n",
    "from sklearn.metrics import precision_recall_fscore_support\n",
    "from sklearn.model_selection import cross_val_score\n",
    "from sklearn.model_selection import KFold\n",
    "from collections import Counter\n",
    "from sklearn.model_selection import cross_validate\n",
    "\n"
   ]
  },
  {
   "cell_type": "code",
   "execution_count": 3,
   "id": "82d5cf69",
   "metadata": {},
   "outputs": [],
   "source": [
    "df = pd.read_csv(\"train.csv\")"
   ]
  },
  {
   "cell_type": "code",
   "execution_count": 4,
   "id": "a77c8e6f",
   "metadata": {},
   "outputs": [],
   "source": [
    "#Handling Embarked feature by replace the missing values with the most common value\n",
    "\n",
    "df['Embarked'].fillna(df['Embarked'].mode()[0], inplace=True)"
   ]
  },
  {
   "cell_type": "code",
   "execution_count": 5,
   "id": "d81faba3",
   "metadata": {},
   "outputs": [
    {
     "data": {
      "text/html": [
       "<div>\n",
       "<style scoped>\n",
       "    .dataframe tbody tr th:only-of-type {\n",
       "        vertical-align: middle;\n",
       "    }\n",
       "\n",
       "    .dataframe tbody tr th {\n",
       "        vertical-align: top;\n",
       "    }\n",
       "\n",
       "    .dataframe thead th {\n",
       "        text-align: right;\n",
       "    }\n",
       "</style>\n",
       "<table border=\"1\" class=\"dataframe\">\n",
       "  <thead>\n",
       "    <tr style=\"text-align: right;\">\n",
       "      <th></th>\n",
       "      <th>PassengerId</th>\n",
       "      <th>Survived</th>\n",
       "      <th>Pclass</th>\n",
       "      <th>Name</th>\n",
       "      <th>Sex</th>\n",
       "      <th>Age</th>\n",
       "      <th>SibSp</th>\n",
       "      <th>Parch</th>\n",
       "      <th>Ticket</th>\n",
       "      <th>Fare</th>\n",
       "      <th>Cabin</th>\n",
       "      <th>Embarked</th>\n",
       "      <th>Deck</th>\n",
       "    </tr>\n",
       "  </thead>\n",
       "  <tbody>\n",
       "    <tr>\n",
       "      <th>0</th>\n",
       "      <td>1</td>\n",
       "      <td>0</td>\n",
       "      <td>3</td>\n",
       "      <td>Braund, Mr. Owen Harris</td>\n",
       "      <td>male</td>\n",
       "      <td>22.0</td>\n",
       "      <td>1</td>\n",
       "      <td>0</td>\n",
       "      <td>A/5 21171</td>\n",
       "      <td>7.2500</td>\n",
       "      <td>NaN</td>\n",
       "      <td>S</td>\n",
       "      <td>N</td>\n",
       "    </tr>\n",
       "    <tr>\n",
       "      <th>1</th>\n",
       "      <td>2</td>\n",
       "      <td>1</td>\n",
       "      <td>1</td>\n",
       "      <td>Cumings, Mrs. John Bradley (Florence Briggs Th...</td>\n",
       "      <td>female</td>\n",
       "      <td>38.0</td>\n",
       "      <td>1</td>\n",
       "      <td>0</td>\n",
       "      <td>PC 17599</td>\n",
       "      <td>71.2833</td>\n",
       "      <td>C85</td>\n",
       "      <td>C</td>\n",
       "      <td>C</td>\n",
       "    </tr>\n",
       "    <tr>\n",
       "      <th>2</th>\n",
       "      <td>3</td>\n",
       "      <td>1</td>\n",
       "      <td>3</td>\n",
       "      <td>Heikkinen, Miss. Laina</td>\n",
       "      <td>female</td>\n",
       "      <td>26.0</td>\n",
       "      <td>0</td>\n",
       "      <td>0</td>\n",
       "      <td>STON/O2. 3101282</td>\n",
       "      <td>7.9250</td>\n",
       "      <td>NaN</td>\n",
       "      <td>S</td>\n",
       "      <td>N</td>\n",
       "    </tr>\n",
       "    <tr>\n",
       "      <th>3</th>\n",
       "      <td>4</td>\n",
       "      <td>1</td>\n",
       "      <td>1</td>\n",
       "      <td>Futrelle, Mrs. Jacques Heath (Lily May Peel)</td>\n",
       "      <td>female</td>\n",
       "      <td>35.0</td>\n",
       "      <td>1</td>\n",
       "      <td>0</td>\n",
       "      <td>113803</td>\n",
       "      <td>53.1000</td>\n",
       "      <td>C123</td>\n",
       "      <td>S</td>\n",
       "      <td>C</td>\n",
       "    </tr>\n",
       "    <tr>\n",
       "      <th>4</th>\n",
       "      <td>5</td>\n",
       "      <td>0</td>\n",
       "      <td>3</td>\n",
       "      <td>Allen, Mr. William Henry</td>\n",
       "      <td>male</td>\n",
       "      <td>35.0</td>\n",
       "      <td>0</td>\n",
       "      <td>0</td>\n",
       "      <td>373450</td>\n",
       "      <td>8.0500</td>\n",
       "      <td>NaN</td>\n",
       "      <td>S</td>\n",
       "      <td>N</td>\n",
       "    </tr>\n",
       "    <tr>\n",
       "      <th>...</th>\n",
       "      <td>...</td>\n",
       "      <td>...</td>\n",
       "      <td>...</td>\n",
       "      <td>...</td>\n",
       "      <td>...</td>\n",
       "      <td>...</td>\n",
       "      <td>...</td>\n",
       "      <td>...</td>\n",
       "      <td>...</td>\n",
       "      <td>...</td>\n",
       "      <td>...</td>\n",
       "      <td>...</td>\n",
       "      <td>...</td>\n",
       "    </tr>\n",
       "    <tr>\n",
       "      <th>886</th>\n",
       "      <td>887</td>\n",
       "      <td>0</td>\n",
       "      <td>2</td>\n",
       "      <td>Montvila, Rev. Juozas</td>\n",
       "      <td>male</td>\n",
       "      <td>27.0</td>\n",
       "      <td>0</td>\n",
       "      <td>0</td>\n",
       "      <td>211536</td>\n",
       "      <td>13.0000</td>\n",
       "      <td>NaN</td>\n",
       "      <td>S</td>\n",
       "      <td>N</td>\n",
       "    </tr>\n",
       "    <tr>\n",
       "      <th>887</th>\n",
       "      <td>888</td>\n",
       "      <td>1</td>\n",
       "      <td>1</td>\n",
       "      <td>Graham, Miss. Margaret Edith</td>\n",
       "      <td>female</td>\n",
       "      <td>19.0</td>\n",
       "      <td>0</td>\n",
       "      <td>0</td>\n",
       "      <td>112053</td>\n",
       "      <td>30.0000</td>\n",
       "      <td>B42</td>\n",
       "      <td>S</td>\n",
       "      <td>B</td>\n",
       "    </tr>\n",
       "    <tr>\n",
       "      <th>888</th>\n",
       "      <td>889</td>\n",
       "      <td>0</td>\n",
       "      <td>3</td>\n",
       "      <td>Johnston, Miss. Catherine Helen \"Carrie\"</td>\n",
       "      <td>female</td>\n",
       "      <td>NaN</td>\n",
       "      <td>1</td>\n",
       "      <td>2</td>\n",
       "      <td>W./C. 6607</td>\n",
       "      <td>23.4500</td>\n",
       "      <td>NaN</td>\n",
       "      <td>S</td>\n",
       "      <td>N</td>\n",
       "    </tr>\n",
       "    <tr>\n",
       "      <th>889</th>\n",
       "      <td>890</td>\n",
       "      <td>1</td>\n",
       "      <td>1</td>\n",
       "      <td>Behr, Mr. Karl Howell</td>\n",
       "      <td>male</td>\n",
       "      <td>26.0</td>\n",
       "      <td>0</td>\n",
       "      <td>0</td>\n",
       "      <td>111369</td>\n",
       "      <td>30.0000</td>\n",
       "      <td>C148</td>\n",
       "      <td>C</td>\n",
       "      <td>C</td>\n",
       "    </tr>\n",
       "    <tr>\n",
       "      <th>890</th>\n",
       "      <td>891</td>\n",
       "      <td>0</td>\n",
       "      <td>3</td>\n",
       "      <td>Dooley, Mr. Patrick</td>\n",
       "      <td>male</td>\n",
       "      <td>32.0</td>\n",
       "      <td>0</td>\n",
       "      <td>0</td>\n",
       "      <td>370376</td>\n",
       "      <td>7.7500</td>\n",
       "      <td>NaN</td>\n",
       "      <td>Q</td>\n",
       "      <td>N</td>\n",
       "    </tr>\n",
       "  </tbody>\n",
       "</table>\n",
       "<p>891 rows × 13 columns</p>\n",
       "</div>"
      ],
      "text/plain": [
       "     PassengerId  Survived  Pclass  \\\n",
       "0              1         0       3   \n",
       "1              2         1       1   \n",
       "2              3         1       3   \n",
       "3              4         1       1   \n",
       "4              5         0       3   \n",
       "..           ...       ...     ...   \n",
       "886          887         0       2   \n",
       "887          888         1       1   \n",
       "888          889         0       3   \n",
       "889          890         1       1   \n",
       "890          891         0       3   \n",
       "\n",
       "                                                  Name     Sex   Age  SibSp  \\\n",
       "0                              Braund, Mr. Owen Harris    male  22.0      1   \n",
       "1    Cumings, Mrs. John Bradley (Florence Briggs Th...  female  38.0      1   \n",
       "2                               Heikkinen, Miss. Laina  female  26.0      0   \n",
       "3         Futrelle, Mrs. Jacques Heath (Lily May Peel)  female  35.0      1   \n",
       "4                             Allen, Mr. William Henry    male  35.0      0   \n",
       "..                                                 ...     ...   ...    ...   \n",
       "886                              Montvila, Rev. Juozas    male  27.0      0   \n",
       "887                       Graham, Miss. Margaret Edith  female  19.0      0   \n",
       "888           Johnston, Miss. Catherine Helen \"Carrie\"  female   NaN      1   \n",
       "889                              Behr, Mr. Karl Howell    male  26.0      0   \n",
       "890                                Dooley, Mr. Patrick    male  32.0      0   \n",
       "\n",
       "     Parch            Ticket     Fare Cabin Embarked Deck  \n",
       "0        0         A/5 21171   7.2500   NaN        S    N  \n",
       "1        0          PC 17599  71.2833   C85        C    C  \n",
       "2        0  STON/O2. 3101282   7.9250   NaN        S    N  \n",
       "3        0            113803  53.1000  C123        S    C  \n",
       "4        0            373450   8.0500   NaN        S    N  \n",
       "..     ...               ...      ...   ...      ...  ...  \n",
       "886      0            211536  13.0000   NaN        S    N  \n",
       "887      0            112053  30.0000   B42        S    B  \n",
       "888      2        W./C. 6607  23.4500   NaN        S    N  \n",
       "889      0            111369  30.0000  C148        C    C  \n",
       "890      0            370376   7.7500   NaN        Q    N  \n",
       "\n",
       "[891 rows x 13 columns]"
      ]
     },
     "execution_count": 5,
     "metadata": {},
     "output_type": "execute_result"
    }
   ],
   "source": [
    "#Handling Cabin feature by making a new featur \"Deck\" taking the fist letter and replace the missing values with 'N'\n",
    "\n",
    "df['Deck']=df[\"Cabin\"]\n",
    "df['Deck']=df[\"Deck\"].str.slice(0,1)\n",
    "df['Deck']=df[\"Deck\"].fillna(\"N\")\n",
    "df"
   ]
  },
  {
   "cell_type": "code",
   "execution_count": 6,
   "id": "9234615b",
   "metadata": {},
   "outputs": [],
   "source": [
    "#change the 'sex' , 'Embarked' , 'Deck' to numbers\n",
    "df['Sex']=pd.get_dummies(df['Sex'],drop_first=True)\n",
    "\n",
    "df.Embarked.replace(['S', 'C', 'Q'], [1, 2, 3], inplace=True)\n",
    "\n",
    "df.Deck.replace(['N', 'C', 'E', 'G', 'D', 'A', 'B', 'F', 'T'], [1, 2, 3,4,5,6,7,8,9], inplace=True)\n",
    "\n"
   ]
  },
  {
   "cell_type": "code",
   "execution_count": 7,
   "id": "85bd14cf",
   "metadata": {},
   "outputs": [
    {
     "data": {
      "text/html": [
       "<div>\n",
       "<style scoped>\n",
       "    .dataframe tbody tr th:only-of-type {\n",
       "        vertical-align: middle;\n",
       "    }\n",
       "\n",
       "    .dataframe tbody tr th {\n",
       "        vertical-align: top;\n",
       "    }\n",
       "\n",
       "    .dataframe thead th {\n",
       "        text-align: right;\n",
       "    }\n",
       "</style>\n",
       "<table border=\"1\" class=\"dataframe\">\n",
       "  <thead>\n",
       "    <tr style=\"text-align: right;\">\n",
       "      <th></th>\n",
       "      <th>PassengerId</th>\n",
       "      <th>Survived</th>\n",
       "      <th>Pclass</th>\n",
       "      <th>Name</th>\n",
       "      <th>Sex</th>\n",
       "      <th>Age</th>\n",
       "      <th>SibSp</th>\n",
       "      <th>Parch</th>\n",
       "      <th>Ticket</th>\n",
       "      <th>Fare</th>\n",
       "      <th>Cabin</th>\n",
       "      <th>Embarked</th>\n",
       "      <th>Deck</th>\n",
       "      <th>KNN_pridect_Age</th>\n",
       "    </tr>\n",
       "  </thead>\n",
       "  <tbody>\n",
       "    <tr>\n",
       "      <th>0</th>\n",
       "      <td>1</td>\n",
       "      <td>0</td>\n",
       "      <td>3</td>\n",
       "      <td>Braund, Mr. Owen Harris</td>\n",
       "      <td>1</td>\n",
       "      <td>22.0</td>\n",
       "      <td>1</td>\n",
       "      <td>0</td>\n",
       "      <td>A/5 21171</td>\n",
       "      <td>7.2500</td>\n",
       "      <td>NaN</td>\n",
       "      <td>1</td>\n",
       "      <td>1</td>\n",
       "      <td>22</td>\n",
       "    </tr>\n",
       "    <tr>\n",
       "      <th>1</th>\n",
       "      <td>2</td>\n",
       "      <td>1</td>\n",
       "      <td>1</td>\n",
       "      <td>Cumings, Mrs. John Bradley (Florence Briggs Th...</td>\n",
       "      <td>0</td>\n",
       "      <td>38.0</td>\n",
       "      <td>1</td>\n",
       "      <td>0</td>\n",
       "      <td>PC 17599</td>\n",
       "      <td>71.2833</td>\n",
       "      <td>C85</td>\n",
       "      <td>2</td>\n",
       "      <td>2</td>\n",
       "      <td>38</td>\n",
       "    </tr>\n",
       "    <tr>\n",
       "      <th>2</th>\n",
       "      <td>3</td>\n",
       "      <td>1</td>\n",
       "      <td>3</td>\n",
       "      <td>Heikkinen, Miss. Laina</td>\n",
       "      <td>0</td>\n",
       "      <td>26.0</td>\n",
       "      <td>0</td>\n",
       "      <td>0</td>\n",
       "      <td>STON/O2. 3101282</td>\n",
       "      <td>7.9250</td>\n",
       "      <td>NaN</td>\n",
       "      <td>1</td>\n",
       "      <td>1</td>\n",
       "      <td>26</td>\n",
       "    </tr>\n",
       "    <tr>\n",
       "      <th>3</th>\n",
       "      <td>4</td>\n",
       "      <td>1</td>\n",
       "      <td>1</td>\n",
       "      <td>Futrelle, Mrs. Jacques Heath (Lily May Peel)</td>\n",
       "      <td>0</td>\n",
       "      <td>35.0</td>\n",
       "      <td>1</td>\n",
       "      <td>0</td>\n",
       "      <td>113803</td>\n",
       "      <td>53.1000</td>\n",
       "      <td>C123</td>\n",
       "      <td>1</td>\n",
       "      <td>2</td>\n",
       "      <td>35</td>\n",
       "    </tr>\n",
       "    <tr>\n",
       "      <th>4</th>\n",
       "      <td>5</td>\n",
       "      <td>0</td>\n",
       "      <td>3</td>\n",
       "      <td>Allen, Mr. William Henry</td>\n",
       "      <td>1</td>\n",
       "      <td>35.0</td>\n",
       "      <td>0</td>\n",
       "      <td>0</td>\n",
       "      <td>373450</td>\n",
       "      <td>8.0500</td>\n",
       "      <td>NaN</td>\n",
       "      <td>1</td>\n",
       "      <td>1</td>\n",
       "      <td>35</td>\n",
       "    </tr>\n",
       "    <tr>\n",
       "      <th>...</th>\n",
       "      <td>...</td>\n",
       "      <td>...</td>\n",
       "      <td>...</td>\n",
       "      <td>...</td>\n",
       "      <td>...</td>\n",
       "      <td>...</td>\n",
       "      <td>...</td>\n",
       "      <td>...</td>\n",
       "      <td>...</td>\n",
       "      <td>...</td>\n",
       "      <td>...</td>\n",
       "      <td>...</td>\n",
       "      <td>...</td>\n",
       "      <td>...</td>\n",
       "    </tr>\n",
       "    <tr>\n",
       "      <th>886</th>\n",
       "      <td>887</td>\n",
       "      <td>0</td>\n",
       "      <td>2</td>\n",
       "      <td>Montvila, Rev. Juozas</td>\n",
       "      <td>1</td>\n",
       "      <td>27.0</td>\n",
       "      <td>0</td>\n",
       "      <td>0</td>\n",
       "      <td>211536</td>\n",
       "      <td>13.0000</td>\n",
       "      <td>NaN</td>\n",
       "      <td>1</td>\n",
       "      <td>1</td>\n",
       "      <td>27</td>\n",
       "    </tr>\n",
       "    <tr>\n",
       "      <th>887</th>\n",
       "      <td>888</td>\n",
       "      <td>1</td>\n",
       "      <td>1</td>\n",
       "      <td>Graham, Miss. Margaret Edith</td>\n",
       "      <td>0</td>\n",
       "      <td>19.0</td>\n",
       "      <td>0</td>\n",
       "      <td>0</td>\n",
       "      <td>112053</td>\n",
       "      <td>30.0000</td>\n",
       "      <td>B42</td>\n",
       "      <td>1</td>\n",
       "      <td>7</td>\n",
       "      <td>19</td>\n",
       "    </tr>\n",
       "    <tr>\n",
       "      <th>888</th>\n",
       "      <td>889</td>\n",
       "      <td>0</td>\n",
       "      <td>3</td>\n",
       "      <td>Johnston, Miss. Catherine Helen \"Carrie\"</td>\n",
       "      <td>0</td>\n",
       "      <td>NaN</td>\n",
       "      <td>1</td>\n",
       "      <td>2</td>\n",
       "      <td>W./C. 6607</td>\n",
       "      <td>23.4500</td>\n",
       "      <td>NaN</td>\n",
       "      <td>1</td>\n",
       "      <td>1</td>\n",
       "      <td>33</td>\n",
       "    </tr>\n",
       "    <tr>\n",
       "      <th>889</th>\n",
       "      <td>890</td>\n",
       "      <td>1</td>\n",
       "      <td>1</td>\n",
       "      <td>Behr, Mr. Karl Howell</td>\n",
       "      <td>1</td>\n",
       "      <td>26.0</td>\n",
       "      <td>0</td>\n",
       "      <td>0</td>\n",
       "      <td>111369</td>\n",
       "      <td>30.0000</td>\n",
       "      <td>C148</td>\n",
       "      <td>2</td>\n",
       "      <td>2</td>\n",
       "      <td>26</td>\n",
       "    </tr>\n",
       "    <tr>\n",
       "      <th>890</th>\n",
       "      <td>891</td>\n",
       "      <td>0</td>\n",
       "      <td>3</td>\n",
       "      <td>Dooley, Mr. Patrick</td>\n",
       "      <td>1</td>\n",
       "      <td>32.0</td>\n",
       "      <td>0</td>\n",
       "      <td>0</td>\n",
       "      <td>370376</td>\n",
       "      <td>7.7500</td>\n",
       "      <td>NaN</td>\n",
       "      <td>3</td>\n",
       "      <td>1</td>\n",
       "      <td>32</td>\n",
       "    </tr>\n",
       "  </tbody>\n",
       "</table>\n",
       "<p>891 rows × 14 columns</p>\n",
       "</div>"
      ],
      "text/plain": [
       "     PassengerId  Survived  Pclass  \\\n",
       "0              1         0       3   \n",
       "1              2         1       1   \n",
       "2              3         1       3   \n",
       "3              4         1       1   \n",
       "4              5         0       3   \n",
       "..           ...       ...     ...   \n",
       "886          887         0       2   \n",
       "887          888         1       1   \n",
       "888          889         0       3   \n",
       "889          890         1       1   \n",
       "890          891         0       3   \n",
       "\n",
       "                                                  Name  Sex   Age  SibSp  \\\n",
       "0                              Braund, Mr. Owen Harris    1  22.0      1   \n",
       "1    Cumings, Mrs. John Bradley (Florence Briggs Th...    0  38.0      1   \n",
       "2                               Heikkinen, Miss. Laina    0  26.0      0   \n",
       "3         Futrelle, Mrs. Jacques Heath (Lily May Peel)    0  35.0      1   \n",
       "4                             Allen, Mr. William Henry    1  35.0      0   \n",
       "..                                                 ...  ...   ...    ...   \n",
       "886                              Montvila, Rev. Juozas    1  27.0      0   \n",
       "887                       Graham, Miss. Margaret Edith    0  19.0      0   \n",
       "888           Johnston, Miss. Catherine Helen \"Carrie\"    0   NaN      1   \n",
       "889                              Behr, Mr. Karl Howell    1  26.0      0   \n",
       "890                                Dooley, Mr. Patrick    1  32.0      0   \n",
       "\n",
       "     Parch            Ticket     Fare Cabin  Embarked  Deck  KNN_pridect_Age  \n",
       "0        0         A/5 21171   7.2500   NaN         1     1               22  \n",
       "1        0          PC 17599  71.2833   C85         2     2               38  \n",
       "2        0  STON/O2. 3101282   7.9250   NaN         1     1               26  \n",
       "3        0            113803  53.1000  C123         1     2               35  \n",
       "4        0            373450   8.0500   NaN         1     1               35  \n",
       "..     ...               ...      ...   ...       ...   ...              ...  \n",
       "886      0            211536  13.0000   NaN         1     1               27  \n",
       "887      0            112053  30.0000   B42         1     7               19  \n",
       "888      2        W./C. 6607  23.4500   NaN         1     1               33  \n",
       "889      0            111369  30.0000  C148         2     2               26  \n",
       "890      0            370376   7.7500   NaN         3     1               32  \n",
       "\n",
       "[891 rows x 14 columns]"
      ]
     },
     "execution_count": 7,
     "metadata": {},
     "output_type": "execute_result"
    }
   ],
   "source": [
    "##not for this session\n",
    "#Second method of age\n",
    "#use sklearn to applay the KNNImputer to predict the missing values of the age\n",
    "from sklearn.impute import KNNImputer\n",
    "imputer=KNNImputer(n_neighbors=2)\n",
    "df_filled=pd.DataFrame(imputer.fit_transform(df[['Survived' ,'Pclass','SibSp','Parch','Fare','Deck','Embarked','Age']]),)\n",
    "df['KNN_pridect_Age']=df_filled[7].astype(int)\n",
    "df"
   ]
  },
  {
   "cell_type": "code",
   "execution_count": 14,
   "id": "bb755420",
   "metadata": {},
   "outputs": [],
   "source": [
    "df.drop(['Name','Ticket','Cabin','Age'] ,axis=1 , inplace=True)"
   ]
  },
  {
   "cell_type": "code",
   "execution_count": 15,
   "id": "67ce03c9",
   "metadata": {},
   "outputs": [
    {
     "data": {
      "image/png": "[encoded data removed]",
      "text/plain": [
       "<Figure size 1000x800 with 2 Axes>"
      ]
     },
     "metadata": {},
     "output_type": "display_data"
    }
   ],
   "source": [
    "#session start\n",
    "#Finding correlations to determine the necessary features by heatmap\n",
    "import matplotlib.pyplot as plt\n",
    "\n",
    "import seaborn as sns\n",
    "plt.figure(figsize=(10,8))\n",
    "sns.heatmap(df.corr(),annot=True)\n",
    "plt.show()\n"
   ]
  },
  {
   "cell_type": "code",
   "execution_count": null,
   "id": "95a97d24",
   "metadata": {},
   "outputs": [],
   "source": []
  },
  {
   "cell_type": "markdown",
   "id": "e0fa860b",
   "metadata": {},
   "source": [
    "#  Workhsop 3"
   ]
  },
  {
   "cell_type": "code",
   "execution_count": 9,
   "id": "85f2b5df",
   "metadata": {},
   "outputs": [],
   "source": [
    "X=df[['Pclass', 'Sex', 'KNN_pridect_Age', 'SibSp', 'Parch','Fare','Embarked' ,'Deck']]\n",
    "x1= df[['Pclass', 'Sex', 'KNN_pridect_Age']]\n",
    "x2 = df[['SibSp', 'Parch','Fare']]\n",
    "x3 =df[[ 'Sex', 'Embarked' ,'Deck']]\n",
    "\n",
    "y=df['Survived']"
   ]
  },
  {
   "cell_type": "code",
   "execution_count": 10,
   "id": "1ae5f006",
   "metadata": {},
   "outputs": [],
   "source": [
    "#Split"
   ]
  },
  {
   "cell_type": "code",
   "execution_count": 11,
   "id": "1abc1b47",
   "metadata": {},
   "outputs": [
    {
     "name": "stdout",
     "output_type": "stream",
     "text": [
      "Accuracy dict:  {0.2: 0.79, 0.25: 0.82, 0.3: 0.79, 0.35: 0.79, 0.4: 0.78, 0.45: 0.8}\n"
     ]
    }
   ],
   "source": [
    "accuracy_dict={}\n",
    "for i in np.arange(0.2,0.5,0.05):\n",
    "    X_train,X_test,y_train,y_test=train_test_split(X,y,test_size=i)      \n",
    "    LR=LogisticRegression().fit(X_train,y_train)\n",
    "    y_predict=LR.predict(X_test)\n",
    "    s=accuracy_score(y_predict,y_test)\n",
    "    accuracy_dict[round(i,2)]=round(s,2)\n",
    "     \n",
    "    \n",
    "print(\"Accuracy dict: \", accuracy_dict)"
   ]
  },
  {
   "cell_type": "code",
   "execution_count": 18,
   "id": "2da8f29d",
   "metadata": {
    "scrolled": true
   },
   "outputs": [
    {
     "data": {
      "text/plain": [
       "[<matplotlib.lines.Line2D at 0x7fe1a81211b0>]"
      ]
     },
     "execution_count": 18,
     "metadata": {},
     "output_type": "execute_result"
    },
    {
     "data": {
      "image/png": "[encoded data removed]",
      "text/plain": [
       "<Figure size 640x480 with 1 Axes>"
      ]
     },
     "metadata": {},
     "output_type": "display_data"
    }
   ],
   "source": [
    "keys = accuracy_dict.keys()\n",
    "values = accuracy_dict.values()\n",
    "\n",
    "plt.plot(keys, values, linestyle='--', marker='o', color='r', label='line with marker')"
   ]
  },
  {
   "cell_type": "code",
   "execution_count": 19,
   "id": "e2d3ef2f",
   "metadata": {},
   "outputs": [
    {
     "name": "stdout",
     "output_type": "stream",
     "text": [
      "0.2\n",
      "\n",
      " CV accuracy for k=1 is 69\n",
      "\n",
      " CV accuracy for k=2 is 68\n",
      "\n",
      " CV accuracy for k=3 is 73\n",
      "\n",
      " CV accuracy for k=4 is 69\n",
      "\n",
      " CV accuracy for k=5 is 72\n",
      "\n",
      " CV accuracy for k=6 is 68\n",
      "\n",
      " CV accuracy for k=7 is 70\n",
      "\n",
      " CV accuracy for k=8 is 70\n",
      "\n",
      " CV accuracy for k=9 is 71\n",
      "\n",
      " CV accuracy for k=10 is 69\n",
      "\n",
      " CV accuracy for k=11 is 70\n",
      "\n",
      " CV accuracy for k=12 is 72\n",
      "\n",
      " CV accuracy for k=13 is 72\n",
      "\n",
      " CV accuracy for k=14 is 70\n",
      "\n",
      " CV accuracy for k=15 is 69\n",
      "\n",
      " CV accuracy for k=16 is 70\n",
      "\n",
      " CV accuracy for k=17 is 69\n",
      "\n",
      " CV accuracy for k=18 is 70\n",
      "\n",
      " CV accuracy for k=19 is 68\n",
      "3 73.18435754189943 \n",
      "\n",
      "0.25\n",
      "\n",
      " CV accuracy for k=1 is 73\n",
      "\n",
      " CV accuracy for k=2 is 69\n",
      "\n",
      " CV accuracy for k=3 is 72\n",
      "\n",
      " CV accuracy for k=4 is 72\n",
      "\n",
      " CV accuracy for k=5 is 69\n",
      "\n",
      " CV accuracy for k=6 is 70\n",
      "\n",
      " CV accuracy for k=7 is 71\n",
      "\n",
      " CV accuracy for k=8 is 71\n",
      "\n",
      " CV accuracy for k=9 is 72\n",
      "\n",
      " CV accuracy for k=10 is 71\n",
      "\n",
      " CV accuracy for k=11 is 71\n",
      "\n",
      " CV accuracy for k=12 is 73\n",
      "\n",
      " CV accuracy for k=13 is 73\n",
      "\n",
      " CV accuracy for k=14 is 74\n",
      "\n",
      " CV accuracy for k=15 is 72\n",
      "\n",
      " CV accuracy for k=16 is 73\n",
      "\n",
      " CV accuracy for k=17 is 71\n",
      "\n",
      " CV accuracy for k=18 is 72\n",
      "\n",
      " CV accuracy for k=19 is 70\n",
      "14 74.43946188340807 \n",
      "\n",
      "0.3\n",
      "\n",
      " CV accuracy for k=1 is 69\n",
      "\n",
      " CV accuracy for k=2 is 67\n",
      "\n",
      " CV accuracy for k=3 is 73\n",
      "\n",
      " CV accuracy for k=4 is 71\n",
      "\n",
      " CV accuracy for k=5 is 73\n",
      "\n",
      " CV accuracy for k=6 is 73\n",
      "\n",
      " CV accuracy for k=7 is 72\n",
      "\n",
      " CV accuracy for k=8 is 73\n",
      "\n",
      " CV accuracy for k=9 is 73\n",
      "\n",
      " CV accuracy for k=10 is 72\n",
      "\n",
      " CV accuracy for k=11 is 74\n",
      "\n",
      " CV accuracy for k=12 is 73\n",
      "\n",
      " CV accuracy for k=13 is 75\n",
      "\n",
      " CV accuracy for k=14 is 74\n",
      "\n",
      " CV accuracy for k=15 is 74\n",
      "\n",
      " CV accuracy for k=16 is 73\n",
      "\n",
      " CV accuracy for k=17 is 75\n",
      "\n",
      " CV accuracy for k=18 is 75\n",
      "\n",
      " CV accuracy for k=19 is 73\n",
      "17 75.74626865671642 \n",
      "\n"
     ]
    },
    {
     "data": {
      "text/plain": [
       "{0.2: 73.18435754189943, 0.25: 74.43946188340807, 0.3: 75.74626865671642}"
      ]
     },
     "execution_count": 19,
     "metadata": {},
     "output_type": "execute_result"
    }
   ],
   "source": [
    "hritikas_dictionary = {}\n",
    "for i in np.arange(0.2,0.31,0.05):\n",
    "    X_train,X_test,y_train,y_test=train_test_split(X,y,test_size=i)\n",
    "    print(i)\n",
    "    #print(\"Test sample size: \", i)\n",
    "    #print(\"\\n\")\n",
    "    final_scores = []\n",
    "    for j in range(1,20,1):\n",
    "        knn = KNeighborsClassifier(n_neighbors = j)\n",
    "        knn.fit(X_train, y_train)\n",
    "        pred = knn.predict(X_test)\n",
    "        acc = accuracy_score(y_test, pred, normalize=True) * float(100)\n",
    "        final_scores.append(acc)\n",
    "        print('\\n CV accuracy for k=%d is %d'%(j,acc))\n",
    "    optimal_k = final_scores.index(max(final_scores))\n",
    "    max_scores = max(final_scores)\n",
    "    print(optimal_k+1,max(final_scores), \"\\n\") \n",
    "    hritikas_dictionary[i] = max(final_scores)\n",
    "       \n",
    "hritikas_dictionary\n",
    "#The best result is test sample =0.2\n",
    "#k=15"
   ]
  },
  {
   "cell_type": "code",
   "execution_count": 20,
   "id": "51566321",
   "metadata": {
    "scrolled": true
   },
   "outputs": [
    {
     "name": "stdout",
     "output_type": "stream",
     "text": [
      "[[110  28]\n",
      " [ 31  54]]\n",
      "Accuracy score:  73.54260089686099\n"
     ]
    },
    {
     "data": {
      "image/png": "[encoded data removed]",
      "text/plain": [
       "<Figure size 500x500 with 2 Axes>"
      ]
     },
     "metadata": {},
     "output_type": "display_data"
    }
   ],
   "source": [
    "X_train,X_test,y_train,y_test=train_test_split(X,y,test_size=0.25)\n",
    "knn = KNeighborsClassifier(n_neighbors = 9)\n",
    "knn.fit(X_train, y_train)\n",
    "pred = knn.predict(X_test)\n",
    "acc = accuracy_score(y_test, pred, normalize=True) * float(100)\n",
    "con_mat=confusion_matrix(y_test,pred)\n",
    "print(con_mat)\n",
    "print(\"Accuracy score: \", acc)\n",
    "plt.figure(figsize=(5,5))\n",
    "sns.heatmap(con_mat, annot=True, fmt=\".1f\", linewidths=.5, square = True, cmap = 'Blues_r');\n",
    "plt.ylabel('Actual label');\n",
    "plt.xlabel('Predicted label');"
   ]
  },
  {
   "cell_type": "code",
   "execution_count": 25,
   "id": "c79ab1c8",
   "metadata": {
    "scrolled": true
   },
   "outputs": [
    {
     "name": "stdout",
     "output_type": "stream",
     "text": [
      "Accuracy score: 0.8324022346368715 \n",
      "\n",
      "Accuracy score: 0.8251121076233184 \n",
      "\n",
      "Accuracy score: 0.8022388059701493 \n",
      "\n",
      "Accuracy score: 0.7756410256410257 \n",
      "\n",
      "Accuracy score: 0.834733893557423 \n",
      "\n",
      "Accuracy score: 0.800498753117207 \n",
      "\n",
      "Confusion matrix:  [[110  28]\n",
      " [ 31  54]]\n",
      "{0.2: 0.832, 0.25: 0.825, 0.3: 0.802, 0.35: 0.776, 0.4: 0.835, 0.45: 0.8}\n"
     ]
    },
    {
     "data": {
      "image/png": "[encoded data removed]",
      "text/plain": [
       "<Figure size 500x500 with 2 Axes>"
      ]
     },
     "metadata": {},
     "output_type": "display_data"
    }
   ],
   "source": [
    "\n",
    "from sklearn.metrics import confusion_matrix\n",
    "from sklearn.discriminant_analysis import LinearDiscriminantAnalysis\n",
    "accuracy_dict1={}\n",
    "for i in np.arange(0.2, 0.5, 0.05):\n",
    "    X_train,X_test,y_train,y_test=train_test_split(X,y,test_size=i)\n",
    "    model = LinearDiscriminantAnalysis()\n",
    "    res = model.fit(X_train, y_train).transform(X_train)\n",
    "    y_pred= model.predict(X_test)\n",
    "    model.decision_function(X_test)\n",
    "    score=accuracy_score(y_pred,y_test)\n",
    "    accuracy_dict1[round(i,2)]=round(score,3)\n",
    "    print(\"Accuracy score:\", score, \"\\n\")\n",
    "\n",
    "#Confusion matrix\n",
    "print(\"Confusion matrix: \",  con_mat)\n",
    "plt.figure(figsize=(5,5))\n",
    "sns.heatmap(con_mat, annot=True, fmt=\".1f\", linewidths=.5, square = True, cmap = 'Blues_r');\n",
    "plt.ylabel('Actual label');\n",
    "plt.xlabel('Predicted label');\n",
    "plt.title(round(i,2))\n",
    "    \n",
    "print(accuracy_dict1)"
   ]
  },
  {
   "cell_type": "code",
   "execution_count": 26,
   "id": "eacf9667",
   "metadata": {
    "scrolled": true
   },
   "outputs": [
    {
     "data": {
      "text/plain": [
       "[<matplotlib.lines.Line2D at 0x7fe1a8028ca0>]"
      ]
     },
     "execution_count": 26,
     "metadata": {},
     "output_type": "execute_result"
    },
    {
     "data": {
      "image/png": "[encoded data removed]",
      "text/plain": [
       "<Figure size 640x480 with 1 Axes>"
      ]
     },
     "metadata": {},
     "output_type": "display_data"
    }
   ],
   "source": [
    "keys = accuracy_dict1.keys()\n",
    "values = accuracy_dict1.values()\n",
    "\n",
    "plt.plot(keys, values, linestyle='--', marker='o', color='r', label='line with marker')"
   ]
  },
  {
   "cell_type": "code",
   "execution_count": null,
   "id": "752df1f7",
   "metadata": {},
   "outputs": [],
   "source": [
    "#Cross Validation"
   ]
  },
  {
   "cell_type": "code",
   "execution_count": 29,
   "id": "4c28ff71",
   "metadata": {},
   "outputs": [
    {
     "name": "stdout",
     "output_type": "stream",
     "text": [
      "Score mean5: 0.7968426338585148\n",
      "Score mean10: 0.802434456928839\n"
     ]
    }
   ],
   "source": [
    "#Logistic Regression\n",
    "\n",
    "LR=LogisticRegression()\n",
    "score5=cross_val_score(LR,X,y,cv=5)\n",
    "score10=cross_val_score(LR,X,y,cv=10)\n",
    "\n",
    "print('Score mean5:' ,score5.mean())\n",
    "print('Score mean10:' ,score10.mean())\n"
   ]
  },
  {
   "cell_type": "code",
   "execution_count": 30,
   "id": "b341a924",
   "metadata": {},
   "outputs": [
    {
     "name": "stdout",
     "output_type": "stream",
     "text": [
      "best k= 15 score: 0.7105140920218441\n",
      "best k= 9 score: 0.7116229712858926\n"
     ]
    }
   ],
   "source": [
    "# KNN\n",
    "\n",
    "\n",
    "final_scores5 = []\n",
    "final_scores10 = []\n",
    "for i in range(1,20,1):\n",
    "    knn = KNeighborsClassifier(n_neighbors = i)  \n",
    "   \n",
    "    score5=cross_val_score(knn,X,y,cv=5)    \n",
    "    final_scores5.append(score5.mean())\n",
    "    \n",
    "    score10=cross_val_score(knn,X,y,cv=10)    \n",
    "    final_scores10.append(score10.mean())\n",
    "\n",
    "optimal_k5 = final_scores5.index(max(final_scores5))\n",
    "print('best k=',optimal_k5 +1, 'score:',max(final_scores5))\n",
    "optimal_k10=final_scores10.index(max(final_scores10))\n",
    "print('best k=',optimal_k10+1,'score:',max(final_scores10))"
   ]
  },
  {
   "cell_type": "code",
   "execution_count": 31,
   "id": "058f8b5f",
   "metadata": {
    "scrolled": true
   },
   "outputs": [
    {
     "name": "stdout",
     "output_type": "stream",
     "text": [
      "Score mean5: 0.7957190383528969\n",
      "Score mean10: 0.799063670411985\n"
     ]
    }
   ],
   "source": [
    "#Discriminant Analysis\n",
    "\n",
    "model = LinearDiscriminantAnalysis()\n",
    "score5=cross_val_score(model,X,y,cv=5)\n",
    "score10=cross_val_score(model,X,y,cv=10)\n",
    "\n",
    "print('Score mean5:' ,score5.mean())\n",
    "print('Score mean10:' ,score10.mean())\n"
   ]
  },
  {
   "cell_type": "code",
   "execution_count": null,
   "id": "a0b8e593",
   "metadata": {},
   "outputs": [],
   "source": []
  },
  {
   "cell_type": "code",
   "execution_count": 32,
   "id": "9c17f23b",
   "metadata": {},
   "outputs": [
    {
     "name": "stdout",
     "output_type": "stream",
     "text": [
      "0.7835820895522388\n",
      "Confusion_matrix for x1: [[110  28]\n",
      " [ 31  54]]\n",
      "0.6865671641791045\n",
      "Confusion_matrix for x2: [[110  28]\n",
      " [ 31  54]]\n",
      "0.7910447761194029\n",
      "Confusion_matrix for x3: [[110  28]\n",
      " [ 31  54]]\n",
      "{'x1': 0.7835820895522388, 'x2': 0.6865671641791045, 'x3': 0.7910447761194029}\n"
     ]
    },
    {
     "data": {
      "image/png": "[encoded data removed]",
      "text/plain": [
       "<Figure size 500x500 with 2 Axes>"
      ]
     },
     "metadata": {},
     "output_type": "display_data"
    },
    {
     "data": {
      "image/png": "[encoded data removed]",
      "text/plain": [
       "<Figure size 500x500 with 2 Axes>"
      ]
     },
     "metadata": {},
     "output_type": "display_data"
    },
    {
     "data": {
      "image/png": "[encoded data removed]",
      "text/plain": [
       "<Figure size 500x500 with 2 Axes>"
      ]
     },
     "metadata": {},
     "output_type": "display_data"
    }
   ],
   "source": [
    "fList=[x1,x2,x3]\n",
    "ls = ['x1','x2','x3']\n",
    "count = 0\n",
    "acc_dict={}\n",
    "for i in fList:\n",
    "    X_train,X_test,y_train,y_test=train_test_split(i,y,test_size=0.3)\n",
    "    #Logistic Regression\n",
    "   \n",
    "    LR=LogisticRegression().fit(X_train,y_train)\n",
    "    y_predict=LR.predict(X_test)\n",
    "    s=accuracy_score(y_predict,y_test)\n",
    "    acc_dict[ls[count]]=s\n",
    "    print(s)\n",
    "    print(\"Confusion_matrix for {}:\".format(ls[count]), con_mat)\n",
    "    count+=1\n",
    "    plt.figure(figsize=(5,5))\n",
    "    sns.heatmap(con_mat, annot=True, fmt=\".1f\", linewidths=.5, square = True, cmap = 'Blues_r');\n",
    "    plt.ylabel('Actual label');\n",
    "    plt.xlabel('Predicted label');\n",
    "    \n",
    "print(acc_dict)"
   ]
  },
  {
   "cell_type": "code",
   "execution_count": 33,
   "id": "a583d41e",
   "metadata": {},
   "outputs": [
    {
     "name": "stdout",
     "output_type": "stream",
     "text": [
      "Score: [0.808      0.808      0.808      0.70967742 0.75      ]\n",
      "\n",
      " CV accuracy for k=1 is 78\n",
      "Score: [0.776      0.792      0.776      0.78225806 0.76612903]\n",
      "\n",
      " CV accuracy for k=2 is 72\n",
      "Score: [0.784      0.768      0.768      0.69354839 0.71774194]\n",
      "\n",
      " CV accuracy for k=3 is 74\n",
      "Score: [0.8        0.768      0.824      0.74193548 0.73387097]\n",
      "\n",
      " CV accuracy for k=4 is 75\n",
      "Score: [0.776      0.76       0.768      0.73387097 0.75806452]\n",
      "\n",
      " CV accuracy for k=5 is 76\n",
      "Score: [0.736      0.76       0.768      0.74193548 0.7016129 ]\n",
      "\n",
      " CV accuracy for k=6 is 75\n",
      "Score: [0.752      0.736      0.752      0.75806452 0.74193548]\n",
      "\n",
      " CV accuracy for k=7 is 75\n",
      "Score: [0.696      0.736      0.76       0.76612903 0.71774194]\n",
      "\n",
      " CV accuracy for k=8 is 75\n",
      "Score: [0.688      0.728      0.768      0.76612903 0.72580645]\n",
      "\n",
      " CV accuracy for k=9 is 75\n",
      "Score: [0.696      0.72       0.728      0.75806452 0.72580645]\n",
      "\n",
      " CV accuracy for k=10 is 74\n",
      "Score: [0.728      0.744      0.744      0.77419355 0.75      ]\n",
      "\n",
      " CV accuracy for k=11 is 75\n",
      "Score: [0.72       0.736      0.672      0.76612903 0.72580645]\n",
      "\n",
      " CV accuracy for k=12 is 72\n",
      "Score: [0.728      0.728      0.704      0.75806452 0.74193548]\n",
      "\n",
      " CV accuracy for k=13 is 74\n",
      "Score: [0.728      0.72       0.712      0.72580645 0.70967742]\n",
      "\n",
      " CV accuracy for k=14 is 72\n",
      "Score: [0.704      0.712      0.736      0.74193548 0.69354839]\n",
      "\n",
      " CV accuracy for k=15 is 75\n",
      "Score: [0.696      0.712      0.736      0.71774194 0.68548387]\n",
      "\n",
      " CV accuracy for k=16 is 73\n",
      "Score: [0.704      0.688      0.744      0.73387097 0.72580645]\n",
      "\n",
      " CV accuracy for k=17 is 75\n",
      "Score: [0.72       0.664      0.72       0.70967742 0.69354839]\n",
      "\n",
      " CV accuracy for k=18 is 72\n",
      "Score: [0.704      0.688      0.728      0.7016129  0.68548387]\n",
      "\n",
      " CV accuracy for k=19 is 75\n",
      "1\n",
      "Score: [0.64       0.664      0.624      0.60483871 0.67741935]\n",
      "\n",
      " CV accuracy for k=1 is 67\n",
      "Score: [0.688      0.68       0.64       0.61290323 0.66935484]\n",
      "\n",
      " CV accuracy for k=2 is 68\n",
      "Score: [0.632      0.672      0.624      0.62096774 0.68548387]\n",
      "\n",
      " CV accuracy for k=3 is 71\n",
      "Score: [0.704      0.656      0.656      0.62096774 0.68548387]\n",
      "\n",
      " CV accuracy for k=4 is 69\n",
      "Score: [0.768      0.664      0.624      0.62903226 0.66129032]\n",
      "\n",
      " CV accuracy for k=5 is 67\n",
      "Score: [0.696      0.688      0.648      0.63709677 0.66129032]\n",
      "\n",
      " CV accuracy for k=6 is 68\n",
      "Score: [0.72       0.688      0.656      0.62096774 0.69354839]\n",
      "\n",
      " CV accuracy for k=7 is 68\n",
      "Score: [0.712      0.728      0.648      0.62903226 0.68548387]\n",
      "\n",
      " CV accuracy for k=8 is 67\n",
      "Score: [0.736      0.736      0.632      0.59677419 0.66935484]\n",
      "\n",
      " CV accuracy for k=9 is 66\n",
      "Score: [0.696      0.76       0.672      0.63709677 0.68548387]\n",
      "\n",
      " CV accuracy for k=10 is 66\n",
      "Score: [0.712      0.696      0.704      0.58064516 0.67741935]\n",
      "\n",
      " CV accuracy for k=11 is 67\n",
      "Score: [0.696      0.696      0.736      0.58064516 0.67741935]\n",
      "\n",
      " CV accuracy for k=12 is 66\n",
      "Score: [0.688      0.672      0.696      0.58870968 0.67741935]\n",
      "\n",
      " CV accuracy for k=13 is 65\n",
      "Score: [0.696      0.704      0.696      0.60483871 0.67741935]\n",
      "\n",
      " CV accuracy for k=14 is 66\n",
      "Score: [0.688      0.664      0.68       0.59677419 0.68548387]\n",
      "\n",
      " CV accuracy for k=15 is 66\n",
      "Score: [0.72       0.696      0.704      0.61290323 0.68548387]\n",
      "\n",
      " CV accuracy for k=16 is 65\n",
      "Score: [0.704      0.688      0.672      0.60483871 0.68548387]\n",
      "\n",
      " CV accuracy for k=17 is 64\n",
      "Score: [0.696      0.72       0.68       0.62903226 0.68548387]\n",
      "\n",
      " CV accuracy for k=18 is 65\n",
      "Score: [0.68       0.712      0.664      0.62903226 0.68548387]\n",
      "\n",
      " CV accuracy for k=19 is 64\n",
      "3\n",
      "Score: [0.48       0.76       0.688      0.78225806 0.79032258]\n",
      "\n",
      " CV accuracy for k=1 is 76\n",
      "Score: [0.76       0.768      0.688      0.79032258 0.79032258]\n",
      "\n",
      " CV accuracy for k=2 is 73\n",
      "Score: [0.808      0.76       0.752      0.79032258 0.75806452]\n",
      "\n",
      " CV accuracy for k=3 is 76\n",
      "Score: [0.704      0.768      0.76       0.79032258 0.77419355]\n",
      "\n",
      " CV accuracy for k=4 is 73\n",
      "Score: [0.696      0.768      0.768      0.79032258 0.75806452]\n",
      "\n",
      " CV accuracy for k=5 is 73\n",
      "Score: [0.704      0.728      0.752      0.7983871  0.79032258]\n",
      "\n",
      " CV accuracy for k=6 is 73\n",
      "Score: [0.808      0.768      0.752      0.7983871  0.77419355]\n",
      "\n",
      " CV accuracy for k=7 is 77\n",
      "Score: [0.808      0.768      0.752      0.79032258 0.77419355]\n",
      "\n",
      " CV accuracy for k=8 is 73\n",
      "Score: [0.8        0.784      0.752      0.7983871  0.77419355]\n",
      "\n",
      " CV accuracy for k=9 is 77\n",
      "Score: [0.8        0.768      0.744      0.7983871  0.78225806]\n",
      "\n",
      " CV accuracy for k=10 is 77\n",
      "Score: [0.816     0.784     0.752     0.7983871 0.75     ]\n",
      "\n",
      " CV accuracy for k=11 is 77\n",
      "Score: [0.8       0.784     0.768     0.7983871 0.75     ]\n",
      "\n",
      " CV accuracy for k=12 is 77\n",
      "Score: [0.8       0.784     0.76      0.7983871 0.75     ]\n",
      "\n",
      " CV accuracy for k=13 is 77\n",
      "Score: [0.8       0.784     0.768     0.7983871 0.75     ]\n",
      "\n",
      " CV accuracy for k=14 is 77\n",
      "Score: [0.8       0.784     0.768     0.7983871 0.75     ]\n",
      "\n",
      " CV accuracy for k=15 is 77\n",
      "Score: [0.8       0.784     0.76      0.7983871 0.75     ]\n",
      "\n",
      " CV accuracy for k=16 is 77\n",
      "Score: [0.8        0.784      0.768      0.80645161 0.75      ]\n",
      "\n",
      " CV accuracy for k=17 is 77\n",
      "Score: [0.8        0.784      0.76       0.80645161 0.75      ]\n",
      "\n",
      " CV accuracy for k=18 is 76\n",
      "Score: [0.792      0.776      0.744      0.80645161 0.75      ]\n",
      "\n",
      " CV accuracy for k=19 is 77\n",
      "7\n",
      "{}\n"
     ]
    }
   ],
   "source": [
    "fList=[x1,x2,x3]\n",
    "ls = ['x1','x2','x3']\n",
    "count = 0\n",
    "acc_dict={}\n",
    "for i in fList:\n",
    "    X_train,X_test,y_train,y_test=train_test_split(i,y,test_size=0.3)\n",
    "    final_scores = []\n",
    "    for i in range(1,20,1):\n",
    "        knn = KNeighborsClassifier(n_neighbors = i)\n",
    "        knn.fit(X_train, y_train)\n",
    "        pred = knn.predict(X_test)\n",
    "        score=cross_val_score(knn,X_train,y_train,cv=5)\n",
    "        print(\"Score:\",score)\n",
    "        acc = accuracy_score(y_test, pred, normalize=True) * float(100)\n",
    "        final_scores.append(acc)\n",
    "        print('\\n CV accuracy for k=%d is %d'%(i,acc))\n",
    "    optimal_k = final_scores.index(max(final_scores))\n",
    "    print(optimal_k+1)   \n",
    "\n",
    "    \n",
    "print(acc_dict)"
   ]
  },
  {
   "cell_type": "code",
   "execution_count": null,
   "id": "5dd9482c",
   "metadata": {},
   "outputs": [],
   "source": []
  },
  {
   "cell_type": "code",
   "execution_count": 36,
   "id": "6936b57d",
   "metadata": {
    "scrolled": true
   },
   "outputs": [
    {
     "data": {
      "text/plain": [
       "[<matplotlib.lines.Line2D at 0x7fe1a4300ac0>]"
      ]
     },
     "execution_count": 36,
     "metadata": {},
     "output_type": "execute_result"
    },
    {
     "data": {
      "image/png": "[encoded data removed]",
      "text/plain": [
       "<Figure size 640x480 with 1 Axes>"
      ]
     },
     "metadata": {},
     "output_type": "display_data"
    }
   ],
   "source": [
    "keys = accuracy_dict.keys()\n",
    "values = accuracy_dict.values()\n",
    "\n",
    "plt.plot(keys, values, linestyle='--', marker='o', color='r', label='line with marker')"
   ]
  },
  {
   "cell_type": "code",
   "execution_count": 37,
   "id": "ba4c2816",
   "metadata": {},
   "outputs": [
    {
     "name": "stdout",
     "output_type": "stream",
     "text": [
      "0.2\n",
      "\n",
      " CV accuracy for k=1 is 77\n",
      "\n",
      " CV accuracy for k=2 is 74\n",
      "\n",
      " CV accuracy for k=3 is 80\n",
      "\n",
      " CV accuracy for k=4 is 73\n",
      "\n",
      " CV accuracy for k=5 is 76\n",
      "\n",
      " CV accuracy for k=6 is 72\n",
      "\n",
      " CV accuracy for k=7 is 74\n",
      "\n",
      " CV accuracy for k=8 is 71\n",
      "\n",
      " CV accuracy for k=9 is 73\n",
      "\n",
      " CV accuracy for k=10 is 73\n",
      "\n",
      " CV accuracy for k=11 is 69\n",
      "\n",
      " CV accuracy for k=12 is 74\n",
      "\n",
      " CV accuracy for k=13 is 71\n",
      "\n",
      " CV accuracy for k=14 is 71\n",
      "\n",
      " CV accuracy for k=15 is 72\n",
      "\n",
      " CV accuracy for k=16 is 74\n",
      "\n",
      " CV accuracy for k=17 is 73\n",
      "\n",
      " CV accuracy for k=18 is 72\n",
      "\n",
      " CV accuracy for k=19 is 74\n",
      "3 80.44692737430168 \n",
      "\n",
      "0.25\n",
      "\n",
      " CV accuracy for k=1 is 62\n",
      "\n",
      " CV accuracy for k=2 is 66\n",
      "\n",
      " CV accuracy for k=3 is 67\n",
      "\n",
      " CV accuracy for k=4 is 68\n",
      "\n",
      " CV accuracy for k=5 is 69\n",
      "\n",
      " CV accuracy for k=6 is 65\n",
      "\n",
      " CV accuracy for k=7 is 69\n",
      "\n",
      " CV accuracy for k=8 is 68\n",
      "\n",
      " CV accuracy for k=9 is 67\n",
      "\n",
      " CV accuracy for k=10 is 68\n",
      "\n",
      " CV accuracy for k=11 is 69\n",
      "\n",
      " CV accuracy for k=12 is 66\n",
      "\n",
      " CV accuracy for k=13 is 69\n",
      "\n",
      " CV accuracy for k=14 is 69\n",
      "\n",
      " CV accuracy for k=15 is 69\n",
      "\n",
      " CV accuracy for k=16 is 67\n",
      "\n",
      " CV accuracy for k=17 is 69\n",
      "\n",
      " CV accuracy for k=18 is 69\n",
      "\n",
      " CV accuracy for k=19 is 69\n",
      "7 69.95515695067265 \n",
      "\n",
      "0.3\n",
      "\n",
      " CV accuracy for k=1 is 67\n",
      "\n",
      " CV accuracy for k=2 is 71\n",
      "\n",
      " CV accuracy for k=3 is 72\n",
      "\n",
      " CV accuracy for k=4 is 71\n",
      "\n",
      " CV accuracy for k=5 is 70\n",
      "\n",
      " CV accuracy for k=6 is 74\n",
      "\n",
      " CV accuracy for k=7 is 70\n",
      "\n",
      " CV accuracy for k=8 is 72\n",
      "\n",
      " CV accuracy for k=9 is 71\n",
      "\n",
      " CV accuracy for k=10 is 73\n",
      "\n",
      " CV accuracy for k=11 is 72\n",
      "\n",
      " CV accuracy for k=12 is 72\n",
      "\n",
      " CV accuracy for k=13 is 73\n",
      "\n",
      " CV accuracy for k=14 is 73\n",
      "\n",
      " CV accuracy for k=15 is 72\n",
      "\n",
      " CV accuracy for k=16 is 73\n",
      "\n",
      " CV accuracy for k=17 is 72\n",
      "\n",
      " CV accuracy for k=18 is 72\n",
      "\n",
      " CV accuracy for k=19 is 72\n",
      "6 74.6268656716418 \n",
      "\n"
     ]
    },
    {
     "data": {
      "text/plain": [
       "{0.2: [77.6536312849162,\n",
       "  74.30167597765363,\n",
       "  80.44692737430168,\n",
       "  73.74301675977654,\n",
       "  76.53631284916202,\n",
       "  72.62569832402235,\n",
       "  74.30167597765363,\n",
       "  71.50837988826815,\n",
       "  73.18435754189943,\n",
       "  73.18435754189943,\n",
       "  69.83240223463687,\n",
       "  74.30167597765363,\n",
       "  71.50837988826815,\n",
       "  71.50837988826815,\n",
       "  72.62569832402235,\n",
       "  74.86033519553072,\n",
       "  73.74301675977654,\n",
       "  72.06703910614524,\n",
       "  74.30167597765363],\n",
       " 0.25: [62.78026905829597,\n",
       "  66.3677130044843,\n",
       "  67.2645739910314,\n",
       "  68.60986547085201,\n",
       "  69.05829596412556,\n",
       "  65.47085201793722,\n",
       "  69.95515695067265,\n",
       "  68.60986547085201,\n",
       "  67.71300448430493,\n",
       "  68.60986547085201,\n",
       "  69.05829596412556,\n",
       "  66.81614349775785,\n",
       "  69.05829596412556,\n",
       "  69.05829596412556,\n",
       "  69.50672645739911,\n",
       "  67.71300448430493,\n",
       "  69.50672645739911,\n",
       "  69.50672645739911,\n",
       "  69.50672645739911],\n",
       " 0.3: [67.91044776119402,\n",
       "  71.26865671641791,\n",
       "  72.01492537313433,\n",
       "  71.64179104477611,\n",
       "  70.52238805970148,\n",
       "  74.6268656716418,\n",
       "  70.1492537313433,\n",
       "  72.76119402985076,\n",
       "  71.26865671641791,\n",
       "  73.50746268656717,\n",
       "  72.38805970149254,\n",
       "  72.76119402985076,\n",
       "  73.50746268656717,\n",
       "  73.13432835820896,\n",
       "  72.76119402985076,\n",
       "  73.88059701492537,\n",
       "  72.38805970149254,\n",
       "  72.76119402985076,\n",
       "  72.01492537313433]}"
      ]
     },
     "execution_count": 37,
     "metadata": {},
     "output_type": "execute_result"
    }
   ],
   "source": [
    "hritikas_dictionary = {}\n",
    "for i in np.arange(0.2,0.31,0.05):\n",
    "    X_train,X_test,y_train,y_test=train_test_split(X,y,test_size=i)\n",
    "    print(i)\n",
    "    #print(\"Test sample size: \", i)\n",
    "    #print(\"\\n\")\n",
    "    final_scores = []\n",
    "    for j in range(1,20,1):\n",
    "        knn = KNeighborsClassifier(n_neighbors = j)\n",
    "        knn.fit(X_train, y_train)\n",
    "        pred = knn.predict(X_test)\n",
    "        acc = accuracy_score(y_test, pred, normalize=True) * float(100)\n",
    "        final_scores.append(acc)\n",
    "        print('\\n CV accuracy for k=%d is %d'%(j,acc))\n",
    "    optimal_k = final_scores.index(max(final_scores))\n",
    "    print(optimal_k+1,max(final_scores), \"\\n\") \n",
    "    hritikas_dictionary[i] = final_scores\n",
    "    \n",
    "hritikas_dictionary\n",
    "    "
   ]
  },
  {
   "cell_type": "code",
   "execution_count": 41,
   "id": "eb3c4f2c",
   "metadata": {
    "scrolled": false
   },
   "outputs": [
    {
     "name": "stdout",
     "output_type": "stream",
     "text": [
      "Score mean: 0.8201290322580645\n",
      "Accuracy score:  0.7686567164179104\n",
      "Score: [0.816      0.84       0.864      0.77419355 0.80645161]\n",
      "Confusion_matrix: [[149  30]\n",
      " [ 32  57]]\n"
     ]
    }
   ],
   "source": [
    "#Logistic Regression\n",
    "\n",
    "LR=LogisticRegression().fit(X_train,y_train)\n",
    "y_predict=LR.predict(X_test)\n",
    "s=accuracy_score(y_predict,y_test)\n",
    "score=cross_val_score(LR,X_train,y_train,cv=5)\n",
    "con_mat=confusion_matrix(y_test,y_predict)\n",
    "\n",
    "print('Score mean:' ,score.mean())\n",
    "print(\"Accuracy score: \", s)\n",
    "print(\"Score:\",score)\n",
    "print(\"Confusion_matrix:\", con_mat)"
   ]
  },
  {
   "cell_type": "code",
   "execution_count": 42,
   "id": "dd7910c8",
   "metadata": {
    "scrolled": true
   },
   "outputs": [
    {
     "data": {
      "image/png": "[encoded data removed]",
      "text/plain": [
       "<Figure size 500x500 with 2 Axes>"
      ]
     },
     "metadata": {},
     "output_type": "display_data"
    }
   ],
   "source": [
    "plt.figure(figsize=(5,5))\n",
    "sns.heatmap(con_mat, annot=True, fmt=\".1f\", linewidths=.5, square = True, cmap = 'Blues_r');\n",
    "plt.ylabel('Actual label');\n",
    "plt.xlabel('Predicted label');"
   ]
  },
  {
   "cell_type": "code",
   "execution_count": 43,
   "id": "201756f1",
   "metadata": {
    "scrolled": true
   },
   "outputs": [
    {
     "name": "stdout",
     "output_type": "stream",
     "text": [
      "Score: [0.648      0.704      0.688      0.72580645 0.66129032]\n",
      "\n",
      " CV accuracy for k=1 is 67\n",
      "Score: [0.664      0.712      0.664      0.72580645 0.68548387]\n",
      "\n",
      " CV accuracy for k=2 is 71\n",
      "Score: [0.608      0.744      0.64       0.74193548 0.66935484]\n",
      "\n",
      " CV accuracy for k=3 is 72\n",
      "Score: [0.624      0.728      0.632      0.75       0.69354839]\n",
      "\n",
      " CV accuracy for k=4 is 71\n",
      "Score: [0.632      0.736      0.656      0.75806452 0.65322581]\n",
      "\n",
      " CV accuracy for k=5 is 70\n",
      "Score: [0.616      0.744      0.664      0.75       0.65322581]\n",
      "\n",
      " CV accuracy for k=6 is 74\n",
      "Score: [0.632      0.776      0.68       0.75806452 0.68548387]\n",
      "\n",
      " CV accuracy for k=7 is 70\n",
      "Score: [0.624      0.76       0.624      0.71774194 0.68548387]\n",
      "\n",
      " CV accuracy for k=8 is 72\n",
      "Score: [0.632      0.776      0.68       0.72580645 0.66935484]\n",
      "\n",
      " CV accuracy for k=9 is 71\n",
      "Score: [0.64       0.752      0.648      0.72580645 0.68548387]\n",
      "\n",
      " CV accuracy for k=10 is 73\n",
      "Score: [0.632      0.76       0.688      0.72580645 0.66935484]\n",
      "\n",
      " CV accuracy for k=11 is 72\n",
      "Score: [0.608      0.728      0.68       0.7016129  0.66129032]\n",
      "\n",
      " CV accuracy for k=12 is 72\n",
      "Score: [0.648      0.76       0.712      0.71774194 0.69354839]\n",
      "\n",
      " CV accuracy for k=13 is 73\n",
      "Score: [0.64       0.768      0.656      0.75806452 0.67741935]\n",
      "\n",
      " CV accuracy for k=14 is 73\n",
      "Score: [0.648      0.744      0.672      0.70967742 0.66935484]\n",
      "\n",
      " CV accuracy for k=15 is 72\n",
      "Score: [0.608      0.736      0.672      0.71774194 0.67741935]\n",
      "\n",
      " CV accuracy for k=16 is 73\n",
      "Score: [0.616      0.728      0.68       0.70967742 0.66935484]\n",
      "\n",
      " CV accuracy for k=17 is 72\n",
      "Score: [0.616      0.72       0.68       0.71774194 0.67741935]\n",
      "\n",
      " CV accuracy for k=18 is 72\n",
      "Score: [0.616      0.704      0.704      0.74193548 0.66129032]\n",
      "\n",
      " CV accuracy for k=19 is 72\n",
      "6\n"
     ]
    }
   ],
   "source": [
    "# KNN\n",
    "\n",
    "#KNN\n",
    "final_scores = []\n",
    "for i in range(1,20,1):\n",
    "    knn = KNeighborsClassifier(n_neighbors = i)\n",
    "    knn.fit(X_train, y_train)\n",
    "    pred = knn.predict(X_test)\n",
    "    score=cross_val_score(knn,X_train,y_train,cv=5)\n",
    "    print(\"Score:\",score)\n",
    "    acc = accuracy_score(y_test, pred, normalize=True) * float(100)\n",
    "    final_scores.append(acc)\n",
    "    print('\\n CV accuracy for k=%d is %d'%(i,acc))\n",
    "optimal_k = final_scores.index(max(final_scores))\n",
    "print(optimal_k+1)   "
   ]
  },
  {
   "cell_type": "code",
   "execution_count": 45,
   "id": "44ed91a7",
   "metadata": {},
   "outputs": [],
   "source": [
    "def model_score(key):\n",
    "    print(key)\n",
    "\n",
    "\n",
    "    x = df.iloc[:, 1:]\n",
    "    if(len(key) > 0):\n",
    "        x = x.drop(columns=[key])\n",
    "        x = x.values\n",
    "        \n",
    "    x_train, x_test, y_train, y_test = train_test_split(x,y,test_size=0.3)\n",
    "\n",
    "\n",
    "    # k-value\n",
    "    error_rate=[]\n",
    "    for i in range (1,31):\n",
    "        clf=KNeighborsClassifier(n_neighbors=i)\n",
    "        clf.fit(x_train,y_train.ravel())\n",
    "        predict_i=clf.predict(x_test)\n",
    "        error_rate.append(1 - accuracy_score(y_test, predict_i))\n",
    "    k_value = error_rate.index(min(error_rate)) + 1\n",
    "\n",
    "\n",
    "    models = []\n",
    "    models.append(('LR', LogisticRegression()))\n",
    "    models.append(('LDA', LinearDiscriminantAnalysis()))\n",
    "    models.append(('KNN', KNeighborsClassifier(n_neighbors=k_value)))\n",
    "\n",
    "\n",
    "\n",
    "    dict = {}\n",
    "    for name, model in models:\n",
    "        kfold = KFold(n_splits=5)\n",
    "        cv_results = cross_val_score(model, x_train, y_train.ravel(), cv=kfold, scoring='accuracy')\n",
    "        dict[name] = [cv_results.mean(), cv_results.std()]\n",
    "\n",
    "    return dict"
   ]
  },
  {
   "cell_type": "code",
   "execution_count": 46,
   "id": "2dd678ae",
   "metadata": {},
   "outputs": [],
   "source": [
    "results = {}"
   ]
  },
  {
   "cell_type": "code",
   "execution_count": 47,
   "id": "ac2a39b0",
   "metadata": {},
   "outputs": [
    {
     "name": "stdout",
     "output_type": "stream",
     "text": [
      "Pclass\n",
      "Sex\n",
      "SibSp\n",
      "Parch\n",
      "Fare\n",
      "Embarked\n",
      "Deck\n",
      "KNN_pridect_Age\n"
     ]
    }
   ],
   "source": [
    "for key in df.columns[2:]:\n",
    "    results[key] = pd.DataFrame(model_score(key))"
   ]
  },
  {
   "cell_type": "code",
   "execution_count": 48,
   "id": "2c29e25b",
   "metadata": {},
   "outputs": [
    {
     "data": {
      "text/plain": [
       "{'Pclass':     LR       LDA       KNN\n",
       " 0  1.0  0.804219  0.736852\n",
       " 1  0.0  0.015973  0.040236,\n",
       " 'Sex':     LR       LDA       KNN\n",
       " 0  1.0  0.723832  0.754426\n",
       " 1  0.0  0.031487  0.013712,\n",
       " 'SibSp':     LR       LDA       KNN\n",
       " 0  1.0  0.807394  0.747961\n",
       " 1  0.0  0.041514  0.048034,\n",
       " 'Parch':     LR       LDA       KNN\n",
       " 0  1.0  0.797755  0.717574\n",
       " 1  0.0  0.017150  0.024162,\n",
       " 'Fare':     LR       LDA       KNN\n",
       " 0  1.0  0.797832  0.869923\n",
       " 1  0.0  0.034103  0.021547,\n",
       " 'Embarked':     LR       LDA       KNN\n",
       " 0  1.0  0.797794  0.759187\n",
       " 1  0.0  0.033664  0.043789,\n",
       " 'Deck':     LR       LDA       KNN\n",
       " 0  1.0  0.797781  0.722335\n",
       " 1  0.0  0.018259  0.028689,\n",
       " 'KNN_pridect_Age':     LR       LDA       KNN\n",
       " 0  1.0  0.796181  0.890890\n",
       " 1  0.0  0.026812  0.027507}"
      ]
     },
     "execution_count": 48,
     "metadata": {},
     "output_type": "execute_result"
    }
   ],
   "source": [
    "results"
   ]
  },
  {
   "cell_type": "code",
   "execution_count": 49,
   "id": "d7e961fe",
   "metadata": {},
   "outputs": [
    {
     "name": "stdout",
     "output_type": "stream",
     "text": [
      "\n"
     ]
    },
    {
     "data": {
      "text/html": [
       "<div>\n",
       "<style scoped>\n",
       "    .dataframe tbody tr th:only-of-type {\n",
       "        vertical-align: middle;\n",
       "    }\n",
       "\n",
       "    .dataframe tbody tr th {\n",
       "        vertical-align: top;\n",
       "    }\n",
       "\n",
       "    .dataframe thead th {\n",
       "        text-align: right;\n",
       "    }\n",
       "</style>\n",
       "<table border=\"1\" class=\"dataframe\">\n",
       "  <thead>\n",
       "    <tr style=\"text-align: right;\">\n",
       "      <th></th>\n",
       "      <th>LR</th>\n",
       "      <th>LDA</th>\n",
       "      <th>KNN</th>\n",
       "    </tr>\n",
       "  </thead>\n",
       "  <tbody>\n",
       "    <tr>\n",
       "      <th>0</th>\n",
       "      <td>1.0</td>\n",
       "      <td>0.794568</td>\n",
       "      <td>0.743290</td>\n",
       "    </tr>\n",
       "    <tr>\n",
       "      <th>1</th>\n",
       "      <td>0.0</td>\n",
       "      <td>0.021039</td>\n",
       "      <td>0.032843</td>\n",
       "    </tr>\n",
       "  </tbody>\n",
       "</table>\n",
       "</div>"
      ],
      "text/plain": [
       "    LR       LDA       KNN\n",
       "0  1.0  0.794568  0.743290\n",
       "1  0.0  0.021039  0.032843"
      ]
     },
     "execution_count": 49,
     "metadata": {},
     "output_type": "execute_result"
    }
   ],
   "source": [
    "full_dataset_result = pd.DataFrame(model_score(''))\n",
    "full_dataset_result"
   ]
  },
  {
   "cell_type": "code",
   "execution_count": 50,
   "id": "0fb7292c",
   "metadata": {},
   "outputs": [],
   "source": [
    "margins = {}"
   ]
  },
  {
   "cell_type": "code",
   "execution_count": 51,
   "id": "06fc1a7c",
   "metadata": {},
   "outputs": [],
   "source": [
    "for key, res in results.items():\n",
    "    tmp_dict = {}\n",
    "    for model in res.columns:\n",
    "        tmp_dict[model] = []\n",
    "        tmp_dict[model].append(res[model][0] - full_dataset_result[model][0])\n",
    "        tmp_dict[model].append(res[model][1] - full_dataset_result[model][1])\n",
    "\n",
    "    margins[key] = pd.DataFrame(tmp_dict)"
   ]
  },
  {
   "cell_type": "code",
   "execution_count": 52,
   "id": "cb289f0b",
   "metadata": {},
   "outputs": [
    {
     "data": {
      "text/html": [
       "<div>\n",
       "<style scoped>\n",
       "    .dataframe tbody tr th:only-of-type {\n",
       "        vertical-align: middle;\n",
       "    }\n",
       "\n",
       "    .dataframe tbody tr th {\n",
       "        vertical-align: top;\n",
       "    }\n",
       "\n",
       "    .dataframe thead th {\n",
       "        text-align: right;\n",
       "    }\n",
       "</style>\n",
       "<table border=\"1\" class=\"dataframe\">\n",
       "  <thead>\n",
       "    <tr style=\"text-align: right;\">\n",
       "      <th></th>\n",
       "      <th>LR</th>\n",
       "      <th>LDA</th>\n",
       "      <th>KNN</th>\n",
       "    </tr>\n",
       "  </thead>\n",
       "  <tbody>\n",
       "    <tr>\n",
       "      <th>0</th>\n",
       "      <td>0.0</td>\n",
       "      <td>0.012826</td>\n",
       "      <td>0.004671</td>\n",
       "    </tr>\n",
       "    <tr>\n",
       "      <th>1</th>\n",
       "      <td>0.0</td>\n",
       "      <td>0.020476</td>\n",
       "      <td>0.015192</td>\n",
       "    </tr>\n",
       "  </tbody>\n",
       "</table>\n",
       "</div>"
      ],
      "text/plain": [
       "    LR       LDA       KNN\n",
       "0  0.0  0.012826  0.004671\n",
       "1  0.0  0.020476  0.015192"
      ]
     },
     "execution_count": 52,
     "metadata": {},
     "output_type": "execute_result"
    }
   ],
   "source": [
    "margins['SibSp']"
   ]
  },
  {
   "cell_type": "code",
   "execution_count": 53,
   "id": "4cad270e",
   "metadata": {},
   "outputs": [],
   "source": [
    "margins\n",
    "\n",
    "margins_means = {}\n",
    "\n",
    "for key, res in margins.items():\n",
    "    for col in res.columns:\n",
    "        margins_means[col] = {}\n",
    "        for key2, res2 in margins.items():\n",
    "            margins_means[col][key2] = margins[key2][col][0]"
   ]
  },
  {
   "cell_type": "code",
   "execution_count": 54,
   "id": "6530ae01",
   "metadata": {},
   "outputs": [
    {
     "name": "stdout",
     "output_type": "stream",
     "text": [
      "LR : Pclass ( 0.0 )\n",
      "LDA : Sex ( -0.07073548387096762 )\n",
      "KNN : Parch ( -0.02571612903225795 )\n"
     ]
    }
   ],
   "source": [
    "for model, res in margins_means.items():\n",
    "    minimum = min(res, key=res.get)\n",
    "    print(model, ':',minimum, '(',res[minimum], ')')"
   ]
  },
  {
   "cell_type": "code",
   "execution_count": 55,
   "id": "a0986847",
   "metadata": {},
   "outputs": [
    {
     "data": {
      "text/html": [
       "<div>\n",
       "<style scoped>\n",
       "    .dataframe tbody tr th:only-of-type {\n",
       "        vertical-align: middle;\n",
       "    }\n",
       "\n",
       "    .dataframe tbody tr th {\n",
       "        vertical-align: top;\n",
       "    }\n",
       "\n",
       "    .dataframe thead th {\n",
       "        text-align: right;\n",
       "    }\n",
       "</style>\n",
       "<table border=\"1\" class=\"dataframe\">\n",
       "  <thead>\n",
       "    <tr style=\"text-align: right;\">\n",
       "      <th></th>\n",
       "      <th>LR</th>\n",
       "      <th>LDA</th>\n",
       "      <th>KNN</th>\n",
       "    </tr>\n",
       "  </thead>\n",
       "  <tbody>\n",
       "    <tr>\n",
       "      <th>0</th>\n",
       "      <td>0.0</td>\n",
       "      <td>0.009652</td>\n",
       "      <td>-0.006439</td>\n",
       "    </tr>\n",
       "    <tr>\n",
       "      <th>1</th>\n",
       "      <td>0.0</td>\n",
       "      <td>-0.005065</td>\n",
       "      <td>0.007393</td>\n",
       "    </tr>\n",
       "  </tbody>\n",
       "</table>\n",
       "</div>"
      ],
      "text/plain": [
       "    LR       LDA       KNN\n",
       "0  0.0  0.009652 -0.006439\n",
       "1  0.0 -0.005065  0.007393"
      ]
     },
     "execution_count": 55,
     "metadata": {},
     "output_type": "execute_result"
    }
   ],
   "source": [
    "margins['Pclass']"
   ]
  },
  {
   "cell_type": "code",
   "execution_count": 56,
   "id": "8b82963e",
   "metadata": {},
   "outputs": [
    {
     "data": {
      "text/html": [
       "<div>\n",
       "<style scoped>\n",
       "    .dataframe tbody tr th:only-of-type {\n",
       "        vertical-align: middle;\n",
       "    }\n",
       "\n",
       "    .dataframe tbody tr th {\n",
       "        vertical-align: top;\n",
       "    }\n",
       "\n",
       "    .dataframe thead th {\n",
       "        text-align: right;\n",
       "    }\n",
       "</style>\n",
       "<table border=\"1\" class=\"dataframe\">\n",
       "  <thead>\n",
       "    <tr style=\"text-align: right;\">\n",
       "      <th></th>\n",
       "      <th>LR</th>\n",
       "      <th>LDA</th>\n",
       "      <th>KNN</th>\n",
       "    </tr>\n",
       "  </thead>\n",
       "  <tbody>\n",
       "    <tr>\n",
       "      <th>0</th>\n",
       "      <td>0.0</td>\n",
       "      <td>-0.070735</td>\n",
       "      <td>0.011135</td>\n",
       "    </tr>\n",
       "    <tr>\n",
       "      <th>1</th>\n",
       "      <td>0.0</td>\n",
       "      <td>0.010449</td>\n",
       "      <td>-0.019131</td>\n",
       "    </tr>\n",
       "  </tbody>\n",
       "</table>\n",
       "</div>"
      ],
      "text/plain": [
       "    LR       LDA       KNN\n",
       "0  0.0 -0.070735  0.011135\n",
       "1  0.0  0.010449 -0.019131"
      ]
     },
     "execution_count": 56,
     "metadata": {},
     "output_type": "execute_result"
    }
   ],
   "source": [
    "margins['Sex']"
   ]
  },
  {
   "cell_type": "code",
   "execution_count": 57,
   "id": "c1315345",
   "metadata": {},
   "outputs": [
    {
     "data": {
      "text/html": [
       "<div>\n",
       "<style scoped>\n",
       "    .dataframe tbody tr th:only-of-type {\n",
       "        vertical-align: middle;\n",
       "    }\n",
       "\n",
       "    .dataframe tbody tr th {\n",
       "        vertical-align: top;\n",
       "    }\n",
       "\n",
       "    .dataframe thead th {\n",
       "        text-align: right;\n",
       "    }\n",
       "</style>\n",
       "<table border=\"1\" class=\"dataframe\">\n",
       "  <thead>\n",
       "    <tr style=\"text-align: right;\">\n",
       "      <th></th>\n",
       "      <th>LR</th>\n",
       "      <th>LDA</th>\n",
       "      <th>KNN</th>\n",
       "    </tr>\n",
       "  </thead>\n",
       "  <tbody>\n",
       "    <tr>\n",
       "      <th>0</th>\n",
       "      <td>0.0</td>\n",
       "      <td>0.003187</td>\n",
       "      <td>-0.025716</td>\n",
       "    </tr>\n",
       "    <tr>\n",
       "      <th>1</th>\n",
       "      <td>0.0</td>\n",
       "      <td>-0.003888</td>\n",
       "      <td>-0.008681</td>\n",
       "    </tr>\n",
       "  </tbody>\n",
       "</table>\n",
       "</div>"
      ],
      "text/plain": [
       "    LR       LDA       KNN\n",
       "0  0.0  0.003187 -0.025716\n",
       "1  0.0 -0.003888 -0.008681"
      ]
     },
     "execution_count": 57,
     "metadata": {},
     "output_type": "execute_result"
    }
   ],
   "source": [
    "margins['Parch']"
   ]
  },
  {
   "cell_type": "code",
   "execution_count": 58,
   "id": "3c09c834",
   "metadata": {},
   "outputs": [
    {
     "ename": "NameError",
     "evalue": "name 'margins_df' is not defined",
     "output_type": "error",
     "traceback": [
      "\u001b[0;31m---------------------------------------------------------------------------\u001b[0m",
      "\u001b[0;31mNameError\u001b[0m                                 Traceback (most recent call last)",
      "Cell \u001b[0;32mIn [58], line 4\u001b[0m\n\u001b[1;32m      2\u001b[0m fig\u001b[38;5;241m.\u001b[39msuptitle(\u001b[38;5;124m'\u001b[39m\u001b[38;5;124mComparison\u001b[39m\u001b[38;5;124m'\u001b[39m)\n\u001b[1;32m      3\u001b[0m ax \u001b[38;5;241m=\u001b[39m fig\u001b[38;5;241m.\u001b[39madd_subplot(\u001b[38;5;241m111\u001b[39m)\n\u001b[0;32m----> 4\u001b[0m plt\u001b[38;5;241m.\u001b[39mboxplot(margins_df)\n\u001b[1;32m      5\u001b[0m ax\u001b[38;5;241m.\u001b[39mset_xticklabels(margins_df\u001b[38;5;241m.\u001b[39mcolumns)\n\u001b[1;32m      6\u001b[0m plt\u001b[38;5;241m.\u001b[39mylabel(\u001b[38;5;124m'\u001b[39m\u001b[38;5;124mMargins\u001b[39m\u001b[38;5;124m'\u001b[39m)\n",
      "\u001b[0;31mNameError\u001b[0m: name 'margins_df' is not defined"
     ]
    },
    {
     "data": {
      "image/png": "[encoded data removed]",
      "text/plain": [
       "<Figure size 480x320 with 1 Axes>"
      ]
     },
     "metadata": {},
     "output_type": "display_data"
    }
   ],
   "source": [
    "fig = plt.figure(figsize=(6, 4), dpi=80)\n",
    "fig.suptitle('Comparison')\n",
    "ax = fig.add_subplot(111)\n",
    "plt.boxplot(margins_df)\n",
    "ax.set_xticklabels(margins_df.columns)\n",
    "plt.ylabel('Margins')\n",
    "plt.show()"
   ]
  },
  {
   "cell_type": "code",
   "execution_count": null,
   "id": "1a2cfe6a",
   "metadata": {},
   "outputs": [],
   "source": [
    "results"
   ]
  },
  {
   "cell_type": "code",
   "execution_count": null,
   "id": "dba85ef4",
   "metadata": {},
   "outputs": [],
   "source": [
    "margins_means = {}\n"
   ]
  },
  {
   "cell_type": "code",
   "execution_count": 59,
   "id": "43756417",
   "metadata": {},
   "outputs": [
    {
     "name": "stdout",
     "output_type": "stream",
     "text": [
      "LR : Pclass ( 0.0 )\n",
      "LDA : Sex ( -0.07073548387096762 )\n",
      "KNN : Parch ( -0.02571612903225795 )\n"
     ]
    }
   ],
   "source": [
    "\n",
    "for key, res in margins.items():\n",
    "    for col in res.columns:\n",
    "        margins_means[col] = {}\n",
    "        for key2, res2 in margins.items():\n",
    "            margins_means[col][key2] = margins[key2][col][0]\n",
    "            \n",
    "            \n",
    "for model, res in margins_means.items():\n",
    "    minimum = min(res, key=res.get)\n",
    "    print(model, ':',minimum, '(',res[minimum], ')')"
   ]
  },
  {
   "cell_type": "code",
   "execution_count": 60,
   "id": "6f064088",
   "metadata": {},
   "outputs": [],
   "source": [
    "margins_df = pd.DataFrame(margins_means)"
   ]
  },
  {
   "cell_type": "code",
   "execution_count": 61,
   "id": "297123d1",
   "metadata": {},
   "outputs": [
    {
     "data": {
      "text/plain": [
       "Index(['Pclass', 'Sex', 'SibSp', 'Parch', 'Fare', 'Embarked', 'Deck',\n",
       "       'KNN_pridect_Age'],\n",
       "      dtype='object')"
      ]
     },
     "execution_count": 61,
     "metadata": {},
     "output_type": "execute_result"
    }
   ],
   "source": [
    "margins_df.index"
   ]
  },
  {
   "cell_type": "code",
   "execution_count": 62,
   "id": "15ccba90",
   "metadata": {},
   "outputs": [
    {
     "data": {
      "image/png": "[encoded data removed]",
      "text/plain": [
       "<Figure size 579.75x500 with 1 Axes>"
      ]
     },
     "metadata": {},
     "output_type": "display_data"
    }
   ],
   "source": [
    "x = sns.displot(data = margins_df)\n",
    "#Comparison of margins in accuracy"
   ]
  },
  {
   "cell_type": "code",
   "execution_count": 63,
   "id": "d5894c6b",
   "metadata": {},
   "outputs": [
    {
     "data": {
      "image/png": "[encoded data removed]",
      "text/plain": [
       "<Figure size 1400x1400 with 1 Axes>"
      ]
     },
     "metadata": {},
     "output_type": "display_data"
    }
   ],
   "source": [
    "sns.set(rc = {'figure.figsize':(14,14)})\n",
    "sns.scatterplot(data=margins_df)\n",
    "plt.show()"
   ]
  },
  {
   "cell_type": "code",
   "execution_count": 65,
   "id": "464d0782",
   "metadata": {},
   "outputs": [
    {
     "data": {
      "text/plain": [
       "<AxesSubplot: ylabel='KNN'>"
      ]
     },
     "execution_count": 65,
     "metadata": {},
     "output_type": "execute_result"
    },
    {
     "data": {
      "image/png": "[encoded data removed]",
      "text/plain": [
       "<Figure size 1400x1400 with 1 Axes>"
      ]
     },
     "metadata": {},
     "output_type": "display_data"
    }
   ],
   "source": [
    "sns.barplot(data = margins_df, y = 'KNN')"
   ]
  },
  {
   "cell_type": "code",
   "execution_count": 66,
   "id": "d73d0470",
   "metadata": {},
   "outputs": [
    {
     "data": {
      "text/plain": [
       "<AxesSubplot: ylabel='LDA'>"
      ]
     },
     "execution_count": 66,
     "metadata": {},
     "output_type": "execute_result"
    },
    {
     "data": {
      "image/png": "[encoded data removed]",
      "text/plain": [
       "<Figure size 1400x1400 with 1 Axes>"
      ]
     },
     "metadata": {},
     "output_type": "display_data"
    }
   ],
   "source": [
    "sns.barplot(data = margins_df, y = 'LDA')"
   ]
  },
  {
   "cell_type": "code",
   "execution_count": 67,
   "id": "e674a0d0",
   "metadata": {},
   "outputs": [
    {
     "data": {
      "text/html": [
       "<div>\n",
       "<style scoped>\n",
       "    .dataframe tbody tr th:only-of-type {\n",
       "        vertical-align: middle;\n",
       "    }\n",
       "\n",
       "    .dataframe tbody tr th {\n",
       "        vertical-align: top;\n",
       "    }\n",
       "\n",
       "    .dataframe thead th {\n",
       "        text-align: right;\n",
       "    }\n",
       "</style>\n",
       "<table border=\"1\" class=\"dataframe\">\n",
       "  <thead>\n",
       "    <tr style=\"text-align: right;\">\n",
       "      <th></th>\n",
       "      <th>LR</th>\n",
       "      <th>LDA</th>\n",
       "      <th>KNN</th>\n",
       "    </tr>\n",
       "  </thead>\n",
       "  <tbody>\n",
       "    <tr>\n",
       "      <th>Pclass</th>\n",
       "      <td>0.0</td>\n",
       "      <td>0.009652</td>\n",
       "      <td>-0.006439</td>\n",
       "    </tr>\n",
       "    <tr>\n",
       "      <th>Sex</th>\n",
       "      <td>0.0</td>\n",
       "      <td>-0.070735</td>\n",
       "      <td>0.011135</td>\n",
       "    </tr>\n",
       "    <tr>\n",
       "      <th>SibSp</th>\n",
       "      <td>0.0</td>\n",
       "      <td>0.012826</td>\n",
       "      <td>0.004671</td>\n",
       "    </tr>\n",
       "    <tr>\n",
       "      <th>Parch</th>\n",
       "      <td>0.0</td>\n",
       "      <td>0.003187</td>\n",
       "      <td>-0.025716</td>\n",
       "    </tr>\n",
       "    <tr>\n",
       "      <th>Fare</th>\n",
       "      <td>0.0</td>\n",
       "      <td>0.003265</td>\n",
       "      <td>0.126632</td>\n",
       "    </tr>\n",
       "    <tr>\n",
       "      <th>Embarked</th>\n",
       "      <td>0.0</td>\n",
       "      <td>0.003226</td>\n",
       "      <td>0.015897</td>\n",
       "    </tr>\n",
       "    <tr>\n",
       "      <th>Deck</th>\n",
       "      <td>0.0</td>\n",
       "      <td>0.003213</td>\n",
       "      <td>-0.020955</td>\n",
       "    </tr>\n",
       "    <tr>\n",
       "      <th>KNN_pridect_Age</th>\n",
       "      <td>0.0</td>\n",
       "      <td>0.001613</td>\n",
       "      <td>0.147600</td>\n",
       "    </tr>\n",
       "  </tbody>\n",
       "</table>\n",
       "</div>"
      ],
      "text/plain": [
       "                  LR       LDA       KNN\n",
       "Pclass           0.0  0.009652 -0.006439\n",
       "Sex              0.0 -0.070735  0.011135\n",
       "SibSp            0.0  0.012826  0.004671\n",
       "Parch            0.0  0.003187 -0.025716\n",
       "Fare             0.0  0.003265  0.126632\n",
       "Embarked         0.0  0.003226  0.015897\n",
       "Deck             0.0  0.003213 -0.020955\n",
       "KNN_pridect_Age  0.0  0.001613  0.147600"
      ]
     },
     "execution_count": 67,
     "metadata": {},
     "output_type": "execute_result"
    }
   ],
   "source": [
    "margins_df"
   ]
  },
  {
   "cell_type": "code",
   "execution_count": null,
   "id": "a0871a7e",
   "metadata": {},
   "outputs": [],
   "source": []
  }
 ],
 "metadata": {
  "kernelspec": {
   "display_name": "Python 3 (ipykernel)",
   "language": "python",
   "name": "python3"
  },
  "language_info": {
   "codemirror_mode": {
    "name": "ipython",
    "version": 3
   },
   "file_extension": ".py",
   "mimetype": "text/x-python",
   "name": "python",
   "nbconvert_exporter": "python",
   "pygments_lexer": "ipython3",
   "version": "3.10.6"
  }
 },
 "nbformat": 4,
 "nbformat_minor": 5
}
