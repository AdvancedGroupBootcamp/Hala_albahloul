{
 "cells": [
  {
   "cell_type": "code",
   "execution_count": 1,
   "id": "d7cdd3d3",
   "metadata": {},
   "outputs": [],
   "source": [
    "import requests \n",
    "import pandas as pd\n",
    "import numpy as np\n",
    "import re\n",
    "import sqlite3\n"
   ]
  },
  {
   "cell_type": "code",
   "execution_count": 2,
   "id": "ee7c9b19",
   "metadata": {},
   "outputs": [],
   "source": [
    "r = requests.get('https://swapi.dev/api/').json()"
   ]
  },
  {
   "cell_type": "code",
   "execution_count": 3,
   "id": "097b7577",
   "metadata": {},
   "outputs": [],
   "source": [
    "#function to store all the data\n",
    "def get_full_type_data(base_url):\n",
    "    data =  requests.get(base_url)\n",
    "    all_data = []\n",
    "    data_num = 0\n",
    "    for i in range(100):\n",
    "        if data_num < data.json()['count']+1:\n",
    "            trial=requests.get(base_url+str(i))\n",
    "            if str(trial) != '<Response [404]>':\n",
    "                all_data.append(trial.json())\n",
    "                data_num+=1\n",
    "    all_data = pd.json_normalize(all_data)\n",
    "    return all_data"
   ]
  },
  {
   "cell_type": "code",
   "execution_count": 4,
   "id": "2d8104e3",
   "metadata": {},
   "outputs": [],
   "source": [
    "#get and store the people data\n",
    "people = get_full_type_data('https://swapi.dev/api/people/')\n",
    "films =get_full_type_data('https://swapi.dev/api/films/')\n",
    "vehicles = get_full_type_data('https://swapi.dev/api/vehicles/')\n",
    "starships =get_full_type_data('https://swapi.dev/api/starships/')\n",
    "species = get_full_type_data('https://swapi.dev/api/species/')\n",
    "planets = get_full_type_data('https://swapi.dev/api/planets/')\n"
   ]
  },
  {
   "cell_type": "code",
   "execution_count": 6,
   "id": "0a3fa212",
   "metadata": {},
   "outputs": [],
   "source": [
    "#Dropping the unnecessary columns\n",
    "people.drop(labels= ['homeworld', 'starships', 'species'], axis=1, inplace=True)\n",
    "\n",
    "films.drop(labels= ['planets', 'starships', 'species'], axis=1, inplace=True)\n",
    "\n",
    "vehicles.drop(labels= ['pilots'], axis=1, inplace=True)\n",
    "\n"
   ]
  },
  {
   "cell_type": "code",
   "execution_count": 7,
   "id": "5856c876",
   "metadata": {},
   "outputs": [],
   "source": [
    "#Get the primary key from URL columns\n",
    "\n",
    "people['id']=people['url'].apply(lambda x: x.split('/')[-2])\n",
    "\n",
    "\n",
    "films['id_films']=films['url'].apply(lambda x: x.split('/')[-2])\n",
    "\n",
    "\n",
    "vehicles['id_vehicles']=vehicles['url'].apply(lambda x: x.split('/')[-2])\n"
   ]
  },
  {
   "cell_type": "code",
   "execution_count": 8,
   "id": "7a2f5d36",
   "metadata": {},
   "outputs": [],
   "source": [
    "people['height'] = people['height'].apply(lambda x: x.replace(',',''))\n",
    "people['mass'] = people['mass'].apply(lambda x: x.replace(',',''))\n",
    "\n"
   ]
  },
  {
   "cell_type": "code",
   "execution_count": 9,
   "id": "c41fd922",
   "metadata": {},
   "outputs": [],
   "source": [
    "#replace none values\n",
    "people.replace(to_replace=[None, 'none', 'n/a', 'unknown'], value=np.nan, inplace=True)\n",
    "vehicles.replace(to_replace=[None, 'none', 'n/a', 'unknown'], value=np.nan, inplace=True)\n"
   ]
  },
  {
   "cell_type": "code",
   "execution_count": 10,
   "id": "d6d092b5",
   "metadata": {},
   "outputs": [],
   "source": [
    "#convert the types of people\n",
    "convert = {\n",
    "    \n",
    "    'name':str,\n",
    "    'height':float,\n",
    "    'mass':float,\n",
    "    'hair_color':str,\n",
    "    'skin_color':str,\n",
    "    'eye_color':str,\n",
    "    'birth_year':str,\n",
    "    'gender':str,\n",
    "    'edited':str,\n",
    "    'created':str,\n",
    "    'url':str\n",
    "}\n",
    "people= people.astype(convert)\n",
    "\n"
   ]
  },
  {
   "cell_type": "code",
   "execution_count": 14,
   "id": "08612755",
   "metadata": {},
   "outputs": [],
   "source": [
    "people_films = people[['id','films']]\n",
    "\n",
    "people_films = people_films.explode('films')\n",
    "\n"
   ]
  },
  {
   "cell_type": "code",
   "execution_count": 15,
   "id": "36390d23",
   "metadata": {},
   "outputs": [],
   "source": [
    "people_films['films']=people_films['films'].apply(lambda x: x.split('/')[-2])"
   ]
  },
  {
   "cell_type": "code",
   "execution_count": 16,
   "id": "8760db17",
   "metadata": {},
   "outputs": [],
   "source": [
    "people_films.rename(columns={'films': 'id_films'}, inplace=True)"
   ]
  },
  {
   "cell_type": "code",
   "execution_count": 17,
   "id": "ffe85639",
   "metadata": {},
   "outputs": [],
   "source": [
    "people_vehicles=people [['id','vehicles']]\n",
    "\n",
    "people_vehicles=people_vehicles.explode('vehicles')"
   ]
  },
  {
   "cell_type": "code",
   "execution_count": 18,
   "id": "bcdbe087",
   "metadata": {},
   "outputs": [],
   "source": [
    "people_vehicles.dropna(inplace=True)\n",
    "\n",
    "people_vehicles['vehicles']=people_vehicles['vehicles'].apply(lambda x: x.split('/')[-2])\n",
    "\n"
   ]
  },
  {
   "cell_type": "code",
   "execution_count": 19,
   "id": "b7f9a29d",
   "metadata": {},
   "outputs": [],
   "source": [
    "people.drop(labels= ['films', 'vehicles'], axis=1, inplace=True)\n",
    "\n",
    "people.drop(columns=['edited', 'created'], axis=1, inplace=True)\n",
    "\n",
    "films_people=films[['id_films', 'characters']]\n",
    "\n",
    "films_people=films_people.explode('characters')\n",
    "\n",
    "films_people['characters']=films_people['characters'].apply(lambda x: x.split('/')[-2])\n",
    "\n"
   ]
  },
  {
   "cell_type": "code",
   "execution_count": 21,
   "id": "9f59f36a",
   "metadata": {},
   "outputs": [],
   "source": [
    "films_vehicles=films[['id_films', 'vehicles']]\n",
    "\n",
    "films_vehicles=films_vehicles.explode('vehicles')\n",
    "\n",
    "films_vehicles['vehicles']=films_vehicles['vehicles'].apply(lambda x: x.split('/')[-2])\n",
    "\n"
   ]
  },
  {
   "cell_type": "code",
   "execution_count": 22,
   "id": "a2d4139d",
   "metadata": {},
   "outputs": [],
   "source": [
    "films.drop(columns=['characters', 'vehicles', 'created', 'edited'], axis=1, inplace=True)\n"
   ]
  },
  {
   "cell_type": "code",
   "execution_count": 23,
   "id": "79ccb6a9",
   "metadata": {},
   "outputs": [],
   "source": [
    "vehicles.drop(columns=['films', 'created', 'edited'], axis=1, inplace=True)\n"
   ]
  },
  {
   "cell_type": "code",
   "execution_count": 24,
   "id": "930114ff",
   "metadata": {},
   "outputs": [
    {
     "data": {
      "text/plain": [
       "49"
      ]
     },
     "execution_count": 24,
     "metadata": {},
     "output_type": "execute_result"
    }
   ],
   "source": [
    "conn = sqlite3.connect('starwars_database.db')\n",
    "c = conn.cursor()\n",
    "\n",
    "c.execute(f\"CREATE TABLE IF NOT EXISTS people ({', '.join(people.columns)})\")\n",
    "conn.commit()\n",
    "people.to_sql('people', conn, if_exists='replace', index = False)\n",
    "\n",
    "c.execute(f\"CREATE TABLE IF NOT EXISTS people_films ({', '.join(people_films.columns)})\")\n",
    "conn.commit()\n",
    "people_films.to_sql('people_films', conn, if_exists='replace', index = False)\n",
    "\n",
    "c.execute(f\"CREATE TABLE IF NOT EXISTS people_vehicles ({', '.join(people_films.columns)})\")\n",
    "conn.commit()\n",
    "people_vehicles.to_sql('people_vehicles', conn, if_exists='replace', index = False)\n",
    "\n",
    "c.execute(f\"CREATE TABLE IF NOT EXISTS films ({', '.join(films.columns)})\")\n",
    "conn.commit()\n",
    "films.to_sql('films', conn, if_exists='replace', index = False)\n",
    "\n",
    "c.execute(f\"CREATE TABLE IF NOT EXISTS vehicles ({', '.join(vehicles.columns)})\")\n",
    "conn.commit()\n",
    "vehicles.to_sql('vehicles', conn, if_exists='replace', index = False)\n",
    "\n",
    "c.execute(f\"CREATE TABLE IF NOT EXISTS films_vehicles ({', '.join(films_vehicles.columns)})\")\n",
    "conn.commit()\n",
    "films_vehicles.to_sql('films_vehicles', conn, if_exists='replace', index = False)\n",
    "\n"
   ]
  },
  {
   "cell_type": "code",
   "execution_count": 44,
   "id": "6c4ff08a",
   "metadata": {},
   "outputs": [
    {
     "data": {
      "text/html": [
       "<div>\n",
       "<style scoped>\n",
       "    .dataframe tbody tr th:only-of-type {\n",
       "        vertical-align: middle;\n",
       "    }\n",
       "\n",
       "    .dataframe tbody tr th {\n",
       "        vertical-align: top;\n",
       "    }\n",
       "\n",
       "    .dataframe thead th {\n",
       "        text-align: right;\n",
       "    }\n",
       "</style>\n",
       "<table border=\"1\" class=\"dataframe\">\n",
       "  <thead>\n",
       "    <tr style=\"text-align: right;\">\n",
       "      <th></th>\n",
       "      <th>name</th>\n",
       "      <th>height</th>\n",
       "      <th>mass</th>\n",
       "      <th>hair_color</th>\n",
       "      <th>skin_color</th>\n",
       "      <th>eye_color</th>\n",
       "      <th>birth_year</th>\n",
       "      <th>gender</th>\n",
       "      <th>url</th>\n",
       "      <th>id</th>\n",
       "    </tr>\n",
       "  </thead>\n",
       "  <tbody>\n",
       "    <tr>\n",
       "      <th>0</th>\n",
       "      <td>Luke Skywalker</td>\n",
       "      <td>172.0</td>\n",
       "      <td>77.0</td>\n",
       "      <td>blond</td>\n",
       "      <td>fair</td>\n",
       "      <td>blue</td>\n",
       "      <td>19BBY</td>\n",
       "      <td>male</td>\n",
       "      <td>https://swapi.dev/api/people/1/</td>\n",
       "      <td>1</td>\n",
       "    </tr>\n",
       "    <tr>\n",
       "      <th>1</th>\n",
       "      <td>C-3PO</td>\n",
       "      <td>167.0</td>\n",
       "      <td>75.0</td>\n",
       "      <td>nan</td>\n",
       "      <td>gold</td>\n",
       "      <td>yellow</td>\n",
       "      <td>112BBY</td>\n",
       "      <td>nan</td>\n",
       "      <td>https://swapi.dev/api/people/2/</td>\n",
       "      <td>2</td>\n",
       "    </tr>\n",
       "    <tr>\n",
       "      <th>2</th>\n",
       "      <td>R2-D2</td>\n",
       "      <td>96.0</td>\n",
       "      <td>32.0</td>\n",
       "      <td>nan</td>\n",
       "      <td>white, blue</td>\n",
       "      <td>red</td>\n",
       "      <td>33BBY</td>\n",
       "      <td>nan</td>\n",
       "      <td>https://swapi.dev/api/people/3/</td>\n",
       "      <td>3</td>\n",
       "    </tr>\n",
       "    <tr>\n",
       "      <th>3</th>\n",
       "      <td>Darth Vader</td>\n",
       "      <td>202.0</td>\n",
       "      <td>136.0</td>\n",
       "      <td>nan</td>\n",
       "      <td>white</td>\n",
       "      <td>yellow</td>\n",
       "      <td>41.9BBY</td>\n",
       "      <td>male</td>\n",
       "      <td>https://swapi.dev/api/people/4/</td>\n",
       "      <td>4</td>\n",
       "    </tr>\n",
       "    <tr>\n",
       "      <th>4</th>\n",
       "      <td>Leia Organa</td>\n",
       "      <td>150.0</td>\n",
       "      <td>49.0</td>\n",
       "      <td>brown</td>\n",
       "      <td>light</td>\n",
       "      <td>brown</td>\n",
       "      <td>19BBY</td>\n",
       "      <td>female</td>\n",
       "      <td>https://swapi.dev/api/people/5/</td>\n",
       "      <td>5</td>\n",
       "    </tr>\n",
       "  </tbody>\n",
       "</table>\n",
       "</div>"
      ],
      "text/plain": [
       "             name  height   mass hair_color   skin_color eye_color birth_year  \\\n",
       "0  Luke Skywalker   172.0   77.0      blond         fair      blue      19BBY   \n",
       "1           C-3PO   167.0   75.0        nan         gold    yellow     112BBY   \n",
       "2           R2-D2    96.0   32.0        nan  white, blue       red      33BBY   \n",
       "3     Darth Vader   202.0  136.0        nan        white    yellow    41.9BBY   \n",
       "4     Leia Organa   150.0   49.0      brown        light     brown      19BBY   \n",
       "\n",
       "   gender                              url id  \n",
       "0    male  https://swapi.dev/api/people/1/  1  \n",
       "1     nan  https://swapi.dev/api/people/2/  2  \n",
       "2     nan  https://swapi.dev/api/people/3/  3  \n",
       "3    male  https://swapi.dev/api/people/4/  4  \n",
       "4  female  https://swapi.dev/api/people/5/  5  "
      ]
     },
     "execution_count": 44,
     "metadata": {},
     "output_type": "execute_result"
    }
   ],
   "source": [
    "#select\n",
    "pd.read_sql(\n",
    "    '''\n",
    "        SELECT \n",
    "            *\n",
    "        FROM \n",
    "            people\n",
    "        LIMIT \n",
    "            5\n",
    "    ''', \n",
    "    conn\n",
    ")\n",
    "\n"
   ]
  },
  {
   "cell_type": "code",
   "execution_count": 42,
   "id": "b7d7409b",
   "metadata": {},
   "outputs": [
    {
     "data": {
      "text/html": [
       "<div>\n",
       "<style scoped>\n",
       "    .dataframe tbody tr th:only-of-type {\n",
       "        vertical-align: middle;\n",
       "    }\n",
       "\n",
       "    .dataframe tbody tr th {\n",
       "        vertical-align: top;\n",
       "    }\n",
       "\n",
       "    .dataframe thead th {\n",
       "        text-align: right;\n",
       "    }\n",
       "</style>\n",
       "<table border=\"1\" class=\"dataframe\">\n",
       "  <thead>\n",
       "    <tr style=\"text-align: right;\">\n",
       "      <th></th>\n",
       "      <th>gender</th>\n",
       "      <th>nb_ch</th>\n",
       "    </tr>\n",
       "  </thead>\n",
       "  <tbody>\n",
       "    <tr>\n",
       "      <th>0</th>\n",
       "      <td>male</td>\n",
       "      <td>113</td>\n",
       "    </tr>\n",
       "    <tr>\n",
       "      <th>1</th>\n",
       "      <td>female</td>\n",
       "      <td>32</td>\n",
       "    </tr>\n",
       "    <tr>\n",
       "      <th>2</th>\n",
       "      <td>nan</td>\n",
       "      <td>14</td>\n",
       "    </tr>\n",
       "    <tr>\n",
       "      <th>3</th>\n",
       "      <td>hermaphrodite</td>\n",
       "      <td>3</td>\n",
       "    </tr>\n",
       "  </tbody>\n",
       "</table>\n",
       "</div>"
      ],
      "text/plain": [
       "          gender  nb_ch\n",
       "0           male    113\n",
       "1         female     32\n",
       "2            nan     14\n",
       "3  hermaphrodite      3"
      ]
     },
     "execution_count": 42,
     "metadata": {},
     "output_type": "execute_result"
    }
   ],
   "source": [
    "#Left join\n",
    "pd.read_sql(\n",
    "    '''\n",
    "        SELECT \n",
    "            p.gender,\n",
    "            COUNT(p.id) as nb_ch\n",
    "        FROM \n",
    "            people p\n",
    "        LEFT JOIN \n",
    "            people_films f ON f.id = p.id\n",
    "        GROUP BY \n",
    "            p.gender\n",
    "        ORDER BY \n",
    "            nb_ch DESC\n",
    "        LIMIT 5\n",
    "    ''', \n",
    "    conn\n",
    ")\n",
    "\n"
   ]
  },
  {
   "cell_type": "code",
   "execution_count": 37,
   "id": "43b8d0e6",
   "metadata": {},
   "outputs": [
    {
     "data": {
      "text/html": [
       "<div>\n",
       "<style scoped>\n",
       "    .dataframe tbody tr th:only-of-type {\n",
       "        vertical-align: middle;\n",
       "    }\n",
       "\n",
       "    .dataframe tbody tr th {\n",
       "        vertical-align: top;\n",
       "    }\n",
       "\n",
       "    .dataframe thead th {\n",
       "        text-align: right;\n",
       "    }\n",
       "</style>\n",
       "<table border=\"1\" class=\"dataframe\">\n",
       "  <thead>\n",
       "    <tr style=\"text-align: right;\">\n",
       "      <th></th>\n",
       "      <th>model</th>\n",
       "      <th>number_of_vehicles</th>\n",
       "    </tr>\n",
       "  </thead>\n",
       "  <tbody>\n",
       "    <tr>\n",
       "      <th>0</th>\n",
       "      <td>Twin Ion Engine/Ln Starfighter</td>\n",
       "      <td>1</td>\n",
       "    </tr>\n",
       "    <tr>\n",
       "      <th>1</th>\n",
       "      <td>Twin Ion Engine Interceptor</td>\n",
       "      <td>1</td>\n",
       "    </tr>\n",
       "    <tr>\n",
       "      <th>2</th>\n",
       "      <td>TIE/sa bomber</td>\n",
       "      <td>1</td>\n",
       "    </tr>\n",
       "  </tbody>\n",
       "</table>\n",
       "</div>"
      ],
      "text/plain": [
       "                            model  number_of_vehicles\n",
       "0  Twin Ion Engine/Ln Starfighter                   1\n",
       "1     Twin Ion Engine Interceptor                   1\n",
       "2                   TIE/sa bomber                   1"
      ]
     },
     "execution_count": 37,
     "metadata": {},
     "output_type": "execute_result"
    }
   ],
   "source": [
    "#Group by\n",
    "pd.read_sql(\n",
    "    '''\n",
    "        SELECT \n",
    "            model,\n",
    "            count(*) AS number_of_vehicles\n",
    "        FROM \n",
    "            vehicles\n",
    "        WHERE\n",
    "            manufacturer = 'Sienar Fleet Systems'\n",
    "        GROUP BY\n",
    "            model\n",
    "        ORDER BY \n",
    "            number_of_vehicles DESC\n",
    "        LIMIT 10\n",
    "    ''', \n",
    "    conn\n",
    ")\n"
   ]
  },
  {
   "cell_type": "code",
   "execution_count": 34,
   "id": "4b74e837",
   "metadata": {},
   "outputs": [
    {
     "data": {
      "text/html": [
       "<div>\n",
       "<style scoped>\n",
       "    .dataframe tbody tr th:only-of-type {\n",
       "        vertical-align: middle;\n",
       "    }\n",
       "\n",
       "    .dataframe tbody tr th {\n",
       "        vertical-align: top;\n",
       "    }\n",
       "\n",
       "    .dataframe thead th {\n",
       "        text-align: right;\n",
       "    }\n",
       "</style>\n",
       "<table border=\"1\" class=\"dataframe\">\n",
       "  <thead>\n",
       "    <tr style=\"text-align: right;\">\n",
       "      <th></th>\n",
       "      <th>model</th>\n",
       "      <th>Maximum_passengers</th>\n",
       "    </tr>\n",
       "  </thead>\n",
       "  <tbody>\n",
       "    <tr>\n",
       "      <th>0</th>\n",
       "      <td>Modified Luxury Sail Barge</td>\n",
       "      <td>500.0</td>\n",
       "    </tr>\n",
       "  </tbody>\n",
       "</table>\n",
       "</div>"
      ],
      "text/plain": [
       "                        model  Maximum_passengers\n",
       "0  Modified Luxury Sail Barge               500.0"
      ]
     },
     "execution_count": 34,
     "metadata": {},
     "output_type": "execute_result"
    }
   ],
   "source": [
    "#CTE\n",
    "pd.read_sql(\n",
    "    '''\n",
    "        WITH CTE AS (\n",
    "        SELECT \n",
    "            model, AVG(passengers) AS avg_pass\n",
    "        FROM \n",
    "            vehicles\n",
    "        GROUP BY\n",
    "            model)\n",
    "        SELECT\n",
    "            model,\n",
    "            MAX(avg_pass) AS Maximum_passengers\n",
    "        FROM\n",
    "            CTE\n",
    "    ''', \n",
    "    conn\n",
    ")\n",
    "\n"
   ]
  },
  {
   "cell_type": "code",
   "execution_count": null,
   "id": "e0ebfc68",
   "metadata": {},
   "outputs": [],
   "source": []
  }
 ],
 "metadata": {
  "kernelspec": {
   "display_name": "Python 3 (ipykernel)",
   "language": "python",
   "name": "python3"
  },
  "language_info": {
   "codemirror_mode": {
    "name": "ipython",
    "version": 3
   },
   "file_extension": ".py",
   "mimetype": "text/x-python",
   "name": "python",
   "nbconvert_exporter": "python",
   "pygments_lexer": "ipython3",
   "version": "3.10.6"
  }
 },
 "nbformat": 4,
 "nbformat_minor": 5
}
