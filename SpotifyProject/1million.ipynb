{
 "cells": [
  {
   "cell_type": "code",
   "execution_count": 5,
   "id": "dc4240e6",
   "metadata": {},
   "outputs": [],
   "source": [
    "from zipfile import ZipFile\n",
    "zip_file_path = '/home/criuser/Downloads/spotify_million_playlist_dataset.zip'\n",
    "zip_file = ZipFile(zip_file_path)\n",
    "zip_files = {text_file    for text_file in zip_file.namelist()       if text_file.endswith('.json')}\n",
    "import json as js\n",
    "import pandas as pd"
   ]
  },
  {
   "cell_type": "code",
   "execution_count": null,
   "id": "b303579e",
   "metadata": {},
   "outputs": [],
   "source": [
    "artists = {\"Zaz\" : {\"tracks\" : 0, \"duration[minutes]\" : 0, \"playlists\" : 0},\n",
    "           \"Oumou Sangaré\": {\"tracks\" : 0, \"duration[minutes]\" : 0, \"playlists\" : 0},\n",
    "           \"Kendrick Lamar\" : {\"tracks\" : 0, \"duration[minutes]\" : 0, \"playlists\" : 0}, \n",
    "           \"P!nk\":  {\"tracks\" : 0, \"duration[minutes]\" : 0, \"playlists\" : 0} ,\n",
    "           \"Muse\": {\"tracks\" : 0, \"duration[minutes]\" : 0, \"playlists\" : 0},\n",
    "           \"The Killers\": {\"tracks\" : 0, \"duration[minutes]\" : 0, \"playlists\" : 0},\n",
    "           \"Eminem\": {\"tracks\" : 0, \"duration[minutes]\" : 0, \"playlists\" : 0},\n",
    "           \"Taylor Swift\": {\"tracks\" : 0, \"duration[minutes]\" : 0, \"playlists\" : 0}, \n",
    "           \"Harry Styles\": {\"tracks\" : 0, \"duration[minutes]\" : 0, \"playlists\" : 0},\n",
    "           \"Lara Fabian\": {\"tracks\" : 0, \"duration[minutes]\" : 0, \"playlists\" : 0},\n",
    "           \"Andrea Bocelli\": {\"tracks\" : 0, \"duration[minutes]\" : 0, \"playlists\" : 0},\n",
    "           \"Laurent Garnier\": {\"tracks\" : 0, \"duration[minutes]\" : 0, \"playlists\" : 0}}\n",
    "\n",
    "\n",
    "Artists=['Zaz',  'Oumou Sangaré',  'Kendrick Lamar',  'P!nk',  'Muse',  'The Killers',  \"Eminem\",\n",
    "  'Taylor Swift',  'Harry Styles',  'Lara Fabian',  'Andrea Bocelli',  'Laurent Garnier']\n",
    "for file in zip_files:\n",
    "    with zip_file.open(file) as myfile:\n",
    "        f = myfile.read()\n",
    "        data = js.loads(f)\n",
    "\n",
    "    for i in Artists:\n",
    "        count=0 \n",
    "        count_duration=0\n",
    "        for j in range(len(data['playlists'])):\n",
    "            for t in range(len(data['playlists'][j]['tracks'])):\n",
    "                \n",
    "                if data['playlists'][j]['tracks'][t]['artist_name']==i:\n",
    "                    \n",
    "                    count+=1\n",
    "                    count_duration+=data['playlists'][j]['tracks'][t][\"duration_ms\"]\n",
    "        artists[i][\"tracks\"]=count\n",
    "        artists[i][\"duration[minutes]\"]=count_duration/60000\n",
    "\n",
    "        \n",
    "\n",
    "output_df=pd.DataFrame(artists).T\n",
    "print(\"the most tracks:\",output_df['tracks'].idxmax())\n",
    "print(\"the longest duration\",output_df['duration[minutes]'].idxmax())\n",
    "print(\"the most playlists:\",output_df['playlists'].idxmax())\n",
    "\n",
    "print(output_df)"
   ]
  },
  {
   "cell_type": "code",
   "execution_count": null,
   "id": "3efcc514",
   "metadata": {},
   "outputs": [],
   "source": []
  }
 ],
 "metadata": {
  "kernelspec": {
   "display_name": "Python 3 (ipykernel)",
   "language": "python",
   "name": "python3"
  },
  "language_info": {
   "codemirror_mode": {
    "name": "ipython",
    "version": 3
   },
   "file_extension": ".py",
   "mimetype": "text/x-python",
   "name": "python",
   "nbconvert_exporter": "python",
   "pygments_lexer": "ipython3",
   "version": "3.10.4"
  }
 },
 "nbformat": 4,
 "nbformat_minor": 5
}
