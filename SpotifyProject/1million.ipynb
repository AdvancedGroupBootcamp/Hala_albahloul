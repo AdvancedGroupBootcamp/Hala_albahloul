{
 "cells": [
  {
   "cell_type": "code",
   "execution_count": 1,
   "id": "dc4240e6",
   "metadata": {},
   "outputs": [],
   "source": [
    "from zipfile import ZipFile\n",
    "import json as js\n",
    "import pandas as pd\n",
    "zip_file_path = '/home/criuser/Downloads/spotify_million_playlist_dataset.zip'\n",
    "zip_file = ZipFile(zip_file_path)\n",
    "zip_files = {text_file for text_file in zip_file.namelist() if text_file.endswith('.json')}\n"
   ]
  },
  {
   "cell_type": "code",
   "execution_count": 6,
   "id": "b303579e",
   "metadata": {},
   "outputs": [
    {
     "name": "stdout",
     "output_type": "stream",
     "text": [
      "the most tracks: Kendrick Lamar\n",
      "the longest duration Kendrick Lamar\n",
      "the most playlists: Kendrick Lamar\n",
      "                   tracks  duration[minutes]  playlists\n",
      "Kendrick Lamar   353624.0       1.480128e+06        0.0\n",
      "Eminem           294667.0       1.398647e+06        0.0\n",
      "Taylor Swift     105366.0       4.094385e+05        0.0\n",
      "The Killers       81685.0       3.220175e+05        0.0\n",
      "P!nk              60220.0       2.281226e+05        0.0\n",
      "Muse              35807.0       1.615930e+05        0.0\n",
      "Harry Styles      32003.0       1.434592e+05        0.0\n",
      "Andrea Bocelli     6074.0       2.471714e+04        0.0\n",
      "Zaz                1041.0       3.507219e+03        0.0\n",
      "Lara Fabian         314.0       1.400163e+03        0.0\n",
      "Oumou Sangaré       153.0       8.132835e+02        0.0\n",
      "Laurent Garnier     108.0       7.280552e+02        0.0\n"
     ]
    }
   ],
   "source": [
    "#make a dictionary of the artists we want\n",
    "artists = {\"Zaz\" : {\"tracks\" : 0, \"duration[minutes]\" : 0, \"playlists\" : 0},\n",
    "           \"Oumou Sangaré\": {\"tracks\" : 0, \"duration[minutes]\" : 0, \"playlists\" : 0},\n",
    "           \"Kendrick Lamar\" : {\"tracks\" : 0, \"duration[minutes]\" : 0, \"playlists\" : 0}, \n",
    "           \"P!nk\":  {\"tracks\" : 0, \"duration[minutes]\" : 0, \"playlists\" : 0} ,\n",
    "           \"Muse\": {\"tracks\" : 0, \"duration[minutes]\" : 0, \"playlists\" : 0},\n",
    "           \"The Killers\": {\"tracks\" : 0, \"duration[minutes]\" : 0, \"playlists\" : 0},\n",
    "           \"Eminem\": {\"tracks\" : 0, \"duration[minutes]\" : 0, \"playlists\" : 0},\n",
    "           \"Taylor Swift\": {\"tracks\" : 0, \"duration[minutes]\" : 0, \"playlists\" : 0}, \n",
    "           \"Harry Styles\": {\"tracks\" : 0, \"duration[minutes]\" : 0, \"playlists\" : 0},\n",
    "           \"Lara Fabian\": {\"tracks\" : 0, \"duration[minutes]\" : 0, \"playlists\" : 0},\n",
    "           \"Andrea Bocelli\": {\"tracks\" : 0, \"duration[minutes]\" : 0, \"playlists\" : 0},\n",
    "           \"Laurent Garnier\": {\"tracks\" : 0, \"duration[minutes]\" : 0, \"playlists\" : 0}}\n",
    "\n",
    "\n",
    "Artists=['Zaz',  'Oumou Sangaré',  'Kendrick Lamar',  'P!nk',  'Muse',  'The Killers',  \"Eminem\",\n",
    "  'Taylor Swift',  'Harry Styles',  'Lara Fabian',  'Andrea Bocelli',  'Laurent Garnier']\n",
    "\n",
    "#read the files one by in and extract the data\n",
    "for jfile in zip_files:\n",
    "    with zip_file.open(jfile) as myfile:\n",
    "        data = myfile.read()\n",
    "        file = js.loads(data)\n",
    "\n",
    "    for i in Artists:\n",
    "        count=0 \n",
    "        count_duration=0\n",
    "        for j in range(len(file['playlists'])):\n",
    "            for t in range(len(file['playlists'][j]['tracks'])):\n",
    "                \n",
    "                if file['playlists'][j]['tracks'][t]['artist_name']==i:\n",
    "                    \n",
    "                    count+=1\n",
    "                    count_duration+=file['playlists'][j]['tracks'][t][\"duration_ms\"]\n",
    "        artists[i][\"tracks\"]+=count\n",
    "        artists[i][\"duration[minutes]\"]+=count_duration/60000\n",
    "\n",
    "        \n",
    "\n",
    "#show results \n",
    "d=dict(sorted(artists.items(), key=lambda item: item[1]['tracks'] , reverse=True))\n",
    "output_df=pd.DataFrame(d).T\n",
    "print(\"the most tracks:\",output_df['tracks'].idxmax())\n",
    "print(\"the longest duration\",output_df['duration[minutes]'].idxmax())\n",
    "print(\"the most playlists:\",output_df['playlists'].idxmax())\n",
    "\n",
    "print(output_df)"
   ]
  },
  {
   "cell_type": "code",
   "execution_count": null,
   "id": "69c8c80b",
   "metadata": {},
   "outputs": [],
   "source": []
  }
 ],
 "metadata": {
  "kernelspec": {
   "display_name": "Python 3 (ipykernel)",
   "language": "python",
   "name": "python3"
  },
  "language_info": {
   "codemirror_mode": {
    "name": "ipython",
    "version": 3
   },
   "file_extension": ".py",
   "mimetype": "text/x-python",
   "name": "python",
   "nbconvert_exporter": "python",
   "pygments_lexer": "ipython3",
   "version": "3.10.4"
  }
 },
 "nbformat": 4,
 "nbformat_minor": 5
}
