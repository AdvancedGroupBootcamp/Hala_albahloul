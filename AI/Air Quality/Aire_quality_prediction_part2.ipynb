{
  "cells": [
    {
      "cell_type": "code",
      "execution_count": null,
      "id": "800bc059",
      "metadata": {
        "id": "800bc059"
      },
      "outputs": [],
      "source": [
        "import pandas as pd\n",
        "import numpy as np\n",
        "import seaborn as sns\n",
        "from datetime import datetime\n",
        "import matplotlib.pyplot as plt"
      ]
    },
    {
      "cell_type": "code",
      "execution_count": null,
      "id": "8e414848",
      "metadata": {
        "id": "8e414848"
      },
      "outputs": [],
      "source": [
        "chatelet_df = pd.read_csv('/home/hala/Downloads/qualite-de-lair-mesuree-dans-la-station-chatelet.csv', sep = ';', parse_dates = True)\n",
        "auber_df = pd.read_csv('/home/hala/Downloads/qualite-de-lair-mesuree-dans-la-station-franklin-d-roosevelt.csv', sep = ';', parse_dates = True)\n",
        "#roosevelt_df = pd.read_csv('roosevelt.csv', sep = ';', parse_dates = True)\n"
      ]
    },
    {
      "cell_type": "code",
      "execution_count": null,
      "id": "df1e4442",
      "metadata": {
        "id": "df1e4442",
        "outputId": "202d1292-42bc-4638-aca1-3ec69d60d2ee"
      },
      "outputs": [
        {
          "data": {
            "text/html": [
              "<div>\n",
              "<style scoped>\n",
              "    .dataframe tbody tr th:only-of-type {\n",
              "        vertical-align: middle;\n",
              "    }\n",
              "\n",
              "    .dataframe tbody tr th {\n",
              "        vertical-align: top;\n",
              "    }\n",
              "\n",
              "    .dataframe thead th {\n",
              "        text-align: right;\n",
              "    }\n",
              "</style>\n",
              "<table border=\"1\" class=\"dataframe\">\n",
              "  <thead>\n",
              "    <tr style=\"text-align: right;\">\n",
              "      <th></th>\n",
              "      <th>DATE/HEURE</th>\n",
              "      <th>NO</th>\n",
              "      <th>NO2</th>\n",
              "      <th>PM10</th>\n",
              "      <th>CO2</th>\n",
              "      <th>TEMP</th>\n",
              "      <th>HUMI</th>\n",
              "    </tr>\n",
              "  </thead>\n",
              "  <tbody>\n",
              "    <tr>\n",
              "      <th>0</th>\n",
              "      <td>2022-10-10T02:00:00+02:00</td>\n",
              "      <td>ND</td>\n",
              "      <td>ND</td>\n",
              "      <td>43</td>\n",
              "      <td>508</td>\n",
              "      <td>18,2</td>\n",
              "      <td>49,1</td>\n",
              "    </tr>\n",
              "    <tr>\n",
              "      <th>1</th>\n",
              "      <td>2022-10-10T01:00:00+02:00</td>\n",
              "      <td>ND</td>\n",
              "      <td>ND</td>\n",
              "      <td>45</td>\n",
              "      <td>529</td>\n",
              "      <td>18,5</td>\n",
              "      <td>48,4</td>\n",
              "    </tr>\n",
              "    <tr>\n",
              "      <th>2</th>\n",
              "      <td>2022-10-10T00:00:00+02:00</td>\n",
              "      <td>ND</td>\n",
              "      <td>ND</td>\n",
              "      <td>42</td>\n",
              "      <td>547</td>\n",
              "      <td>18,8</td>\n",
              "      <td>47,1</td>\n",
              "    </tr>\n",
              "    <tr>\n",
              "      <th>3</th>\n",
              "      <td>2022-10-09T23:00:00+02:00</td>\n",
              "      <td>ND</td>\n",
              "      <td>ND</td>\n",
              "      <td>59</td>\n",
              "      <td>614</td>\n",
              "      <td>19,1</td>\n",
              "      <td>47,2</td>\n",
              "    </tr>\n",
              "    <tr>\n",
              "      <th>4</th>\n",
              "      <td>2022-10-09T22:00:00+02:00</td>\n",
              "      <td>ND</td>\n",
              "      <td>ND</td>\n",
              "      <td>65</td>\n",
              "      <td>637</td>\n",
              "      <td>19,4</td>\n",
              "      <td>46,3</td>\n",
              "    </tr>\n",
              "    <tr>\n",
              "      <th>...</th>\n",
              "      <td>...</td>\n",
              "      <td>...</td>\n",
              "      <td>...</td>\n",
              "      <td>...</td>\n",
              "      <td>...</td>\n",
              "      <td>...</td>\n",
              "      <td>...</td>\n",
              "    </tr>\n",
              "    <tr>\n",
              "      <th>85432</th>\n",
              "      <td>2013-01-01T06:00:00+01:00</td>\n",
              "      <td>4</td>\n",
              "      <td>26</td>\n",
              "      <td>102</td>\n",
              "      <td>622</td>\n",
              "      <td>21,2</td>\n",
              "      <td>45,9</td>\n",
              "    </tr>\n",
              "    <tr>\n",
              "      <th>85433</th>\n",
              "      <td>2013-01-01T05:00:00+01:00</td>\n",
              "      <td>3</td>\n",
              "      <td>25</td>\n",
              "      <td>85</td>\n",
              "      <td>715</td>\n",
              "      <td>21,6</td>\n",
              "      <td>45,8</td>\n",
              "    </tr>\n",
              "    <tr>\n",
              "      <th>85434</th>\n",
              "      <td>2013-01-01T04:00:00+01:00</td>\n",
              "      <td>4</td>\n",
              "      <td>27</td>\n",
              "      <td>124</td>\n",
              "      <td>799</td>\n",
              "      <td>21,8</td>\n",
              "      <td>47</td>\n",
              "    </tr>\n",
              "    <tr>\n",
              "      <th>85435</th>\n",
              "      <td>2013-01-01T03:00:00+01:00</td>\n",
              "      <td>6</td>\n",
              "      <td>30</td>\n",
              "      <td>166</td>\n",
              "      <td>800</td>\n",
              "      <td>21,6</td>\n",
              "      <td>47,3</td>\n",
              "    </tr>\n",
              "    <tr>\n",
              "      <th>85436</th>\n",
              "      <td>2013-01-01T02:00:00+01:00</td>\n",
              "      <td>6</td>\n",
              "      <td>31</td>\n",
              "      <td>182</td>\n",
              "      <td>776</td>\n",
              "      <td>21,5</td>\n",
              "      <td>46,2</td>\n",
              "    </tr>\n",
              "  </tbody>\n",
              "</table>\n",
              "<p>85437 rows × 7 columns</p>\n",
              "</div>"
            ],
            "text/plain": [
              "                      DATE/HEURE  NO NO2 PM10  CO2  TEMP  HUMI\n",
              "0      2022-10-10T02:00:00+02:00  ND  ND   43  508  18,2  49,1\n",
              "1      2022-10-10T01:00:00+02:00  ND  ND   45  529  18,5  48,4\n",
              "2      2022-10-10T00:00:00+02:00  ND  ND   42  547  18,8  47,1\n",
              "3      2022-10-09T23:00:00+02:00  ND  ND   59  614  19,1  47,2\n",
              "4      2022-10-09T22:00:00+02:00  ND  ND   65  637  19,4  46,3\n",
              "...                          ...  ..  ..  ...  ...   ...   ...\n",
              "85432  2013-01-01T06:00:00+01:00   4  26  102  622  21,2  45,9\n",
              "85433  2013-01-01T05:00:00+01:00   3  25   85  715  21,6  45,8\n",
              "85434  2013-01-01T04:00:00+01:00   4  27  124  799  21,8    47\n",
              "85435  2013-01-01T03:00:00+01:00   6  30  166  800  21,6  47,3\n",
              "85436  2013-01-01T02:00:00+01:00   6  31  182  776  21,5  46,2\n",
              "\n",
              "[85437 rows x 7 columns]"
            ]
          },
          "execution_count": 35,
          "metadata": {},
          "output_type": "execute_result"
        }
      ],
      "source": [
        "chatelet_df"
      ]
    },
    {
      "cell_type": "code",
      "execution_count": null,
      "id": "8fa009bf",
      "metadata": {
        "id": "8fa009bf",
        "outputId": "9884a8a5-95b8-4009-f77a-af25f476c80b"
      },
      "outputs": [
        {
          "data": {
            "text/html": [
              "<div>\n",
              "<style scoped>\n",
              "    .dataframe tbody tr th:only-of-type {\n",
              "        vertical-align: middle;\n",
              "    }\n",
              "\n",
              "    .dataframe tbody tr th {\n",
              "        vertical-align: top;\n",
              "    }\n",
              "\n",
              "    .dataframe thead th {\n",
              "        text-align: right;\n",
              "    }\n",
              "</style>\n",
              "<table border=\"1\" class=\"dataframe\">\n",
              "  <thead>\n",
              "    <tr style=\"text-align: right;\">\n",
              "      <th></th>\n",
              "      <th>date/heure</th>\n",
              "      <th>NO</th>\n",
              "      <th>NO2</th>\n",
              "      <th>PM10</th>\n",
              "      <th>CO2</th>\n",
              "      <th>TEMP</th>\n",
              "      <th>HUMI</th>\n",
              "    </tr>\n",
              "  </thead>\n",
              "  <tbody>\n",
              "    <tr>\n",
              "      <th>0</th>\n",
              "      <td>2022-10-10T02:00:00+02:00</td>\n",
              "      <td>33</td>\n",
              "      <td>58</td>\n",
              "      <td>58</td>\n",
              "      <td>522</td>\n",
              "      <td>21,3</td>\n",
              "      <td>44</td>\n",
              "    </tr>\n",
              "    <tr>\n",
              "      <th>1</th>\n",
              "      <td>2022-10-10T01:00:00+02:00</td>\n",
              "      <td>53</td>\n",
              "      <td>63</td>\n",
              "      <td>48</td>\n",
              "      <td>540</td>\n",
              "      <td>21,5</td>\n",
              "      <td>43,3</td>\n",
              "    </tr>\n",
              "    <tr>\n",
              "      <th>2</th>\n",
              "      <td>2022-10-10T00:00:00+02:00</td>\n",
              "      <td>31</td>\n",
              "      <td>62</td>\n",
              "      <td>39</td>\n",
              "      <td>551</td>\n",
              "      <td>21,6</td>\n",
              "      <td>42,6</td>\n",
              "    </tr>\n",
              "    <tr>\n",
              "      <th>3</th>\n",
              "      <td>2022-10-09T23:00:00+02:00</td>\n",
              "      <td>21</td>\n",
              "      <td>63</td>\n",
              "      <td>31</td>\n",
              "      <td>542</td>\n",
              "      <td>21</td>\n",
              "      <td>44,7</td>\n",
              "    </tr>\n",
              "    <tr>\n",
              "      <th>4</th>\n",
              "      <td>2022-10-09T22:00:00+02:00</td>\n",
              "      <td>10</td>\n",
              "      <td>48</td>\n",
              "      <td>30</td>\n",
              "      <td>532</td>\n",
              "      <td>20,8</td>\n",
              "      <td>45,2</td>\n",
              "    </tr>\n",
              "    <tr>\n",
              "      <th>...</th>\n",
              "      <td>...</td>\n",
              "      <td>...</td>\n",
              "      <td>...</td>\n",
              "      <td>...</td>\n",
              "      <td>...</td>\n",
              "      <td>...</td>\n",
              "      <td>...</td>\n",
              "    </tr>\n",
              "    <tr>\n",
              "      <th>85432</th>\n",
              "      <td>2013-01-01T06:00:00+01:00</td>\n",
              "      <td>27</td>\n",
              "      <td>57</td>\n",
              "      <td>15</td>\n",
              "      <td>464</td>\n",
              "      <td>15</td>\n",
              "      <td>63,3</td>\n",
              "    </tr>\n",
              "    <tr>\n",
              "      <th>85433</th>\n",
              "      <td>2013-01-01T05:00:00+01:00</td>\n",
              "      <td>27</td>\n",
              "      <td>56</td>\n",
              "      <td>22</td>\n",
              "      <td>481</td>\n",
              "      <td>14,9</td>\n",
              "      <td>63,7</td>\n",
              "    </tr>\n",
              "    <tr>\n",
              "      <th>85434</th>\n",
              "      <td>2013-01-01T04:00:00+01:00</td>\n",
              "      <td>22</td>\n",
              "      <td>52</td>\n",
              "      <td>45</td>\n",
              "      <td>490</td>\n",
              "      <td>14,9</td>\n",
              "      <td>63,3</td>\n",
              "    </tr>\n",
              "    <tr>\n",
              "      <th>85435</th>\n",
              "      <td>2013-01-01T03:00:00+01:00</td>\n",
              "      <td>43</td>\n",
              "      <td>61</td>\n",
              "      <td>18</td>\n",
              "      <td>536</td>\n",
              "      <td>14,9</td>\n",
              "      <td>65</td>\n",
              "    </tr>\n",
              "    <tr>\n",
              "      <th>85436</th>\n",
              "      <td>2013-01-01T02:00:00+01:00</td>\n",
              "      <td>23</td>\n",
              "      <td>41</td>\n",
              "      <td>26</td>\n",
              "      <td>612</td>\n",
              "      <td>15,1</td>\n",
              "      <td>65,6</td>\n",
              "    </tr>\n",
              "  </tbody>\n",
              "</table>\n",
              "<p>85437 rows × 7 columns</p>\n",
              "</div>"
            ],
            "text/plain": [
              "                      date/heure  NO NO2 PM10  CO2  TEMP  HUMI\n",
              "0      2022-10-10T02:00:00+02:00  33  58   58  522  21,3    44\n",
              "1      2022-10-10T01:00:00+02:00  53  63   48  540  21,5  43,3\n",
              "2      2022-10-10T00:00:00+02:00  31  62   39  551  21,6  42,6\n",
              "3      2022-10-09T23:00:00+02:00  21  63   31  542    21  44,7\n",
              "4      2022-10-09T22:00:00+02:00  10  48   30  532  20,8  45,2\n",
              "...                          ...  ..  ..  ...  ...   ...   ...\n",
              "85432  2013-01-01T06:00:00+01:00  27  57   15  464    15  63,3\n",
              "85433  2013-01-01T05:00:00+01:00  27  56   22  481  14,9  63,7\n",
              "85434  2013-01-01T04:00:00+01:00  22  52   45  490  14,9  63,3\n",
              "85435  2013-01-01T03:00:00+01:00  43  61   18  536  14,9    65\n",
              "85436  2013-01-01T02:00:00+01:00  23  41   26  612  15,1  65,6\n",
              "\n",
              "[85437 rows x 7 columns]"
            ]
          },
          "execution_count": 4,
          "metadata": {},
          "output_type": "execute_result"
        }
      ],
      "source": [
        "roosevelt_df"
      ]
    },
    {
      "cell_type": "code",
      "execution_count": null,
      "id": "cc64b9f3",
      "metadata": {
        "id": "cc64b9f3",
        "outputId": "cb1c73bf-dd2f-4df4-dfee-9558772252df"
      },
      "outputs": [
        {
          "data": {
            "text/html": [
              "<div>\n",
              "<style scoped>\n",
              "    .dataframe tbody tr th:only-of-type {\n",
              "        vertical-align: middle;\n",
              "    }\n",
              "\n",
              "    .dataframe tbody tr th {\n",
              "        vertical-align: top;\n",
              "    }\n",
              "\n",
              "    .dataframe thead th {\n",
              "        text-align: right;\n",
              "    }\n",
              "</style>\n",
              "<table border=\"1\" class=\"dataframe\">\n",
              "  <thead>\n",
              "    <tr style=\"text-align: right;\">\n",
              "      <th></th>\n",
              "      <th>DATE/HEURE</th>\n",
              "      <th>NO</th>\n",
              "      <th>NO2</th>\n",
              "      <th>PM10</th>\n",
              "      <th>PM2.5</th>\n",
              "      <th>CO2</th>\n",
              "      <th>TEMP</th>\n",
              "      <th>HUMI</th>\n",
              "    </tr>\n",
              "  </thead>\n",
              "  <tbody>\n",
              "    <tr>\n",
              "      <th>0</th>\n",
              "      <td>2022-10-10T02:00:00+02:00</td>\n",
              "      <td>28</td>\n",
              "      <td>56</td>\n",
              "      <td>103</td>\n",
              "      <td>35</td>\n",
              "      <td>509</td>\n",
              "      <td>21,7</td>\n",
              "      <td>43,7</td>\n",
              "    </tr>\n",
              "    <tr>\n",
              "      <th>1</th>\n",
              "      <td>2022-10-10T01:00:00+02:00</td>\n",
              "      <td>29</td>\n",
              "      <td>58</td>\n",
              "      <td>108</td>\n",
              "      <td>41</td>\n",
              "      <td>518</td>\n",
              "      <td>21,8</td>\n",
              "      <td>43,1</td>\n",
              "    </tr>\n",
              "    <tr>\n",
              "      <th>2</th>\n",
              "      <td>2022-10-10T00:00:00+02:00</td>\n",
              "      <td>28</td>\n",
              "      <td>58</td>\n",
              "      <td>140</td>\n",
              "      <td>52</td>\n",
              "      <td>533</td>\n",
              "      <td>22</td>\n",
              "      <td>42,9</td>\n",
              "    </tr>\n",
              "    <tr>\n",
              "      <th>3</th>\n",
              "      <td>2022-10-09T23:00:00+02:00</td>\n",
              "      <td>27</td>\n",
              "      <td>57</td>\n",
              "      <td>113</td>\n",
              "      <td>41</td>\n",
              "      <td>570</td>\n",
              "      <td>22,1</td>\n",
              "      <td>43,1</td>\n",
              "    </tr>\n",
              "    <tr>\n",
              "      <th>4</th>\n",
              "      <td>2022-10-09T22:00:00+02:00</td>\n",
              "      <td>15</td>\n",
              "      <td>53</td>\n",
              "      <td>138</td>\n",
              "      <td>49</td>\n",
              "      <td>588</td>\n",
              "      <td>22,4</td>\n",
              "      <td>42,2</td>\n",
              "    </tr>\n",
              "    <tr>\n",
              "      <th>...</th>\n",
              "      <td>...</td>\n",
              "      <td>...</td>\n",
              "      <td>...</td>\n",
              "      <td>...</td>\n",
              "      <td>...</td>\n",
              "      <td>...</td>\n",
              "      <td>...</td>\n",
              "      <td>...</td>\n",
              "    </tr>\n",
              "    <tr>\n",
              "      <th>84539</th>\n",
              "      <td>NaN</td>\n",
              "      <td>NaN</td>\n",
              "      <td>NaN</td>\n",
              "      <td>NaN</td>\n",
              "      <td>NaN</td>\n",
              "      <td>NaN</td>\n",
              "      <td>NaN</td>\n",
              "      <td>NaN</td>\n",
              "    </tr>\n",
              "    <tr>\n",
              "      <th>84540</th>\n",
              "      <td>NaN</td>\n",
              "      <td>NaN</td>\n",
              "      <td>NaN</td>\n",
              "      <td>NaN</td>\n",
              "      <td>NaN</td>\n",
              "      <td>NaN</td>\n",
              "      <td>NaN</td>\n",
              "      <td>NaN</td>\n",
              "    </tr>\n",
              "    <tr>\n",
              "      <th>84541</th>\n",
              "      <td>NaN</td>\n",
              "      <td>NaN</td>\n",
              "      <td>NaN</td>\n",
              "      <td>NaN</td>\n",
              "      <td>NaN</td>\n",
              "      <td>NaN</td>\n",
              "      <td>NaN</td>\n",
              "      <td>NaN</td>\n",
              "    </tr>\n",
              "    <tr>\n",
              "      <th>84542</th>\n",
              "      <td>NaN</td>\n",
              "      <td>NaN</td>\n",
              "      <td>NaN</td>\n",
              "      <td>NaN</td>\n",
              "      <td>NaN</td>\n",
              "      <td>NaN</td>\n",
              "      <td>NaN</td>\n",
              "      <td>NaN</td>\n",
              "    </tr>\n",
              "    <tr>\n",
              "      <th>84543</th>\n",
              "      <td>NaN</td>\n",
              "      <td>NaN</td>\n",
              "      <td>NaN</td>\n",
              "      <td>NaN</td>\n",
              "      <td>NaN</td>\n",
              "      <td>NaN</td>\n",
              "      <td>NaN</td>\n",
              "      <td>NaN</td>\n",
              "    </tr>\n",
              "  </tbody>\n",
              "</table>\n",
              "<p>84544 rows × 8 columns</p>\n",
              "</div>"
            ],
            "text/plain": [
              "                      DATE/HEURE   NO  NO2 PM10 PM2.5  CO2  TEMP  HUMI\n",
              "0      2022-10-10T02:00:00+02:00   28   56  103    35  509  21,7  43,7\n",
              "1      2022-10-10T01:00:00+02:00   29   58  108    41  518  21,8  43,1\n",
              "2      2022-10-10T00:00:00+02:00   28   58  140    52  533    22  42,9\n",
              "3      2022-10-09T23:00:00+02:00   27   57  113    41  570  22,1  43,1\n",
              "4      2022-10-09T22:00:00+02:00   15   53  138    49  588  22,4  42,2\n",
              "...                          ...  ...  ...  ...   ...  ...   ...   ...\n",
              "84539                        NaN  NaN  NaN  NaN   NaN  NaN   NaN   NaN\n",
              "84540                        NaN  NaN  NaN  NaN   NaN  NaN   NaN   NaN\n",
              "84541                        NaN  NaN  NaN  NaN   NaN  NaN   NaN   NaN\n",
              "84542                        NaN  NaN  NaN  NaN   NaN  NaN   NaN   NaN\n",
              "84543                        NaN  NaN  NaN  NaN   NaN  NaN   NaN   NaN\n",
              "\n",
              "[84544 rows x 8 columns]"
            ]
          },
          "execution_count": 5,
          "metadata": {},
          "output_type": "execute_result"
        }
      ],
      "source": [
        "auber_df"
      ]
    },
    {
      "cell_type": "markdown",
      "id": "314da2ec",
      "metadata": {
        "id": "314da2ec"
      },
      "source": [
        "Questions\n",
        "Here is a list of relevant questions that can be tackled by analyzing the published data. feel free to ask more\n",
        "questions or reformulate these ones.\n",
        ". Predict CO2 level in a selected station from time of day, past values, temperature and humidity.\n",
        ". Predict NO/NO2/PM10 levels (+PM25 for Auber) in a selected station from past values, temperature\n",
        "and humidity. Does it help to also consider current CO2 level?\n",
        ". Compare models for each stations.\n",
        ". Can current levels in two stations help predict levels in third station?\n",
        ". Can surface air quality data help predict NO/NO2/PM10/PM25 levels in subway stations?"
      ]
    },
    {
      "cell_type": "code",
      "execution_count": null,
      "id": "0c53f31a",
      "metadata": {
        "id": "0c53f31a"
      },
      "outputs": [],
      "source": [
        "#chatelet_df['DATE/HEURE'] = chatelet_df['DATE/HEURE'].apply(lambda x: datetime.strptime(x, '%Y-%m-%dT%H:%M:%S.%f%z').astimezone(ZoneInfo('Europe/Paris')).strftime('%I:%M %p'))"
      ]
    },
    {
      "cell_type": "code",
      "execution_count": null,
      "id": "5f15efcd",
      "metadata": {
        "id": "5f15efcd"
      },
      "outputs": [],
      "source": [
        "#datetime.strptime('2022-02-18T00:00:00.000Z', '%Y-%m-%dT%H:%M:%S.%f%z').astimezone(ZoneInfo('America/New_York')).strftime('%I:%M %p')"
      ]
    },
    {
      "cell_type": "code",
      "execution_count": null,
      "id": "6ce7e0c4",
      "metadata": {
        "id": "6ce7e0c4"
      },
      "outputs": [],
      "source": [
        "chatelet_df.set_index('DATE/HEURE', inplace = True)"
      ]
    },
    {
      "cell_type": "code",
      "execution_count": null,
      "id": "c0f82354",
      "metadata": {
        "id": "c0f82354"
      },
      "outputs": [],
      "source": [
        "chatelet_df = chatelet_df.apply(lambda x: x.replace('ND',np.NaN))\n",
        "# auber_df = auber_df.apply(lambda x: x.replace('ND',np.NaN))\n",
        "# roosevelt_df = roosevelt_df.apply(lambda x: x.replace('ND',np.NaN))"
      ]
    },
    {
      "cell_type": "code",
      "execution_count": null,
      "id": "0167e97c",
      "metadata": {
        "id": "0167e97c"
      },
      "outputs": [],
      "source": [
        "auber_df.dropna(axis = 0, how = 'all', inplace = True)"
      ]
    },
    {
      "cell_type": "code",
      "execution_count": null,
      "id": "4dd27015",
      "metadata": {
        "id": "4dd27015"
      },
      "outputs": [],
      "source": [
        "roosevelt_df.dropna(axis = 0, how = 'all', inplace = True)"
      ]
    },
    {
      "cell_type": "code",
      "execution_count": null,
      "id": "53dbf5b5",
      "metadata": {
        "id": "53dbf5b5"
      },
      "outputs": [],
      "source": [
        "auber_df.set_index('DATE/HEURE', inplace = True)\n"
      ]
    },
    {
      "cell_type": "code",
      "execution_count": null,
      "id": "32c83fc3",
      "metadata": {
        "id": "32c83fc3"
      },
      "outputs": [],
      "source": [
        "roosevelt_df.set_index('date/heure', inplace = True)\n"
      ]
    },
    {
      "cell_type": "code",
      "execution_count": null,
      "id": "84ceb60c",
      "metadata": {
        "id": "84ceb60c",
        "outputId": "a348788b-f7e9-4bfa-e566-e46152cd10ee"
      },
      "outputs": [
        {
          "data": {
            "text/plain": [
              "Index(['NO', 'NO2', 'PM10', 'PM2.5', 'CO2', 'TEMP', 'HUMI'], dtype='object')"
            ]
          },
          "execution_count": 14,
          "metadata": {},
          "output_type": "execute_result"
        }
      ],
      "source": [
        "auber_df.columns"
      ]
    },
    {
      "cell_type": "code",
      "execution_count": null,
      "id": "ddc5fc15",
      "metadata": {
        "id": "ddc5fc15",
        "outputId": "1a9a4d5e-7e7d-4cf8-98ce-cef0e0608a3b"
      },
      "outputs": [
        {
          "data": {
            "text/plain": [
              "Index(['NO', 'NO2', 'PM10', 'CO2', 'TEMP', 'HUMI'], dtype='object')"
            ]
          },
          "execution_count": 15,
          "metadata": {},
          "output_type": "execute_result"
        }
      ],
      "source": [
        "roosevelt_df.columns"
      ]
    },
    {
      "cell_type": "code",
      "execution_count": null,
      "id": "bef44288",
      "metadata": {
        "id": "bef44288",
        "outputId": "95334b39-7b37-4640-a1bd-9bb38d702301"
      },
      "outputs": [
        {
          "data": {
            "text/plain": [
              "NO      28296\n",
              "NO2     19504\n",
              "PM10    15330\n",
              "CO2     15722\n",
              "TEMP    10712\n",
              "HUMI    10711\n",
              "dtype: int64"
            ]
          },
          "execution_count": 38,
          "metadata": {},
          "output_type": "execute_result"
        }
      ],
      "source": [
        "chatelet_df.isna().sum()"
      ]
    },
    {
      "cell_type": "code",
      "execution_count": null,
      "id": "cc37c372",
      "metadata": {
        "id": "cc37c372",
        "outputId": "7c465949-0a91-4bd3-b1ac-3b71fe77f19c"
      },
      "outputs": [
        {
          "data": {
            "text/plain": [
              "<AxesSubplot:ylabel='DATE/HEURE'>"
            ]
          },
          "execution_count": 39,
          "metadata": {},
          "output_type": "execute_result"
        },
        {
          "data": {
            "image/png": "[encoded data removed]",
            "text/plain": [
              "<Figure size 432x288 with 1 Axes>"
            ]
          },
          "metadata": {
            "needs_background": "light"
          },
          "output_type": "display_data"
        }
      ],
      "source": [
        "sns.heatmap(chatelet_df.isnull(),yticklabels=False,cbar=False,cmap='viridis')"
      ]
    },
    {
      "cell_type": "code",
      "execution_count": null,
      "id": "fafb1347",
      "metadata": {
        "id": "fafb1347"
      },
      "outputs": [],
      "source": [
        "chatelet_df.dropna(axis = 0, how = 'all', inplace = True)"
      ]
    },
    {
      "cell_type": "code",
      "execution_count": null,
      "id": "8222782d",
      "metadata": {
        "id": "8222782d",
        "outputId": "2f3de22b-1233-4c0f-cf9e-40d68a4463b1"
      },
      "outputs": [
        {
          "data": {
            "text/plain": [
              "<AxesSubplot:ylabel='DATE/HEURE'>"
            ]
          },
          "execution_count": 11,
          "metadata": {},
          "output_type": "execute_result"
        },
        {
          "data": {
            "image/png": "[encoded data removed]",
            "text/plain": [
              "<Figure size 432x288 with 1 Axes>"
            ]
          },
          "metadata": {
            "needs_background": "light"
          },
          "output_type": "display_data"
        }
      ],
      "source": [
        "sns.heatmap(chatelet_df.isnull(),yticklabels=False,cbar=False,cmap='viridis')"
      ]
    },
    {
      "cell_type": "code",
      "execution_count": null,
      "id": "51ccdbdc",
      "metadata": {
        "scrolled": true,
        "id": "51ccdbdc",
        "outputId": "3986d09e-a513-47bf-bebf-3cfe73c2dd4a"
      },
      "outputs": [
        {
          "data": {
            "text/plain": [
              "<AxesSubplot:>"
            ]
          },
          "execution_count": 12,
          "metadata": {},
          "output_type": "execute_result"
        },
        {
          "data": {
            "image/png": "[encoded data removed]",
            "text/plain": [
              "<Figure size 432x288 with 1 Axes>"
            ]
          },
          "metadata": {
            "needs_background": "light"
          },
          "output_type": "display_data"
        }
      ],
      "source": [
        "sns.heatmap(auber_df.isnull(),yticklabels=False,cbar=False,cmap='viridis')"
      ]
    },
    {
      "cell_type": "code",
      "execution_count": null,
      "id": "b78fac15",
      "metadata": {
        "id": "b78fac15",
        "outputId": "bb1c1db7-75cb-4325-d912-35e04ffe7e48"
      },
      "outputs": [
        {
          "data": {
            "text/plain": [
              "<AxesSubplot:ylabel='date/heure'>"
            ]
          },
          "execution_count": 21,
          "metadata": {},
          "output_type": "execute_result"
        },
        {
          "data": {
            "image/png": "[encoded data removed]",
            "text/plain": [
              "<Figure size 432x288 with 1 Axes>"
            ]
          },
          "metadata": {
            "needs_background": "light"
          },
          "output_type": "display_data"
        }
      ],
      "source": [
        "sns.heatmap(roosevelt_df.isnull(),yticklabels=False,cbar=False,cmap='viridis')"
      ]
    },
    {
      "cell_type": "code",
      "execution_count": null,
      "id": "ce8ceacb",
      "metadata": {
        "id": "ce8ceacb"
      },
      "outputs": [],
      "source": [
        "roosevelt_df.dropna(axis = 0, how = 'all', inplace = True)"
      ]
    },
    {
      "cell_type": "code",
      "execution_count": null,
      "id": "74d6ab73",
      "metadata": {
        "id": "74d6ab73",
        "outputId": "49dc52b4-9a4d-46dd-829f-c7657023656a"
      },
      "outputs": [
        {
          "data": {
            "text/plain": [
              "<AxesSubplot:ylabel='date/heure'>"
            ]
          },
          "execution_count": 23,
          "metadata": {},
          "output_type": "execute_result"
        },
        {
          "data": {
            "image/png": "[encoded data removed]",
            "text/plain": [
              "<Figure size 432x288 with 1 Axes>"
            ]
          },
          "metadata": {
            "needs_background": "light"
          },
          "output_type": "display_data"
        }
      ],
      "source": [
        "sns.heatmap(roosevelt_df.isnull(),yticklabels=False,cbar=False,cmap='viridis')"
      ]
    },
    {
      "cell_type": "code",
      "execution_count": null,
      "id": "b03a5285",
      "metadata": {
        "id": "b03a5285"
      },
      "outputs": [],
      "source": [
        "chatelet_df.fillna(method = 'bfill', inplace = True)"
      ]
    },
    {
      "cell_type": "code",
      "execution_count": null,
      "id": "6f993afd",
      "metadata": {
        "id": "6f993afd",
        "outputId": "117263f3-2cd4-4a62-9cb7-f962552996b2"
      },
      "outputs": [
        {
          "data": {
            "text/plain": [
              "<AxesSubplot:ylabel='DATE/HEURE'>"
            ]
          },
          "execution_count": 42,
          "metadata": {},
          "output_type": "execute_result"
        },
        {
          "data": {
            "image/png": "[encoded data removed]",
            "text/plain": [
              "<Figure size 432x288 with 1 Axes>"
            ]
          },
          "metadata": {
            "needs_background": "light"
          },
          "output_type": "display_data"
        }
      ],
      "source": [
        "sns.heatmap(chatelet_df.isnull(),yticklabels=False,cbar=False,cmap='viridis')"
      ]
    },
    {
      "cell_type": "code",
      "execution_count": null,
      "id": "44eea648",
      "metadata": {
        "id": "44eea648"
      },
      "outputs": [],
      "source": [
        "auber_df.fillna(method = 'bfill', inplace = True)"
      ]
    },
    {
      "cell_type": "code",
      "execution_count": null,
      "id": "3f6fa4e2",
      "metadata": {
        "id": "3f6fa4e2"
      },
      "outputs": [],
      "source": [
        "roosevelt_df.fillna(method = 'bfill', inplace = True)"
      ]
    },
    {
      "cell_type": "code",
      "execution_count": null,
      "id": "15f134e8",
      "metadata": {
        "id": "15f134e8",
        "outputId": "ad64954c-1af8-4412-9926-4d019a172a0a"
      },
      "outputs": [
        {
          "data": {
            "text/plain": [
              "<AxesSubplot:ylabel='date/heure'>"
            ]
          },
          "execution_count": 28,
          "metadata": {},
          "output_type": "execute_result"
        },
        {
          "data": {
            "image/png": "[encoded data removed]",
            "text/plain": [
              "<Figure size 432x288 with 1 Axes>"
            ]
          },
          "metadata": {
            "needs_background": "light"
          },
          "output_type": "display_data"
        }
      ],
      "source": [
        "sns.heatmap(roosevelt_df.isnull(),yticklabels=False,cbar=False,cmap='viridis')"
      ]
    },
    {
      "cell_type": "code",
      "execution_count": null,
      "id": "1be6bad8",
      "metadata": {
        "id": "1be6bad8",
        "outputId": "8304f18c-eb69-4819-a71a-a87e9110e040"
      },
      "outputs": [
        {
          "data": {
            "text/plain": [
              "NO      object\n",
              "NO2     object\n",
              "PM10    object\n",
              "CO2     object\n",
              "TEMP    object\n",
              "HUMI    object\n",
              "dtype: object"
            ]
          },
          "execution_count": 43,
          "metadata": {},
          "output_type": "execute_result"
        }
      ],
      "source": [
        "chatelet_df.dtypes"
      ]
    },
    {
      "cell_type": "code",
      "execution_count": null,
      "id": "ad023dfe",
      "metadata": {
        "id": "ad023dfe"
      },
      "outputs": [],
      "source": [
        "chatelet_df['HUMI'] = chatelet_df['HUMI'].apply(lambda x: x.replace(',','.'))\n",
        "chatelet_df['TEMP'] = chatelet_df['TEMP'].apply(lambda x: x.replace(',','.'))"
      ]
    },
    {
      "cell_type": "code",
      "execution_count": null,
      "id": "221f8a36",
      "metadata": {
        "id": "221f8a36"
      },
      "outputs": [],
      "source": [
        "chatelet_df['TEMP'] = chatelet_df['TEMP'].astype(float)\n",
        "chatelet_df['HUMI'] = chatelet_df['HUMI'].astype(float)\n"
      ]
    },
    {
      "cell_type": "code",
      "execution_count": null,
      "id": "5f103007",
      "metadata": {
        "id": "5f103007"
      },
      "outputs": [],
      "source": [
        "chatelet_df['NO2'] = chatelet_df['NO2'].apply(lambda x: x.replace('<',''))"
      ]
    },
    {
      "cell_type": "code",
      "execution_count": null,
      "id": "b763b58b",
      "metadata": {
        "id": "b763b58b"
      },
      "outputs": [],
      "source": [
        "chatelet_df['NO2'] = chatelet_df['NO2'].astype(float)\n"
      ]
    },
    {
      "cell_type": "code",
      "execution_count": null,
      "id": "35ed7dc7",
      "metadata": {
        "id": "35ed7dc7"
      },
      "outputs": [],
      "source": [
        "chatelet_df['PM10'] = chatelet_df['PM10'].apply(lambda x: x.replace('>',''))\n",
        "chatelet_df['PM10'] = chatelet_df['PM10'].apply(lambda x: x.replace('<',''))"
      ]
    },
    {
      "cell_type": "code",
      "execution_count": null,
      "id": "9c0a1cca",
      "metadata": {
        "id": "9c0a1cca"
      },
      "outputs": [],
      "source": [
        "chatelet_df['PM10'] = chatelet_df['PM10'].astype(float)\n"
      ]
    },
    {
      "cell_type": "code",
      "execution_count": null,
      "id": "70734006",
      "metadata": {
        "id": "70734006"
      },
      "outputs": [],
      "source": [
        "chatelet_df['CO2'] = chatelet_df['CO2'].astype(float)\n"
      ]
    },
    {
      "cell_type": "code",
      "execution_count": null,
      "id": "5ad845d2",
      "metadata": {
        "id": "5ad845d2"
      },
      "outputs": [],
      "source": [
        "chatelet_df['NO'] = chatelet_df['NO'].apply(lambda x: x.replace('<',''))"
      ]
    },
    {
      "cell_type": "code",
      "execution_count": null,
      "id": "d9f8a3c0",
      "metadata": {
        "id": "d9f8a3c0"
      },
      "outputs": [],
      "source": [
        "chatelet_df['NO'] = chatelet_df['NO'].astype(float)\n"
      ]
    },
    {
      "cell_type": "code",
      "execution_count": null,
      "id": "76f3f6fe",
      "metadata": {
        "id": "76f3f6fe",
        "outputId": "9e47e393-df06-4b06-d39d-90664da99470"
      },
      "outputs": [
        {
          "data": {
            "text/html": [
              "<div>\n",
              "<style scoped>\n",
              "    .dataframe tbody tr th:only-of-type {\n",
              "        vertical-align: middle;\n",
              "    }\n",
              "\n",
              "    .dataframe tbody tr th {\n",
              "        vertical-align: top;\n",
              "    }\n",
              "\n",
              "    .dataframe thead th {\n",
              "        text-align: right;\n",
              "    }\n",
              "</style>\n",
              "<table border=\"1\" class=\"dataframe\">\n",
              "  <thead>\n",
              "    <tr style=\"text-align: right;\">\n",
              "      <th></th>\n",
              "      <th>NO</th>\n",
              "      <th>NO2</th>\n",
              "      <th>PM10</th>\n",
              "      <th>CO2</th>\n",
              "      <th>TEMP</th>\n",
              "      <th>HUMI</th>\n",
              "    </tr>\n",
              "    <tr>\n",
              "      <th>DATE/HEURE</th>\n",
              "      <th></th>\n",
              "      <th></th>\n",
              "      <th></th>\n",
              "      <th></th>\n",
              "      <th></th>\n",
              "      <th></th>\n",
              "    </tr>\n",
              "  </thead>\n",
              "  <tbody>\n",
              "    <tr>\n",
              "      <th>2022-10-10T02:00:00+02:00</th>\n",
              "      <td>5.0</td>\n",
              "      <td>7.0</td>\n",
              "      <td>43.0</td>\n",
              "      <td>508.0</td>\n",
              "      <td>18.2</td>\n",
              "      <td>49.1</td>\n",
              "    </tr>\n",
              "    <tr>\n",
              "      <th>2022-10-10T01:00:00+02:00</th>\n",
              "      <td>5.0</td>\n",
              "      <td>7.0</td>\n",
              "      <td>45.0</td>\n",
              "      <td>529.0</td>\n",
              "      <td>18.5</td>\n",
              "      <td>48.4</td>\n",
              "    </tr>\n",
              "    <tr>\n",
              "      <th>2022-10-10T00:00:00+02:00</th>\n",
              "      <td>5.0</td>\n",
              "      <td>7.0</td>\n",
              "      <td>42.0</td>\n",
              "      <td>547.0</td>\n",
              "      <td>18.8</td>\n",
              "      <td>47.1</td>\n",
              "    </tr>\n",
              "    <tr>\n",
              "      <th>2022-10-09T23:00:00+02:00</th>\n",
              "      <td>5.0</td>\n",
              "      <td>7.0</td>\n",
              "      <td>59.0</td>\n",
              "      <td>614.0</td>\n",
              "      <td>19.1</td>\n",
              "      <td>47.2</td>\n",
              "    </tr>\n",
              "    <tr>\n",
              "      <th>2022-10-09T22:00:00+02:00</th>\n",
              "      <td>5.0</td>\n",
              "      <td>7.0</td>\n",
              "      <td>65.0</td>\n",
              "      <td>637.0</td>\n",
              "      <td>19.4</td>\n",
              "      <td>46.3</td>\n",
              "    </tr>\n",
              "    <tr>\n",
              "      <th>...</th>\n",
              "      <td>...</td>\n",
              "      <td>...</td>\n",
              "      <td>...</td>\n",
              "      <td>...</td>\n",
              "      <td>...</td>\n",
              "      <td>...</td>\n",
              "    </tr>\n",
              "    <tr>\n",
              "      <th>2013-01-01T06:00:00+01:00</th>\n",
              "      <td>4.0</td>\n",
              "      <td>26.0</td>\n",
              "      <td>102.0</td>\n",
              "      <td>622.0</td>\n",
              "      <td>21.2</td>\n",
              "      <td>45.9</td>\n",
              "    </tr>\n",
              "    <tr>\n",
              "      <th>2013-01-01T05:00:00+01:00</th>\n",
              "      <td>3.0</td>\n",
              "      <td>25.0</td>\n",
              "      <td>85.0</td>\n",
              "      <td>715.0</td>\n",
              "      <td>21.6</td>\n",
              "      <td>45.8</td>\n",
              "    </tr>\n",
              "    <tr>\n",
              "      <th>2013-01-01T04:00:00+01:00</th>\n",
              "      <td>4.0</td>\n",
              "      <td>27.0</td>\n",
              "      <td>124.0</td>\n",
              "      <td>799.0</td>\n",
              "      <td>21.8</td>\n",
              "      <td>47.0</td>\n",
              "    </tr>\n",
              "    <tr>\n",
              "      <th>2013-01-01T03:00:00+01:00</th>\n",
              "      <td>6.0</td>\n",
              "      <td>30.0</td>\n",
              "      <td>166.0</td>\n",
              "      <td>800.0</td>\n",
              "      <td>21.6</td>\n",
              "      <td>47.3</td>\n",
              "    </tr>\n",
              "    <tr>\n",
              "      <th>2013-01-01T02:00:00+01:00</th>\n",
              "      <td>6.0</td>\n",
              "      <td>31.0</td>\n",
              "      <td>182.0</td>\n",
              "      <td>776.0</td>\n",
              "      <td>21.5</td>\n",
              "      <td>46.2</td>\n",
              "    </tr>\n",
              "  </tbody>\n",
              "</table>\n",
              "<p>74950 rows × 6 columns</p>\n",
              "</div>"
            ],
            "text/plain": [
              "                            NO   NO2   PM10    CO2  TEMP  HUMI\n",
              "DATE/HEURE                                                    \n",
              "2022-10-10T02:00:00+02:00  5.0   7.0   43.0  508.0  18.2  49.1\n",
              "2022-10-10T01:00:00+02:00  5.0   7.0   45.0  529.0  18.5  48.4\n",
              "2022-10-10T00:00:00+02:00  5.0   7.0   42.0  547.0  18.8  47.1\n",
              "2022-10-09T23:00:00+02:00  5.0   7.0   59.0  614.0  19.1  47.2\n",
              "2022-10-09T22:00:00+02:00  5.0   7.0   65.0  637.0  19.4  46.3\n",
              "...                        ...   ...    ...    ...   ...   ...\n",
              "2013-01-01T06:00:00+01:00  4.0  26.0  102.0  622.0  21.2  45.9\n",
              "2013-01-01T05:00:00+01:00  3.0  25.0   85.0  715.0  21.6  45.8\n",
              "2013-01-01T04:00:00+01:00  4.0  27.0  124.0  799.0  21.8  47.0\n",
              "2013-01-01T03:00:00+01:00  6.0  30.0  166.0  800.0  21.6  47.3\n",
              "2013-01-01T02:00:00+01:00  6.0  31.0  182.0  776.0  21.5  46.2\n",
              "\n",
              "[74950 rows x 6 columns]"
            ]
          },
          "execution_count": 53,
          "metadata": {},
          "output_type": "execute_result"
        }
      ],
      "source": [
        "chatelet_df"
      ]
    },
    {
      "cell_type": "code",
      "execution_count": null,
      "id": "d678459b",
      "metadata": {
        "id": "d678459b",
        "outputId": "442f5db9-7383-4614-bcc5-f446a823e48e"
      },
      "outputs": [
        {
          "data": {
            "text/plain": [
              "NO      float64\n",
              "NO2     float64\n",
              "PM10    float64\n",
              "CO2     float64\n",
              "TEMP    float64\n",
              "HUMI    float64\n",
              "dtype: object"
            ]
          },
          "execution_count": 54,
          "metadata": {},
          "output_type": "execute_result"
        }
      ],
      "source": [
        "chatelet_df.dtypes"
      ]
    },
    {
      "cell_type": "code",
      "execution_count": null,
      "id": "d1f1bca8",
      "metadata": {
        "id": "d1f1bca8"
      },
      "outputs": [],
      "source": [
        "auber_df.index = pd.to_datetime(auber_df.index, utc = True)\n"
      ]
    },
    {
      "cell_type": "code",
      "execution_count": null,
      "id": "7acbc37a",
      "metadata": {
        "id": "7acbc37a"
      },
      "outputs": [],
      "source": [
        "chatelet_df.index = pd.to_datetime(chatelet_df.index, utc = True)\n"
      ]
    },
    {
      "cell_type": "code",
      "execution_count": null,
      "id": "a7d97113",
      "metadata": {
        "id": "a7d97113"
      },
      "outputs": [],
      "source": [
        "roosevelt_df.index = pd.to_datetime(roosevelt_df.index, utc = True)"
      ]
    },
    {
      "cell_type": "code",
      "execution_count": null,
      "id": "838aed9f",
      "metadata": {
        "id": "838aed9f",
        "outputId": "c3a8b2b3-de65-4e18-b8a0-ac183bb6fb0e"
      },
      "outputs": [
        {
          "data": {
            "text/plain": [
              "NO      float64\n",
              "NO2     float64\n",
              "PM10    float64\n",
              "CO2     float64\n",
              "TEMP    float64\n",
              "HUMI    float64\n",
              "dtype: object"
            ]
          },
          "execution_count": 56,
          "metadata": {},
          "output_type": "execute_result"
        }
      ],
      "source": [
        "chatelet_df.dtypes"
      ]
    },
    {
      "cell_type": "code",
      "execution_count": null,
      "id": "ca70a542",
      "metadata": {
        "id": "ca70a542",
        "outputId": "44a877ed-96e1-4513-acc1-72efccc698cd"
      },
      "outputs": [
        {
          "data": {
            "text/html": [
              "<div>\n",
              "<style scoped>\n",
              "    .dataframe tbody tr th:only-of-type {\n",
              "        vertical-align: middle;\n",
              "    }\n",
              "\n",
              "    .dataframe tbody tr th {\n",
              "        vertical-align: top;\n",
              "    }\n",
              "\n",
              "    .dataframe thead th {\n",
              "        text-align: right;\n",
              "    }\n",
              "</style>\n",
              "<table border=\"1\" class=\"dataframe\">\n",
              "  <thead>\n",
              "    <tr style=\"text-align: right;\">\n",
              "      <th></th>\n",
              "      <th>DATE/HEURE</th>\n",
              "      <th>NO</th>\n",
              "      <th>NO2</th>\n",
              "      <th>PM10</th>\n",
              "      <th>CO2</th>\n",
              "      <th>TEMP</th>\n",
              "      <th>HUMI</th>\n",
              "    </tr>\n",
              "  </thead>\n",
              "  <tbody>\n",
              "    <tr>\n",
              "      <th>0</th>\n",
              "      <td>2022-10-10 00:00:00+00:00</td>\n",
              "      <td>5.0</td>\n",
              "      <td>7.0</td>\n",
              "      <td>43.0</td>\n",
              "      <td>508.0</td>\n",
              "      <td>18.2</td>\n",
              "      <td>49.1</td>\n",
              "    </tr>\n",
              "    <tr>\n",
              "      <th>1</th>\n",
              "      <td>2022-10-09 23:00:00+00:00</td>\n",
              "      <td>5.0</td>\n",
              "      <td>7.0</td>\n",
              "      <td>45.0</td>\n",
              "      <td>529.0</td>\n",
              "      <td>18.5</td>\n",
              "      <td>48.4</td>\n",
              "    </tr>\n",
              "    <tr>\n",
              "      <th>2</th>\n",
              "      <td>2022-10-09 22:00:00+00:00</td>\n",
              "      <td>5.0</td>\n",
              "      <td>7.0</td>\n",
              "      <td>42.0</td>\n",
              "      <td>547.0</td>\n",
              "      <td>18.8</td>\n",
              "      <td>47.1</td>\n",
              "    </tr>\n",
              "    <tr>\n",
              "      <th>3</th>\n",
              "      <td>2022-10-09 21:00:00+00:00</td>\n",
              "      <td>5.0</td>\n",
              "      <td>7.0</td>\n",
              "      <td>59.0</td>\n",
              "      <td>614.0</td>\n",
              "      <td>19.1</td>\n",
              "      <td>47.2</td>\n",
              "    </tr>\n",
              "    <tr>\n",
              "      <th>4</th>\n",
              "      <td>2022-10-09 20:00:00+00:00</td>\n",
              "      <td>5.0</td>\n",
              "      <td>7.0</td>\n",
              "      <td>65.0</td>\n",
              "      <td>637.0</td>\n",
              "      <td>19.4</td>\n",
              "      <td>46.3</td>\n",
              "    </tr>\n",
              "    <tr>\n",
              "      <th>...</th>\n",
              "      <td>...</td>\n",
              "      <td>...</td>\n",
              "      <td>...</td>\n",
              "      <td>...</td>\n",
              "      <td>...</td>\n",
              "      <td>...</td>\n",
              "      <td>...</td>\n",
              "    </tr>\n",
              "    <tr>\n",
              "      <th>74945</th>\n",
              "      <td>2013-01-01 05:00:00+00:00</td>\n",
              "      <td>4.0</td>\n",
              "      <td>26.0</td>\n",
              "      <td>102.0</td>\n",
              "      <td>622.0</td>\n",
              "      <td>21.2</td>\n",
              "      <td>45.9</td>\n",
              "    </tr>\n",
              "    <tr>\n",
              "      <th>74946</th>\n",
              "      <td>2013-01-01 04:00:00+00:00</td>\n",
              "      <td>3.0</td>\n",
              "      <td>25.0</td>\n",
              "      <td>85.0</td>\n",
              "      <td>715.0</td>\n",
              "      <td>21.6</td>\n",
              "      <td>45.8</td>\n",
              "    </tr>\n",
              "    <tr>\n",
              "      <th>74947</th>\n",
              "      <td>2013-01-01 03:00:00+00:00</td>\n",
              "      <td>4.0</td>\n",
              "      <td>27.0</td>\n",
              "      <td>124.0</td>\n",
              "      <td>799.0</td>\n",
              "      <td>21.8</td>\n",
              "      <td>47.0</td>\n",
              "    </tr>\n",
              "    <tr>\n",
              "      <th>74948</th>\n",
              "      <td>2013-01-01 02:00:00+00:00</td>\n",
              "      <td>6.0</td>\n",
              "      <td>30.0</td>\n",
              "      <td>166.0</td>\n",
              "      <td>800.0</td>\n",
              "      <td>21.6</td>\n",
              "      <td>47.3</td>\n",
              "    </tr>\n",
              "    <tr>\n",
              "      <th>74949</th>\n",
              "      <td>2013-01-01 01:00:00+00:00</td>\n",
              "      <td>6.0</td>\n",
              "      <td>31.0</td>\n",
              "      <td>182.0</td>\n",
              "      <td>776.0</td>\n",
              "      <td>21.5</td>\n",
              "      <td>46.2</td>\n",
              "    </tr>\n",
              "  </tbody>\n",
              "</table>\n",
              "<p>74950 rows × 7 columns</p>\n",
              "</div>"
            ],
            "text/plain": [
              "                     DATE/HEURE   NO   NO2   PM10    CO2  TEMP  HUMI\n",
              "0     2022-10-10 00:00:00+00:00  5.0   7.0   43.0  508.0  18.2  49.1\n",
              "1     2022-10-09 23:00:00+00:00  5.0   7.0   45.0  529.0  18.5  48.4\n",
              "2     2022-10-09 22:00:00+00:00  5.0   7.0   42.0  547.0  18.8  47.1\n",
              "3     2022-10-09 21:00:00+00:00  5.0   7.0   59.0  614.0  19.1  47.2\n",
              "4     2022-10-09 20:00:00+00:00  5.0   7.0   65.0  637.0  19.4  46.3\n",
              "...                         ...  ...   ...    ...    ...   ...   ...\n",
              "74945 2013-01-01 05:00:00+00:00  4.0  26.0  102.0  622.0  21.2  45.9\n",
              "74946 2013-01-01 04:00:00+00:00  3.0  25.0   85.0  715.0  21.6  45.8\n",
              "74947 2013-01-01 03:00:00+00:00  4.0  27.0  124.0  799.0  21.8  47.0\n",
              "74948 2013-01-01 02:00:00+00:00  6.0  30.0  166.0  800.0  21.6  47.3\n",
              "74949 2013-01-01 01:00:00+00:00  6.0  31.0  182.0  776.0  21.5  46.2\n",
              "\n",
              "[74950 rows x 7 columns]"
            ]
          },
          "execution_count": 57,
          "metadata": {},
          "output_type": "execute_result"
        }
      ],
      "source": [
        "chatelet_df = chatelet_df.reset_index()\n",
        "chatelet_df"
      ]
    },
    {
      "cell_type": "code",
      "execution_count": null,
      "id": "7b06414b",
      "metadata": {
        "id": "7b06414b"
      },
      "outputs": [],
      "source": [
        "chatelet_df['date'] = pd.to_datetime(chatelet_df['DATE/HEURE'], errors='coerce').dt.date\n",
        "chatelet_df['time'] = pd.to_datetime(chatelet_df['DATE/HEURE'], errors='coerce').dt.time"
      ]
    },
    {
      "cell_type": "code",
      "execution_count": null,
      "id": "37a979f0",
      "metadata": {
        "id": "37a979f0"
      },
      "outputs": [],
      "source": []
    },
    {
      "cell_type": "code",
      "execution_count": null,
      "id": "84445eec",
      "metadata": {
        "id": "84445eec",
        "outputId": "fb0e2bc4-562a-48a8-8840-00e575bf611d"
      },
      "outputs": [
        {
          "data": {
            "text/plain": [
              "DATE/HEURE    datetime64[ns, UTC]\n",
              "NO                        float64\n",
              "NO2                       float64\n",
              "PM10                      float64\n",
              "CO2                       float64\n",
              "TEMP                      float64\n",
              "HUMI                      float64\n",
              "date                       object\n",
              "time                       object\n",
              "year                        int64\n",
              "dtype: object"
            ]
          },
          "execution_count": 60,
          "metadata": {},
          "output_type": "execute_result"
        }
      ],
      "source": [
        "chatelet_df.dtypes"
      ]
    },
    {
      "cell_type": "code",
      "execution_count": null,
      "id": "47e5ec95",
      "metadata": {
        "id": "47e5ec95"
      },
      "outputs": [],
      "source": [
        "chatelet_df['year'] = pd.to_datetime(chatelet_df['date']).dt.year"
      ]
    },
    {
      "cell_type": "code",
      "execution_count": null,
      "id": "d25d7a00",
      "metadata": {
        "scrolled": false,
        "id": "d25d7a00",
        "outputId": "cf2b7a0d-ca76-4990-8303-ccccb390d83e"
      },
      "outputs": [
        {
          "data": {
            "text/html": [
              "<div>\n",
              "<style scoped>\n",
              "    .dataframe tbody tr th:only-of-type {\n",
              "        vertical-align: middle;\n",
              "    }\n",
              "\n",
              "    .dataframe tbody tr th {\n",
              "        vertical-align: top;\n",
              "    }\n",
              "\n",
              "    .dataframe thead th {\n",
              "        text-align: right;\n",
              "    }\n",
              "</style>\n",
              "<table border=\"1\" class=\"dataframe\">\n",
              "  <thead>\n",
              "    <tr style=\"text-align: right;\">\n",
              "      <th></th>\n",
              "      <th>DATE/HEURE</th>\n",
              "      <th>NO</th>\n",
              "      <th>NO2</th>\n",
              "      <th>PM10</th>\n",
              "      <th>CO2</th>\n",
              "      <th>TEMP</th>\n",
              "      <th>HUMI</th>\n",
              "      <th>date</th>\n",
              "      <th>time</th>\n",
              "      <th>year</th>\n",
              "    </tr>\n",
              "  </thead>\n",
              "  <tbody>\n",
              "    <tr>\n",
              "      <th>0</th>\n",
              "      <td>2022-10-10 00:00:00+00:00</td>\n",
              "      <td>5.0</td>\n",
              "      <td>7.0</td>\n",
              "      <td>43.0</td>\n",
              "      <td>508.0</td>\n",
              "      <td>18.2</td>\n",
              "      <td>49.1</td>\n",
              "      <td>2022-10-10</td>\n",
              "      <td>00:00:00</td>\n",
              "      <td>2022</td>\n",
              "    </tr>\n",
              "    <tr>\n",
              "      <th>1</th>\n",
              "      <td>2022-10-09 23:00:00+00:00</td>\n",
              "      <td>5.0</td>\n",
              "      <td>7.0</td>\n",
              "      <td>45.0</td>\n",
              "      <td>529.0</td>\n",
              "      <td>18.5</td>\n",
              "      <td>48.4</td>\n",
              "      <td>2022-10-09</td>\n",
              "      <td>23:00:00</td>\n",
              "      <td>2022</td>\n",
              "    </tr>\n",
              "    <tr>\n",
              "      <th>2</th>\n",
              "      <td>2022-10-09 22:00:00+00:00</td>\n",
              "      <td>5.0</td>\n",
              "      <td>7.0</td>\n",
              "      <td>42.0</td>\n",
              "      <td>547.0</td>\n",
              "      <td>18.8</td>\n",
              "      <td>47.1</td>\n",
              "      <td>2022-10-09</td>\n",
              "      <td>22:00:00</td>\n",
              "      <td>2022</td>\n",
              "    </tr>\n",
              "    <tr>\n",
              "      <th>3</th>\n",
              "      <td>2022-10-09 21:00:00+00:00</td>\n",
              "      <td>5.0</td>\n",
              "      <td>7.0</td>\n",
              "      <td>59.0</td>\n",
              "      <td>614.0</td>\n",
              "      <td>19.1</td>\n",
              "      <td>47.2</td>\n",
              "      <td>2022-10-09</td>\n",
              "      <td>21:00:00</td>\n",
              "      <td>2022</td>\n",
              "    </tr>\n",
              "    <tr>\n",
              "      <th>4</th>\n",
              "      <td>2022-10-09 20:00:00+00:00</td>\n",
              "      <td>5.0</td>\n",
              "      <td>7.0</td>\n",
              "      <td>65.0</td>\n",
              "      <td>637.0</td>\n",
              "      <td>19.4</td>\n",
              "      <td>46.3</td>\n",
              "      <td>2022-10-09</td>\n",
              "      <td>20:00:00</td>\n",
              "      <td>2022</td>\n",
              "    </tr>\n",
              "    <tr>\n",
              "      <th>...</th>\n",
              "      <td>...</td>\n",
              "      <td>...</td>\n",
              "      <td>...</td>\n",
              "      <td>...</td>\n",
              "      <td>...</td>\n",
              "      <td>...</td>\n",
              "      <td>...</td>\n",
              "      <td>...</td>\n",
              "      <td>...</td>\n",
              "      <td>...</td>\n",
              "    </tr>\n",
              "    <tr>\n",
              "      <th>74945</th>\n",
              "      <td>2013-01-01 05:00:00+00:00</td>\n",
              "      <td>4.0</td>\n",
              "      <td>26.0</td>\n",
              "      <td>102.0</td>\n",
              "      <td>622.0</td>\n",
              "      <td>21.2</td>\n",
              "      <td>45.9</td>\n",
              "      <td>2013-01-01</td>\n",
              "      <td>05:00:00</td>\n",
              "      <td>2013</td>\n",
              "    </tr>\n",
              "    <tr>\n",
              "      <th>74946</th>\n",
              "      <td>2013-01-01 04:00:00+00:00</td>\n",
              "      <td>3.0</td>\n",
              "      <td>25.0</td>\n",
              "      <td>85.0</td>\n",
              "      <td>715.0</td>\n",
              "      <td>21.6</td>\n",
              "      <td>45.8</td>\n",
              "      <td>2013-01-01</td>\n",
              "      <td>04:00:00</td>\n",
              "      <td>2013</td>\n",
              "    </tr>\n",
              "    <tr>\n",
              "      <th>74947</th>\n",
              "      <td>2013-01-01 03:00:00+00:00</td>\n",
              "      <td>4.0</td>\n",
              "      <td>27.0</td>\n",
              "      <td>124.0</td>\n",
              "      <td>799.0</td>\n",
              "      <td>21.8</td>\n",
              "      <td>47.0</td>\n",
              "      <td>2013-01-01</td>\n",
              "      <td>03:00:00</td>\n",
              "      <td>2013</td>\n",
              "    </tr>\n",
              "    <tr>\n",
              "      <th>74948</th>\n",
              "      <td>2013-01-01 02:00:00+00:00</td>\n",
              "      <td>6.0</td>\n",
              "      <td>30.0</td>\n",
              "      <td>166.0</td>\n",
              "      <td>800.0</td>\n",
              "      <td>21.6</td>\n",
              "      <td>47.3</td>\n",
              "      <td>2013-01-01</td>\n",
              "      <td>02:00:00</td>\n",
              "      <td>2013</td>\n",
              "    </tr>\n",
              "    <tr>\n",
              "      <th>74949</th>\n",
              "      <td>2013-01-01 01:00:00+00:00</td>\n",
              "      <td>6.0</td>\n",
              "      <td>31.0</td>\n",
              "      <td>182.0</td>\n",
              "      <td>776.0</td>\n",
              "      <td>21.5</td>\n",
              "      <td>46.2</td>\n",
              "      <td>2013-01-01</td>\n",
              "      <td>01:00:00</td>\n",
              "      <td>2013</td>\n",
              "    </tr>\n",
              "  </tbody>\n",
              "</table>\n",
              "<p>74950 rows × 10 columns</p>\n",
              "</div>"
            ],
            "text/plain": [
              "                     DATE/HEURE   NO   NO2   PM10    CO2  TEMP  HUMI  \\\n",
              "0     2022-10-10 00:00:00+00:00  5.0   7.0   43.0  508.0  18.2  49.1   \n",
              "1     2022-10-09 23:00:00+00:00  5.0   7.0   45.0  529.0  18.5  48.4   \n",
              "2     2022-10-09 22:00:00+00:00  5.0   7.0   42.0  547.0  18.8  47.1   \n",
              "3     2022-10-09 21:00:00+00:00  5.0   7.0   59.0  614.0  19.1  47.2   \n",
              "4     2022-10-09 20:00:00+00:00  5.0   7.0   65.0  637.0  19.4  46.3   \n",
              "...                         ...  ...   ...    ...    ...   ...   ...   \n",
              "74945 2013-01-01 05:00:00+00:00  4.0  26.0  102.0  622.0  21.2  45.9   \n",
              "74946 2013-01-01 04:00:00+00:00  3.0  25.0   85.0  715.0  21.6  45.8   \n",
              "74947 2013-01-01 03:00:00+00:00  4.0  27.0  124.0  799.0  21.8  47.0   \n",
              "74948 2013-01-01 02:00:00+00:00  6.0  30.0  166.0  800.0  21.6  47.3   \n",
              "74949 2013-01-01 01:00:00+00:00  6.0  31.0  182.0  776.0  21.5  46.2   \n",
              "\n",
              "             date      time  year  \n",
              "0      2022-10-10  00:00:00  2022  \n",
              "1      2022-10-09  23:00:00  2022  \n",
              "2      2022-10-09  22:00:00  2022  \n",
              "3      2022-10-09  21:00:00  2022  \n",
              "4      2022-10-09  20:00:00  2022  \n",
              "...           ...       ...   ...  \n",
              "74945  2013-01-01  05:00:00  2013  \n",
              "74946  2013-01-01  04:00:00  2013  \n",
              "74947  2013-01-01  03:00:00  2013  \n",
              "74948  2013-01-01  02:00:00  2013  \n",
              "74949  2013-01-01  01:00:00  2013  \n",
              "\n",
              "[74950 rows x 10 columns]"
            ]
          },
          "execution_count": 76,
          "metadata": {},
          "output_type": "execute_result"
        }
      ],
      "source": [
        "chatelet_df"
      ]
    },
    {
      "cell_type": "code",
      "execution_count": null,
      "id": "cd45f99c",
      "metadata": {
        "id": "cd45f99c",
        "outputId": "c053bd40-0484-4028-b9e3-214df10da2e2"
      },
      "outputs": [
        {
          "data": {
            "text/html": [
              "<div>\n",
              "<style scoped>\n",
              "    .dataframe tbody tr th:only-of-type {\n",
              "        vertical-align: middle;\n",
              "    }\n",
              "\n",
              "    .dataframe tbody tr th {\n",
              "        vertical-align: top;\n",
              "    }\n",
              "\n",
              "    .dataframe thead th {\n",
              "        text-align: right;\n",
              "    }\n",
              "</style>\n",
              "<table border=\"1\" class=\"dataframe\">\n",
              "  <thead>\n",
              "    <tr style=\"text-align: right;\">\n",
              "      <th></th>\n",
              "      <th>DATE/HEURE</th>\n",
              "      <th>NO</th>\n",
              "      <th>NO2</th>\n",
              "      <th>PM10</th>\n",
              "      <th>CO2</th>\n",
              "      <th>TEMP</th>\n",
              "      <th>HUMI</th>\n",
              "      <th>date</th>\n",
              "      <th>time</th>\n",
              "    </tr>\n",
              "    <tr>\n",
              "      <th>year</th>\n",
              "      <th></th>\n",
              "      <th></th>\n",
              "      <th></th>\n",
              "      <th></th>\n",
              "      <th></th>\n",
              "      <th></th>\n",
              "      <th></th>\n",
              "      <th></th>\n",
              "      <th></th>\n",
              "    </tr>\n",
              "  </thead>\n",
              "  <tbody>\n",
              "    <tr>\n",
              "      <th>2013</th>\n",
              "      <td>8699</td>\n",
              "      <td>8699</td>\n",
              "      <td>8699</td>\n",
              "      <td>8699</td>\n",
              "      <td>8699</td>\n",
              "      <td>8699</td>\n",
              "      <td>8699</td>\n",
              "      <td>8699</td>\n",
              "      <td>8699</td>\n",
              "    </tr>\n",
              "    <tr>\n",
              "      <th>2014</th>\n",
              "      <td>8747</td>\n",
              "      <td>8747</td>\n",
              "      <td>8747</td>\n",
              "      <td>8747</td>\n",
              "      <td>8747</td>\n",
              "      <td>8747</td>\n",
              "      <td>8747</td>\n",
              "      <td>8747</td>\n",
              "      <td>8747</td>\n",
              "    </tr>\n",
              "    <tr>\n",
              "      <th>2015</th>\n",
              "      <td>8620</td>\n",
              "      <td>8620</td>\n",
              "      <td>8620</td>\n",
              "      <td>8620</td>\n",
              "      <td>8620</td>\n",
              "      <td>8620</td>\n",
              "      <td>8620</td>\n",
              "      <td>8620</td>\n",
              "      <td>8620</td>\n",
              "    </tr>\n",
              "    <tr>\n",
              "      <th>2016</th>\n",
              "      <td>7410</td>\n",
              "      <td>7410</td>\n",
              "      <td>7410</td>\n",
              "      <td>7410</td>\n",
              "      <td>7410</td>\n",
              "      <td>7410</td>\n",
              "      <td>7410</td>\n",
              "      <td>7410</td>\n",
              "      <td>7410</td>\n",
              "    </tr>\n",
              "    <tr>\n",
              "      <th>2017</th>\n",
              "      <td>7837</td>\n",
              "      <td>7837</td>\n",
              "      <td>7837</td>\n",
              "      <td>7837</td>\n",
              "      <td>7837</td>\n",
              "      <td>7837</td>\n",
              "      <td>7837</td>\n",
              "      <td>7837</td>\n",
              "      <td>7837</td>\n",
              "    </tr>\n",
              "    <tr>\n",
              "      <th>2018</th>\n",
              "      <td>945</td>\n",
              "      <td>945</td>\n",
              "      <td>945</td>\n",
              "      <td>945</td>\n",
              "      <td>945</td>\n",
              "      <td>945</td>\n",
              "      <td>945</td>\n",
              "      <td>945</td>\n",
              "      <td>945</td>\n",
              "    </tr>\n",
              "    <tr>\n",
              "      <th>2019</th>\n",
              "      <td>8672</td>\n",
              "      <td>8672</td>\n",
              "      <td>8672</td>\n",
              "      <td>8672</td>\n",
              "      <td>8672</td>\n",
              "      <td>8672</td>\n",
              "      <td>8672</td>\n",
              "      <td>8672</td>\n",
              "      <td>8672</td>\n",
              "    </tr>\n",
              "    <tr>\n",
              "      <th>2020</th>\n",
              "      <td>8777</td>\n",
              "      <td>8777</td>\n",
              "      <td>8777</td>\n",
              "      <td>8777</td>\n",
              "      <td>8777</td>\n",
              "      <td>8777</td>\n",
              "      <td>8777</td>\n",
              "      <td>8777</td>\n",
              "      <td>8777</td>\n",
              "    </tr>\n",
              "    <tr>\n",
              "      <th>2021</th>\n",
              "      <td>8550</td>\n",
              "      <td>8550</td>\n",
              "      <td>8550</td>\n",
              "      <td>8550</td>\n",
              "      <td>8550</td>\n",
              "      <td>8550</td>\n",
              "      <td>8550</td>\n",
              "      <td>8550</td>\n",
              "      <td>8550</td>\n",
              "    </tr>\n",
              "    <tr>\n",
              "      <th>2022</th>\n",
              "      <td>6693</td>\n",
              "      <td>6693</td>\n",
              "      <td>6693</td>\n",
              "      <td>6693</td>\n",
              "      <td>6693</td>\n",
              "      <td>6693</td>\n",
              "      <td>6693</td>\n",
              "      <td>6693</td>\n",
              "      <td>6693</td>\n",
              "    </tr>\n",
              "  </tbody>\n",
              "</table>\n",
              "</div>"
            ],
            "text/plain": [
              "      DATE/HEURE    NO   NO2  PM10   CO2  TEMP  HUMI  date  time\n",
              "year                                                            \n",
              "2013        8699  8699  8699  8699  8699  8699  8699  8699  8699\n",
              "2014        8747  8747  8747  8747  8747  8747  8747  8747  8747\n",
              "2015        8620  8620  8620  8620  8620  8620  8620  8620  8620\n",
              "2016        7410  7410  7410  7410  7410  7410  7410  7410  7410\n",
              "2017        7837  7837  7837  7837  7837  7837  7837  7837  7837\n",
              "2018         945   945   945   945   945   945   945   945   945\n",
              "2019        8672  8672  8672  8672  8672  8672  8672  8672  8672\n",
              "2020        8777  8777  8777  8777  8777  8777  8777  8777  8777\n",
              "2021        8550  8550  8550  8550  8550  8550  8550  8550  8550\n",
              "2022        6693  6693  6693  6693  6693  6693  6693  6693  6693"
            ]
          },
          "execution_count": 77,
          "metadata": {},
          "output_type": "execute_result"
        }
      ],
      "source": [
        "chatelet_df.groupby(['year']).count()"
      ]
    },
    {
      "cell_type": "code",
      "execution_count": null,
      "id": "b55d993b",
      "metadata": {
        "scrolled": true,
        "id": "b55d993b",
        "outputId": "51339e25-7f9f-49f1-a653-53d28f35b0b2"
      },
      "outputs": [
        {
          "data": {
            "text/html": [
              "<div>\n",
              "<style scoped>\n",
              "    .dataframe tbody tr th:only-of-type {\n",
              "        vertical-align: middle;\n",
              "    }\n",
              "\n",
              "    .dataframe tbody tr th {\n",
              "        vertical-align: top;\n",
              "    }\n",
              "\n",
              "    .dataframe thead th {\n",
              "        text-align: right;\n",
              "    }\n",
              "</style>\n",
              "<table border=\"1\" class=\"dataframe\">\n",
              "  <thead>\n",
              "    <tr style=\"text-align: right;\">\n",
              "      <th></th>\n",
              "      <th>DATE/HEURE</th>\n",
              "      <th>NO</th>\n",
              "      <th>NO2</th>\n",
              "      <th>PM10</th>\n",
              "      <th>CO2</th>\n",
              "      <th>TEMP</th>\n",
              "      <th>HUMI</th>\n",
              "      <th>date</th>\n",
              "      <th>time</th>\n",
              "      <th>year</th>\n",
              "      <th>hour</th>\n",
              "    </tr>\n",
              "  </thead>\n",
              "  <tbody>\n",
              "    <tr>\n",
              "      <th>0</th>\n",
              "      <td>2022-10-10 00:00:00+00:00</td>\n",
              "      <td>5.0</td>\n",
              "      <td>7.0</td>\n",
              "      <td>43.0</td>\n",
              "      <td>508.0</td>\n",
              "      <td>18.2</td>\n",
              "      <td>49.1</td>\n",
              "      <td>2022-10-10</td>\n",
              "      <td>00:00:00</td>\n",
              "      <td>2022</td>\n",
              "      <td>0</td>\n",
              "    </tr>\n",
              "    <tr>\n",
              "      <th>1</th>\n",
              "      <td>2022-10-09 23:00:00+00:00</td>\n",
              "      <td>5.0</td>\n",
              "      <td>7.0</td>\n",
              "      <td>45.0</td>\n",
              "      <td>529.0</td>\n",
              "      <td>18.5</td>\n",
              "      <td>48.4</td>\n",
              "      <td>2022-10-09</td>\n",
              "      <td>23:00:00</td>\n",
              "      <td>2022</td>\n",
              "      <td>23</td>\n",
              "    </tr>\n",
              "    <tr>\n",
              "      <th>2</th>\n",
              "      <td>2022-10-09 22:00:00+00:00</td>\n",
              "      <td>5.0</td>\n",
              "      <td>7.0</td>\n",
              "      <td>42.0</td>\n",
              "      <td>547.0</td>\n",
              "      <td>18.8</td>\n",
              "      <td>47.1</td>\n",
              "      <td>2022-10-09</td>\n",
              "      <td>22:00:00</td>\n",
              "      <td>2022</td>\n",
              "      <td>22</td>\n",
              "    </tr>\n",
              "    <tr>\n",
              "      <th>3</th>\n",
              "      <td>2022-10-09 21:00:00+00:00</td>\n",
              "      <td>5.0</td>\n",
              "      <td>7.0</td>\n",
              "      <td>59.0</td>\n",
              "      <td>614.0</td>\n",
              "      <td>19.1</td>\n",
              "      <td>47.2</td>\n",
              "      <td>2022-10-09</td>\n",
              "      <td>21:00:00</td>\n",
              "      <td>2022</td>\n",
              "      <td>21</td>\n",
              "    </tr>\n",
              "    <tr>\n",
              "      <th>4</th>\n",
              "      <td>2022-10-09 20:00:00+00:00</td>\n",
              "      <td>5.0</td>\n",
              "      <td>7.0</td>\n",
              "      <td>65.0</td>\n",
              "      <td>637.0</td>\n",
              "      <td>19.4</td>\n",
              "      <td>46.3</td>\n",
              "      <td>2022-10-09</td>\n",
              "      <td>20:00:00</td>\n",
              "      <td>2022</td>\n",
              "      <td>20</td>\n",
              "    </tr>\n",
              "    <tr>\n",
              "      <th>...</th>\n",
              "      <td>...</td>\n",
              "      <td>...</td>\n",
              "      <td>...</td>\n",
              "      <td>...</td>\n",
              "      <td>...</td>\n",
              "      <td>...</td>\n",
              "      <td>...</td>\n",
              "      <td>...</td>\n",
              "      <td>...</td>\n",
              "      <td>...</td>\n",
              "      <td>...</td>\n",
              "    </tr>\n",
              "    <tr>\n",
              "      <th>74945</th>\n",
              "      <td>2013-01-01 05:00:00+00:00</td>\n",
              "      <td>4.0</td>\n",
              "      <td>26.0</td>\n",
              "      <td>102.0</td>\n",
              "      <td>622.0</td>\n",
              "      <td>21.2</td>\n",
              "      <td>45.9</td>\n",
              "      <td>2013-01-01</td>\n",
              "      <td>05:00:00</td>\n",
              "      <td>2013</td>\n",
              "      <td>5</td>\n",
              "    </tr>\n",
              "    <tr>\n",
              "      <th>74946</th>\n",
              "      <td>2013-01-01 04:00:00+00:00</td>\n",
              "      <td>3.0</td>\n",
              "      <td>25.0</td>\n",
              "      <td>85.0</td>\n",
              "      <td>715.0</td>\n",
              "      <td>21.6</td>\n",
              "      <td>45.8</td>\n",
              "      <td>2013-01-01</td>\n",
              "      <td>04:00:00</td>\n",
              "      <td>2013</td>\n",
              "      <td>4</td>\n",
              "    </tr>\n",
              "    <tr>\n",
              "      <th>74947</th>\n",
              "      <td>2013-01-01 03:00:00+00:00</td>\n",
              "      <td>4.0</td>\n",
              "      <td>27.0</td>\n",
              "      <td>124.0</td>\n",
              "      <td>799.0</td>\n",
              "      <td>21.8</td>\n",
              "      <td>47.0</td>\n",
              "      <td>2013-01-01</td>\n",
              "      <td>03:00:00</td>\n",
              "      <td>2013</td>\n",
              "      <td>3</td>\n",
              "    </tr>\n",
              "    <tr>\n",
              "      <th>74948</th>\n",
              "      <td>2013-01-01 02:00:00+00:00</td>\n",
              "      <td>6.0</td>\n",
              "      <td>30.0</td>\n",
              "      <td>166.0</td>\n",
              "      <td>800.0</td>\n",
              "      <td>21.6</td>\n",
              "      <td>47.3</td>\n",
              "      <td>2013-01-01</td>\n",
              "      <td>02:00:00</td>\n",
              "      <td>2013</td>\n",
              "      <td>2</td>\n",
              "    </tr>\n",
              "    <tr>\n",
              "      <th>74949</th>\n",
              "      <td>2013-01-01 01:00:00+00:00</td>\n",
              "      <td>6.0</td>\n",
              "      <td>31.0</td>\n",
              "      <td>182.0</td>\n",
              "      <td>776.0</td>\n",
              "      <td>21.5</td>\n",
              "      <td>46.2</td>\n",
              "      <td>2013-01-01</td>\n",
              "      <td>01:00:00</td>\n",
              "      <td>2013</td>\n",
              "      <td>1</td>\n",
              "    </tr>\n",
              "  </tbody>\n",
              "</table>\n",
              "<p>74950 rows × 11 columns</p>\n",
              "</div>"
            ],
            "text/plain": [
              "                     DATE/HEURE   NO   NO2   PM10    CO2  TEMP  HUMI  \\\n",
              "0     2022-10-10 00:00:00+00:00  5.0   7.0   43.0  508.0  18.2  49.1   \n",
              "1     2022-10-09 23:00:00+00:00  5.0   7.0   45.0  529.0  18.5  48.4   \n",
              "2     2022-10-09 22:00:00+00:00  5.0   7.0   42.0  547.0  18.8  47.1   \n",
              "3     2022-10-09 21:00:00+00:00  5.0   7.0   59.0  614.0  19.1  47.2   \n",
              "4     2022-10-09 20:00:00+00:00  5.0   7.0   65.0  637.0  19.4  46.3   \n",
              "...                         ...  ...   ...    ...    ...   ...   ...   \n",
              "74945 2013-01-01 05:00:00+00:00  4.0  26.0  102.0  622.0  21.2  45.9   \n",
              "74946 2013-01-01 04:00:00+00:00  3.0  25.0   85.0  715.0  21.6  45.8   \n",
              "74947 2013-01-01 03:00:00+00:00  4.0  27.0  124.0  799.0  21.8  47.0   \n",
              "74948 2013-01-01 02:00:00+00:00  6.0  30.0  166.0  800.0  21.6  47.3   \n",
              "74949 2013-01-01 01:00:00+00:00  6.0  31.0  182.0  776.0  21.5  46.2   \n",
              "\n",
              "             date      time  year  hour  \n",
              "0      2022-10-10  00:00:00  2022     0  \n",
              "1      2022-10-09  23:00:00  2022    23  \n",
              "2      2022-10-09  22:00:00  2022    22  \n",
              "3      2022-10-09  21:00:00  2022    21  \n",
              "4      2022-10-09  20:00:00  2022    20  \n",
              "...           ...       ...   ...   ...  \n",
              "74945  2013-01-01  05:00:00  2013     5  \n",
              "74946  2013-01-01  04:00:00  2013     4  \n",
              "74947  2013-01-01  03:00:00  2013     3  \n",
              "74948  2013-01-01  02:00:00  2013     2  \n",
              "74949  2013-01-01  01:00:00  2013     1  \n",
              "\n",
              "[74950 rows x 11 columns]"
            ]
          },
          "execution_count": 71,
          "metadata": {},
          "output_type": "execute_result"
        }
      ],
      "source": [
        "chatelet_df"
      ]
    },
    {
      "cell_type": "code",
      "execution_count": null,
      "id": "b9cc2583",
      "metadata": {
        "id": "b9cc2583"
      },
      "outputs": [],
      "source": [
        "grouped_df=chatelet_df[chatelet_df['year'] < 2016]"
      ]
    },
    {
      "cell_type": "code",
      "execution_count": null,
      "id": "fe9f52ec",
      "metadata": {
        "id": "fe9f52ec"
      },
      "outputs": [],
      "source": [
        "grouped_df=grouped_df[grouped_df['year'] > 2013]"
      ]
    },
    {
      "cell_type": "code",
      "execution_count": null,
      "id": "5d3b38b2",
      "metadata": {
        "scrolled": false,
        "id": "5d3b38b2",
        "outputId": "ee15db8a-4c7e-4022-b79a-a7daf6026d6e"
      },
      "outputs": [
        {
          "data": {
            "text/html": [
              "<div>\n",
              "<style scoped>\n",
              "    .dataframe tbody tr th:only-of-type {\n",
              "        vertical-align: middle;\n",
              "    }\n",
              "\n",
              "    .dataframe tbody tr th {\n",
              "        vertical-align: top;\n",
              "    }\n",
              "\n",
              "    .dataframe thead th {\n",
              "        text-align: right;\n",
              "    }\n",
              "</style>\n",
              "<table border=\"1\" class=\"dataframe\">\n",
              "  <thead>\n",
              "    <tr style=\"text-align: right;\">\n",
              "      <th></th>\n",
              "      <th>DATE/HEURE</th>\n",
              "      <th>NO</th>\n",
              "      <th>NO2</th>\n",
              "      <th>PM10</th>\n",
              "      <th>CO2</th>\n",
              "      <th>TEMP</th>\n",
              "      <th>HUMI</th>\n",
              "      <th>date</th>\n",
              "      <th>time</th>\n",
              "      <th>year</th>\n",
              "      <th>hour</th>\n",
              "    </tr>\n",
              "  </thead>\n",
              "  <tbody>\n",
              "    <tr>\n",
              "      <th>48884</th>\n",
              "      <td>2015-12-31 23:00:00+00:00</td>\n",
              "      <td>32.0</td>\n",
              "      <td>37.0</td>\n",
              "      <td>139.0</td>\n",
              "      <td>649.0</td>\n",
              "      <td>23.1</td>\n",
              "      <td>36.1</td>\n",
              "      <td>2015-12-31</td>\n",
              "      <td>23:00:00</td>\n",
              "      <td>2015</td>\n",
              "      <td>23</td>\n",
              "    </tr>\n",
              "    <tr>\n",
              "      <th>48885</th>\n",
              "      <td>2015-12-31 22:00:00+00:00</td>\n",
              "      <td>30.0</td>\n",
              "      <td>33.0</td>\n",
              "      <td>137.0</td>\n",
              "      <td>639.0</td>\n",
              "      <td>23.0</td>\n",
              "      <td>36.2</td>\n",
              "      <td>2015-12-31</td>\n",
              "      <td>22:00:00</td>\n",
              "      <td>2015</td>\n",
              "      <td>22</td>\n",
              "    </tr>\n",
              "    <tr>\n",
              "      <th>48886</th>\n",
              "      <td>2015-12-31 21:00:00+00:00</td>\n",
              "      <td>33.0</td>\n",
              "      <td>41.0</td>\n",
              "      <td>147.0</td>\n",
              "      <td>633.0</td>\n",
              "      <td>23.1</td>\n",
              "      <td>35.2</td>\n",
              "      <td>2015-12-31</td>\n",
              "      <td>21:00:00</td>\n",
              "      <td>2015</td>\n",
              "      <td>21</td>\n",
              "    </tr>\n",
              "    <tr>\n",
              "      <th>48887</th>\n",
              "      <td>2015-12-31 20:00:00+00:00</td>\n",
              "      <td>45.0</td>\n",
              "      <td>41.0</td>\n",
              "      <td>176.0</td>\n",
              "      <td>676.0</td>\n",
              "      <td>23.1</td>\n",
              "      <td>35.9</td>\n",
              "      <td>2015-12-31</td>\n",
              "      <td>20:00:00</td>\n",
              "      <td>2015</td>\n",
              "      <td>20</td>\n",
              "    </tr>\n",
              "    <tr>\n",
              "      <th>48888</th>\n",
              "      <td>2015-12-31 19:00:00+00:00</td>\n",
              "      <td>50.0</td>\n",
              "      <td>44.0</td>\n",
              "      <td>191.0</td>\n",
              "      <td>724.0</td>\n",
              "      <td>23.1</td>\n",
              "      <td>36.5</td>\n",
              "      <td>2015-12-31</td>\n",
              "      <td>19:00:00</td>\n",
              "      <td>2015</td>\n",
              "      <td>19</td>\n",
              "    </tr>\n",
              "    <tr>\n",
              "      <th>...</th>\n",
              "      <td>...</td>\n",
              "      <td>...</td>\n",
              "      <td>...</td>\n",
              "      <td>...</td>\n",
              "      <td>...</td>\n",
              "      <td>...</td>\n",
              "      <td>...</td>\n",
              "      <td>...</td>\n",
              "      <td>...</td>\n",
              "      <td>...</td>\n",
              "      <td>...</td>\n",
              "    </tr>\n",
              "    <tr>\n",
              "      <th>66246</th>\n",
              "      <td>2014-01-01 04:00:00+00:00</td>\n",
              "      <td>4.0</td>\n",
              "      <td>29.0</td>\n",
              "      <td>71.0</td>\n",
              "      <td>664.0</td>\n",
              "      <td>19.8</td>\n",
              "      <td>45.3</td>\n",
              "      <td>2014-01-01</td>\n",
              "      <td>04:00:00</td>\n",
              "      <td>2014</td>\n",
              "      <td>4</td>\n",
              "    </tr>\n",
              "    <tr>\n",
              "      <th>66247</th>\n",
              "      <td>2014-01-01 03:00:00+00:00</td>\n",
              "      <td>4.0</td>\n",
              "      <td>28.0</td>\n",
              "      <td>81.0</td>\n",
              "      <td>775.0</td>\n",
              "      <td>20.1</td>\n",
              "      <td>46.5</td>\n",
              "      <td>2014-01-01</td>\n",
              "      <td>03:00:00</td>\n",
              "      <td>2014</td>\n",
              "      <td>3</td>\n",
              "    </tr>\n",
              "    <tr>\n",
              "      <th>66248</th>\n",
              "      <td>2014-01-01 02:00:00+00:00</td>\n",
              "      <td>4.0</td>\n",
              "      <td>28.0</td>\n",
              "      <td>89.0</td>\n",
              "      <td>738.0</td>\n",
              "      <td>20.0</td>\n",
              "      <td>46.9</td>\n",
              "      <td>2014-01-01</td>\n",
              "      <td>02:00:00</td>\n",
              "      <td>2014</td>\n",
              "      <td>2</td>\n",
              "    </tr>\n",
              "    <tr>\n",
              "      <th>66249</th>\n",
              "      <td>2014-01-01 01:00:00+00:00</td>\n",
              "      <td>4.0</td>\n",
              "      <td>29.0</td>\n",
              "      <td>101.0</td>\n",
              "      <td>635.0</td>\n",
              "      <td>19.9</td>\n",
              "      <td>46.3</td>\n",
              "      <td>2014-01-01</td>\n",
              "      <td>01:00:00</td>\n",
              "      <td>2014</td>\n",
              "      <td>1</td>\n",
              "    </tr>\n",
              "    <tr>\n",
              "      <th>66250</th>\n",
              "      <td>2014-01-01 00:00:00+00:00</td>\n",
              "      <td>4.0</td>\n",
              "      <td>32.0</td>\n",
              "      <td>102.0</td>\n",
              "      <td>586.0</td>\n",
              "      <td>19.7</td>\n",
              "      <td>45.6</td>\n",
              "      <td>2014-01-01</td>\n",
              "      <td>00:00:00</td>\n",
              "      <td>2014</td>\n",
              "      <td>0</td>\n",
              "    </tr>\n",
              "  </tbody>\n",
              "</table>\n",
              "<p>17367 rows × 11 columns</p>\n",
              "</div>"
            ],
            "text/plain": [
              "                     DATE/HEURE    NO   NO2   PM10    CO2  TEMP  HUMI  \\\n",
              "48884 2015-12-31 23:00:00+00:00  32.0  37.0  139.0  649.0  23.1  36.1   \n",
              "48885 2015-12-31 22:00:00+00:00  30.0  33.0  137.0  639.0  23.0  36.2   \n",
              "48886 2015-12-31 21:00:00+00:00  33.0  41.0  147.0  633.0  23.1  35.2   \n",
              "48887 2015-12-31 20:00:00+00:00  45.0  41.0  176.0  676.0  23.1  35.9   \n",
              "48888 2015-12-31 19:00:00+00:00  50.0  44.0  191.0  724.0  23.1  36.5   \n",
              "...                         ...   ...   ...    ...    ...   ...   ...   \n",
              "66246 2014-01-01 04:00:00+00:00   4.0  29.0   71.0  664.0  19.8  45.3   \n",
              "66247 2014-01-01 03:00:00+00:00   4.0  28.0   81.0  775.0  20.1  46.5   \n",
              "66248 2014-01-01 02:00:00+00:00   4.0  28.0   89.0  738.0  20.0  46.9   \n",
              "66249 2014-01-01 01:00:00+00:00   4.0  29.0  101.0  635.0  19.9  46.3   \n",
              "66250 2014-01-01 00:00:00+00:00   4.0  32.0  102.0  586.0  19.7  45.6   \n",
              "\n",
              "             date      time  year  hour  \n",
              "48884  2015-12-31  23:00:00  2015    23  \n",
              "48885  2015-12-31  22:00:00  2015    22  \n",
              "48886  2015-12-31  21:00:00  2015    21  \n",
              "48887  2015-12-31  20:00:00  2015    20  \n",
              "48888  2015-12-31  19:00:00  2015    19  \n",
              "...           ...       ...   ...   ...  \n",
              "66246  2014-01-01  04:00:00  2014     4  \n",
              "66247  2014-01-01  03:00:00  2014     3  \n",
              "66248  2014-01-01  02:00:00  2014     2  \n",
              "66249  2014-01-01  01:00:00  2014     1  \n",
              "66250  2014-01-01  00:00:00  2014     0  \n",
              "\n",
              "[17367 rows x 11 columns]"
            ]
          },
          "execution_count": 82,
          "metadata": {},
          "output_type": "execute_result"
        }
      ],
      "source": [
        "grouped_df"
      ]
    },
    {
      "cell_type": "code",
      "execution_count": null,
      "id": "bb5bb727",
      "metadata": {
        "id": "bb5bb727"
      },
      "outputs": [],
      "source": [
        "#Predicting "
      ]
    },
    {
      "cell_type": "code",
      "execution_count": null,
      "id": "5ae2529b",
      "metadata": {
        "id": "5ae2529b",
        "outputId": "c60baf60-c37c-4787-e764-f06cb3ac8ce8"
      },
      "outputs": [
        {
          "data": {
            "text/plain": [
              "<AxesSubplot:>"
            ]
          },
          "execution_count": 140,
          "metadata": {},
          "output_type": "execute_result"
        },
        {
          "data": {
            "image/png": "[encoded data removed]",
            "text/plain": [
              "<Figure size 576x396 with 2 Axes>"
            ]
          },
          "metadata": {},
          "output_type": "display_data"
        }
      ],
      "source": [
        "sns.heatmap(grouped_df[['hour', 'TEMP', 'HUMI', 'CO2']].corr(), annot=True)"
      ]
    },
    {
      "cell_type": "code",
      "execution_count": null,
      "id": "252a86f5",
      "metadata": {
        "scrolled": true,
        "id": "252a86f5",
        "outputId": "a16cf35f-df43-42ec-fa2a-158b10afd298"
      },
      "outputs": [
        {
          "data": {
            "image/png": "[encoded data removed]",
            "text/plain": [
              "<Figure size 432x432 with 1 Axes>"
            ]
          },
          "metadata": {
            "needs_background": "light"
          },
          "output_type": "display_data"
        }
      ],
      "source": [
        "ax = sns.catplot(x=\"hour\", y=\"CO2\", kind=\"box\", data=grouped_df, height=6, aspect=1)"
      ]
    },
    {
      "cell_type": "code",
      "execution_count": null,
      "id": "466eb8b1",
      "metadata": {
        "scrolled": true,
        "id": "466eb8b1",
        "outputId": "9fa91f56-875f-4b11-9239-90f9a0e5b476"
      },
      "outputs": [
        {
          "data": {
            "text/html": [
              "<div>\n",
              "<style scoped>\n",
              "    .dataframe tbody tr th:only-of-type {\n",
              "        vertical-align: middle;\n",
              "    }\n",
              "\n",
              "    .dataframe tbody tr th {\n",
              "        vertical-align: top;\n",
              "    }\n",
              "\n",
              "    .dataframe thead th {\n",
              "        text-align: right;\n",
              "    }\n",
              "</style>\n",
              "<table border=\"1\" class=\"dataframe\">\n",
              "  <thead>\n",
              "    <tr style=\"text-align: right;\">\n",
              "      <th></th>\n",
              "      <th>DATE/HEURE</th>\n",
              "      <th>NO</th>\n",
              "      <th>NO2</th>\n",
              "      <th>PM10</th>\n",
              "      <th>CO2</th>\n",
              "      <th>TEMP</th>\n",
              "      <th>HUMI</th>\n",
              "      <th>date</th>\n",
              "      <th>time</th>\n",
              "      <th>year</th>\n",
              "      <th>hour</th>\n",
              "    </tr>\n",
              "  </thead>\n",
              "  <tbody>\n",
              "    <tr>\n",
              "      <th>48884</th>\n",
              "      <td>2015-12-31 23:00:00+00:00</td>\n",
              "      <td>32.0</td>\n",
              "      <td>37.0</td>\n",
              "      <td>139.0</td>\n",
              "      <td>649.0</td>\n",
              "      <td>23.1</td>\n",
              "      <td>36.1</td>\n",
              "      <td>2015-12-31</td>\n",
              "      <td>23:00:00</td>\n",
              "      <td>2015</td>\n",
              "      <td>23</td>\n",
              "    </tr>\n",
              "    <tr>\n",
              "      <th>48885</th>\n",
              "      <td>2015-12-31 22:00:00+00:00</td>\n",
              "      <td>30.0</td>\n",
              "      <td>33.0</td>\n",
              "      <td>137.0</td>\n",
              "      <td>639.0</td>\n",
              "      <td>23.0</td>\n",
              "      <td>36.2</td>\n",
              "      <td>2015-12-31</td>\n",
              "      <td>22:00:00</td>\n",
              "      <td>2015</td>\n",
              "      <td>22</td>\n",
              "    </tr>\n",
              "  </tbody>\n",
              "</table>\n",
              "</div>"
            ],
            "text/plain": [
              "                     DATE/HEURE    NO   NO2   PM10    CO2  TEMP  HUMI  \\\n",
              "48884 2015-12-31 23:00:00+00:00  32.0  37.0  139.0  649.0  23.1  36.1   \n",
              "48885 2015-12-31 22:00:00+00:00  30.0  33.0  137.0  639.0  23.0  36.2   \n",
              "\n",
              "             date      time  year  hour  \n",
              "48884  2015-12-31  23:00:00  2015    23  \n",
              "48885  2015-12-31  22:00:00  2015    22  "
            ]
          },
          "execution_count": 99,
          "metadata": {},
          "output_type": "execute_result"
        }
      ],
      "source": [
        "grouped_df.head(2)"
      ]
    },
    {
      "cell_type": "code",
      "execution_count": null,
      "id": "0385c468",
      "metadata": {
        "id": "0385c468"
      },
      "outputs": [],
      "source": [
        "X = grouped_df[['hour', 'TEMP', 'HUMI']].values\n",
        "Y = grouped_df[['CO2']].values"
      ]
    },
    {
      "cell_type": "code",
      "execution_count": null,
      "id": "a129bd73",
      "metadata": {
        "id": "a129bd73"
      },
      "outputs": [],
      "source": [
        "from sklearn.model_selection import train_test_split\n",
        "X_train, X_test, y_train, y_test = train_test_split(X, Y, test_size=0.2, random_state=1)"
      ]
    },
    {
      "cell_type": "code",
      "execution_count": null,
      "id": "4fe6aa0b",
      "metadata": {
        "scrolled": true,
        "id": "4fe6aa0b",
        "outputId": "103902c2-297f-47d6-ec19-73abcf10a39e"
      },
      "outputs": [
        {
          "data": {
            "text/plain": [
              "LinearRegression()"
            ]
          },
          "execution_count": 107,
          "metadata": {},
          "output_type": "execute_result"
        }
      ],
      "source": [
        "from sklearn.linear_model import LinearRegression\n",
        "LR = LinearRegression()\n",
        "LR.fit(X_train, y_train)"
      ]
    },
    {
      "cell_type": "code",
      "execution_count": null,
      "id": "a05444c9",
      "metadata": {
        "id": "a05444c9",
        "outputId": "a1691570-e3db-4d9c-ccc9-64dfe020aa10"
      },
      "outputs": [
        {
          "data": {
            "text/plain": [
              "array([[680.0471807 ],\n",
              "       [734.19979307],\n",
              "       [536.332271  ],\n",
              "       ...,\n",
              "       [524.08416179],\n",
              "       [618.4566773 ],\n",
              "       [509.77293202]])"
            ]
          },
          "execution_count": 109,
          "metadata": {},
          "output_type": "execute_result"
        }
      ],
      "source": [
        "y_pred = LR.predict(X_test)\n",
        "y_pred"
      ]
    },
    {
      "cell_type": "code",
      "execution_count": null,
      "id": "4c1ac8dc",
      "metadata": {
        "id": "4c1ac8dc"
      },
      "outputs": [],
      "source": [
        "test_df=chatelet_df[chatelet_df['year'] > 2016]"
      ]
    },
    {
      "cell_type": "code",
      "execution_count": null,
      "id": "715bb4cb",
      "metadata": {
        "scrolled": true,
        "id": "715bb4cb",
        "outputId": "71eb42b2-bb18-4d70-a543-dc34b403001d"
      },
      "outputs": [
        {
          "data": {
            "text/plain": [
              "array([[18. , 20.9, 43.2],\n",
              "       [23. , 20.2, 42.7],\n",
              "       [ 5. , 26.8, 58. ],\n",
              "       ...,\n",
              "       [ 4. , 23.6, 37.9],\n",
              "       [12. , 19.8, 42.2],\n",
              "       [ 3. , 26.1, 41.5]])"
            ]
          },
          "execution_count": 123,
          "metadata": {},
          "output_type": "execute_result"
        }
      ],
      "source": [
        "X_test"
      ]
    },
    {
      "cell_type": "code",
      "execution_count": null,
      "id": "05deb8e6",
      "metadata": {
        "id": "05deb8e6"
      },
      "outputs": [],
      "source": [
        "test_df = test_df[['hour', 'TEMP', 'HUMI']]"
      ]
    },
    {
      "cell_type": "code",
      "execution_count": null,
      "id": "ee5a45c1",
      "metadata": {
        "scrolled": true,
        "id": "ee5a45c1",
        "outputId": "e014110d-ac40-4e12-a754-a0e348e68b61"
      },
      "outputs": [
        {
          "name": "stderr",
          "output_type": "stream",
          "text": [
            "C:\\Users\\Andreea STROIA\\anaconda3\\lib\\site-packages\\sklearn\\base.py:443: UserWarning: X has feature names, but LinearRegression was fitted without feature names\n",
            "  warnings.warn(\n"
          ]
        },
        {
          "data": {
            "text/plain": [
              "array([[497.7235442 ],\n",
              "       [740.12767956],\n",
              "       [728.37994881],\n",
              "       ...,\n",
              "       [529.83469281],\n",
              "       [519.00347581],\n",
              "       [509.05179563]])"
            ]
          },
          "execution_count": 127,
          "metadata": {},
          "output_type": "execute_result"
        }
      ],
      "source": [
        "y_pred_2022=LR.predict(test_df)\n",
        "y_pred_2022"
      ]
    },
    {
      "cell_type": "code",
      "execution_count": null,
      "id": "d39d8b16",
      "metadata": {
        "id": "d39d8b16",
        "outputId": "f729ed00-b8e5-463c-b377-55eca934fdd6"
      },
      "outputs": [
        {
          "name": "stdout",
          "output_type": "stream",
          "text": [
            "Collecting yellowbrick\n",
            "  Downloading yellowbrick-1.5-py3-none-any.whl (282 kB)\n",
            "Requirement already satisfied: scikit-learn>=1.0.0 in c:\\users\\andreea stroia\\anaconda3\\lib\\site-packages (from yellowbrick) (1.0.2)\n",
            "Requirement already satisfied: scipy>=1.0.0 in c:\\users\\andreea stroia\\anaconda3\\lib\\site-packages (from yellowbrick) (1.7.3)\n",
            "Requirement already satisfied: cycler>=0.10.0 in c:\\users\\andreea stroia\\anaconda3\\lib\\site-packages (from yellowbrick) (0.11.0)\n",
            "Requirement already satisfied: numpy>=1.16.0 in c:\\users\\andreea stroia\\anaconda3\\lib\\site-packages (from yellowbrick) (1.21.5)\n",
            "Requirement already satisfied: matplotlib!=3.0.0,>=2.0.2 in c:\\users\\andreea stroia\\anaconda3\\lib\\site-packages (from yellowbrick) (3.5.1)\n",
            "Requirement already satisfied: packaging>=20.0 in c:\\users\\andreea stroia\\anaconda3\\lib\\site-packages (from matplotlib!=3.0.0,>=2.0.2->yellowbrick) (21.3)\n",
            "Requirement already satisfied: pyparsing>=2.2.1 in c:\\users\\andreea stroia\\anaconda3\\lib\\site-packages (from matplotlib!=3.0.0,>=2.0.2->yellowbrick) (3.0.4)\n",
            "Requirement already satisfied: python-dateutil>=2.7 in c:\\users\\andreea stroia\\anaconda3\\lib\\site-packages (from matplotlib!=3.0.0,>=2.0.2->yellowbrick) (2.8.2)\n",
            "Requirement already satisfied: fonttools>=4.22.0 in c:\\users\\andreea stroia\\anaconda3\\lib\\site-packages (from matplotlib!=3.0.0,>=2.0.2->yellowbrick) (4.25.0)\n",
            "Requirement already satisfied: pillow>=6.2.0 in c:\\users\\andreea stroia\\anaconda3\\lib\\site-packages (from matplotlib!=3.0.0,>=2.0.2->yellowbrick) (9.0.1)\n",
            "Requirement already satisfied: kiwisolver>=1.0.1 in c:\\users\\andreea stroia\\anaconda3\\lib\\site-packages (from matplotlib!=3.0.0,>=2.0.2->yellowbrick) (1.3.2)\n",
            "Requirement already satisfied: six>=1.5 in c:\\users\\andreea stroia\\anaconda3\\lib\\site-packages (from python-dateutil>=2.7->matplotlib!=3.0.0,>=2.0.2->yellowbrick) (1.16.0)\n",
            "Requirement already satisfied: joblib>=0.11 in c:\\users\\andreea stroia\\anaconda3\\lib\\site-packages (from scikit-learn>=1.0.0->yellowbrick) (1.1.0)\n",
            "Requirement already satisfied: threadpoolctl>=2.0.0 in c:\\users\\andreea stroia\\anaconda3\\lib\\site-packages (from scikit-learn>=1.0.0->yellowbrick) (2.2.0)\n",
            "Installing collected packages: yellowbrick\n",
            "Successfully installed yellowbrick-1.5\n"
          ]
        }
      ],
      "source": [
        "! pip install yellowbrick"
      ]
    },
    {
      "cell_type": "code",
      "execution_count": null,
      "id": "5404a31a",
      "metadata": {
        "scrolled": true,
        "id": "5404a31a"
      },
      "outputs": [],
      "source": [
        "from yellowbrick.regressor import ResidualsPlot"
      ]
    },
    {
      "cell_type": "code",
      "execution_count": null,
      "id": "552acc4e",
      "metadata": {
        "scrolled": true,
        "id": "552acc4e",
        "outputId": "f7a92051-dd2f-4aad-d075-faf8e7691ad7"
      },
      "outputs": [
        {
          "data": {
            "image/png": "[encoded data removed]",
            "text/plain": [
              "<Figure size 576x396 with 2 Axes>"
            ]
          },
          "metadata": {},
          "output_type": "display_data"
        },
        {
          "data": {
            "text/plain": [
              "<AxesSubplot:title={'center':'Residuals for LinearRegression Model'}, xlabel='Predicted Value', ylabel='Residuals'>"
            ]
          },
          "execution_count": 136,
          "metadata": {},
          "output_type": "execute_result"
        }
      ],
      "source": [
        "visualizer = ResidualsPlot(LR)\n",
        "visualizer.fit(X_train, y_train)\n",
        "visualizer.score(X_test, y_test)\n",
        "visualizer.show()"
      ]
    },
    {
      "cell_type": "code",
      "execution_count": null,
      "id": "6b0649e5",
      "metadata": {
        "id": "6b0649e5",
        "outputId": "c139441a-7a21-4a97-e76e-42904a33eaa0"
      },
      "outputs": [
        {
          "data": {
            "text/plain": [
              "0.26878209165336897"
            ]
          },
          "execution_count": 137,
          "metadata": {},
          "output_type": "execute_result"
        }
      ],
      "source": [
        "from sklearn.metrics import r2_score\n",
        "r2_score(y_test, y_pred)"
      ]
    }
  ],
  "metadata": {
    "kernelspec": {
      "display_name": "Python 3 (ipykernel)",
      "language": "python",
      "name": "python3"
    },
    "language_info": {
      "codemirror_mode": {
        "name": "ipython",
        "version": 3
      },
      "file_extension": ".py",
      "mimetype": "text/x-python",
      "name": "python",
      "nbconvert_exporter": "python",
      "pygments_lexer": "ipython3",
      "version": "3.9.12"
    },
    "colab": {
      "provenance": []
    }
  },
  "nbformat": 4,
  "nbformat_minor": 5
}